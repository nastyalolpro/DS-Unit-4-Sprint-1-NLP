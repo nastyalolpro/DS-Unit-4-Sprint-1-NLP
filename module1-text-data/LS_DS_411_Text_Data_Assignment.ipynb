{
 "cells": [
  {
   "cell_type": "markdown",
   "metadata": {},
   "source": [
    "<img align=\"left\" src=\"https://lever-client-logos.s3.amazonaws.com/864372b1-534c-480e-acd5-9711f850815c-1524247202159.png\" width=200>\n",
    "<br></br>\n",
    "<br></br>\n",
    "\n",
    "# Natural Language Processing (NLP)\n",
    "## *Data Science Unit 4 Sprint 1 Assignment 1*\n",
    "\n",
    "Your goal in this assignment: find the attributes of the best & worst coffee shops in the dataset. The text is fairly raw: dates in the review, extra words in the `star_rating` column, etc. You'll probably want to clean that stuff up for a better analysis. \n",
    "\n",
    "Analyze the corpus of text using text visualizations of token frequency. Try cleaning the data as much as possible. Try the following techniques: \n",
    "- Lemmatization\n",
    "- Custom stopword removal\n",
    "\n",
    "Keep in mind the attributes of good tokens. Once you have a solid baseline, layer in the star rating in your visualization(s). Key part of this assignment - produce a write-up of the attributes of the best and worst coffee shops. Based on your analysis, what makes the best the best and the worst the worst. Use graphs and numbesr from your analysis to support your conclusions. There should be plenty of markdown cells! :coffee:"
   ]
  },
  {
   "cell_type": "code",
   "execution_count": 1,
   "metadata": {},
   "outputs": [
    {
     "data": {
      "image/jpeg": "[encoded data removed]",
      "text/html": [
       "\n",
       "        <iframe\n",
       "            width=\"400\"\n",
       "            height=\"300\"\n",
       "            src=\"https://www.youtube.com/embed/Jml7NVYm8cs\"\n",
       "            frameborder=\"0\"\n",
       "            allowfullscreen\n",
       "        ></iframe>\n",
       "        "
      ],
      "text/plain": [
       "<IPython.lib.display.YouTubeVideo at 0x7f8aeee6b860>"
      ]
     },
     "execution_count": 1,
     "metadata": {},
     "output_type": "execute_result"
    }
   ],
   "source": [
    "from IPython.display import YouTubeVideo\n",
    "\n",
    "YouTubeVideo('Jml7NVYm8cs')"
   ]
  },
  {
   "cell_type": "code",
   "execution_count": 2,
   "metadata": {},
   "outputs": [
    {
     "data": {
      "text/plain": [
       "'/Users/anastasialysenko/github_repos/DS-Unit-4-Sprint-1-NLP/module1-text-data'"
      ]
     },
     "execution_count": 2,
     "metadata": {},
     "output_type": "execute_result"
    }
   ],
   "source": [
    "%pwd"
   ]
  },
  {
   "cell_type": "code",
   "execution_count": 3,
   "metadata": {},
   "outputs": [
    {
     "data": {
      "text/html": [
       "<div>\n",
       "<style scoped>\n",
       "    .dataframe tbody tr th:only-of-type {\n",
       "        vertical-align: middle;\n",
       "    }\n",
       "\n",
       "    .dataframe tbody tr th {\n",
       "        vertical-align: top;\n",
       "    }\n",
       "\n",
       "    .dataframe thead th {\n",
       "        text-align: right;\n",
       "    }\n",
       "</style>\n",
       "<table border=\"1\" class=\"dataframe\">\n",
       "  <thead>\n",
       "    <tr style=\"text-align: right;\">\n",
       "      <th></th>\n",
       "      <th>coffee_shop_name</th>\n",
       "      <th>full_review_text</th>\n",
       "      <th>star_rating</th>\n",
       "    </tr>\n",
       "  </thead>\n",
       "  <tbody>\n",
       "    <tr>\n",
       "      <th>0</th>\n",
       "      <td>The Factory - Cafe With a Soul</td>\n",
       "      <td>11/25/2016 1 check-in Love love loved the atm...</td>\n",
       "      <td>5.0 star rating</td>\n",
       "    </tr>\n",
       "    <tr>\n",
       "      <th>1</th>\n",
       "      <td>The Factory - Cafe With a Soul</td>\n",
       "      <td>12/2/2016 Listed in Date Night: Austin, Ambia...</td>\n",
       "      <td>4.0 star rating</td>\n",
       "    </tr>\n",
       "    <tr>\n",
       "      <th>2</th>\n",
       "      <td>The Factory - Cafe With a Soul</td>\n",
       "      <td>11/30/2016 1 check-in Listed in Brunch Spots ...</td>\n",
       "      <td>4.0 star rating</td>\n",
       "    </tr>\n",
       "    <tr>\n",
       "      <th>3</th>\n",
       "      <td>The Factory - Cafe With a Soul</td>\n",
       "      <td>11/25/2016 Very cool decor! Good drinks Nice ...</td>\n",
       "      <td>2.0 star rating</td>\n",
       "    </tr>\n",
       "    <tr>\n",
       "      <th>4</th>\n",
       "      <td>The Factory - Cafe With a Soul</td>\n",
       "      <td>12/3/2016 1 check-in They are located within ...</td>\n",
       "      <td>4.0 star rating</td>\n",
       "    </tr>\n",
       "  </tbody>\n",
       "</table>\n",
       "</div>"
      ],
      "text/plain": [
       "                  coffee_shop_name  \\\n",
       "0  The Factory - Cafe With a Soul    \n",
       "1  The Factory - Cafe With a Soul    \n",
       "2  The Factory - Cafe With a Soul    \n",
       "3  The Factory - Cafe With a Soul    \n",
       "4  The Factory - Cafe With a Soul    \n",
       "\n",
       "                                    full_review_text        star_rating  \n",
       "0   11/25/2016 1 check-in Love love loved the atm...   5.0 star rating   \n",
       "1   12/2/2016 Listed in Date Night: Austin, Ambia...   4.0 star rating   \n",
       "2   11/30/2016 1 check-in Listed in Brunch Spots ...   4.0 star rating   \n",
       "3   11/25/2016 Very cool decor! Good drinks Nice ...   2.0 star rating   \n",
       "4   12/3/2016 1 check-in They are located within ...   4.0 star rating   "
      ]
     },
     "execution_count": 3,
     "metadata": {},
     "output_type": "execute_result"
    }
   ],
   "source": [
    "import pandas as pd\n",
    "\n",
    "url = \"https://raw.githubusercontent.com/LambdaSchool/DS-Unit-4-Sprint-1-NLP/main/module1-text-data/data/yelp_coffeeshop_review_data.csv\"\n",
    "\n",
    "shops = pd.read_csv(url)\n",
    "shops.head()"
   ]
  },
  {
   "cell_type": "code",
   "execution_count": 4,
   "metadata": {},
   "outputs": [
    {
     "data": {
      "text/plain": [
       "' 12/2/2016 Listed in Date Night: Austin, Ambiance in Austin BEAUTIFUL!!!! Love the ambiance! Instagram-worthy!!!  Definitely $$$, so be prepared. This is gonna cost you a pretty penny :) Waffle dessert was just decent...nothing to rave about.  But, will probably be back just to be somewhere unique and nice. '"
      ]
     },
     "execution_count": 4,
     "metadata": {},
     "output_type": "execute_result"
    }
   ],
   "source": [
    "shops['full_review_text'][1]"
   ]
  },
  {
   "cell_type": "code",
   "execution_count": 5,
   "metadata": {},
   "outputs": [
    {
     "name": "stdout",
     "output_type": "stream",
     "text": [
      "Collecting en_core_web_lg==2.2.5\n",
      "  Downloading https://github.com/explosion/spacy-models/releases/download/en_core_web_lg-2.2.5/en_core_web_lg-2.2.5.tar.gz (827.9 MB)\n",
      "\u001b[K     |████████████████████████████████| 827.9 MB 5.8 MB/s eta 0:00:014     |████████████████████████▍       | 629.7 MB 6.9 MB/s eta 0:00:29\n",
      "\u001b[?25hRequirement already satisfied: spacy>=2.2.2 in /Users/anastasialysenko/opt/anaconda3/envs/U4-S1-NLP/lib/python3.7/site-packages (from en_core_web_lg==2.2.5) (2.2.3)\n",
      "Requirement already satisfied: wasabi<1.1.0,>=0.4.0 in /Users/anastasialysenko/opt/anaconda3/envs/U4-S1-NLP/lib/python3.7/site-packages (from spacy>=2.2.2->en_core_web_lg==2.2.5) (0.8.2)\n",
      "Requirement already satisfied: cymem<2.1.0,>=2.0.2 in /Users/anastasialysenko/opt/anaconda3/envs/U4-S1-NLP/lib/python3.7/site-packages (from spacy>=2.2.2->en_core_web_lg==2.2.5) (2.0.5)\n",
      "Requirement already satisfied: catalogue<1.1.0,>=0.0.7 in /Users/anastasialysenko/opt/anaconda3/envs/U4-S1-NLP/lib/python3.7/site-packages (from spacy>=2.2.2->en_core_web_lg==2.2.5) (1.0.0)\n",
      "Requirement already satisfied: srsly<1.1.0,>=0.1.0 in /Users/anastasialysenko/opt/anaconda3/envs/U4-S1-NLP/lib/python3.7/site-packages (from spacy>=2.2.2->en_core_web_lg==2.2.5) (1.0.5)\n",
      "Requirement already satisfied: murmurhash<1.1.0,>=0.28.0 in /Users/anastasialysenko/opt/anaconda3/envs/U4-S1-NLP/lib/python3.7/site-packages (from spacy>=2.2.2->en_core_web_lg==2.2.5) (1.0.5)\n",
      "Requirement already satisfied: setuptools in /Users/anastasialysenko/opt/anaconda3/envs/U4-S1-NLP/lib/python3.7/site-packages (from spacy>=2.2.2->en_core_web_lg==2.2.5) (52.0.0.post20210125)\n",
      "Requirement already satisfied: preshed<3.1.0,>=3.0.2 in /Users/anastasialysenko/opt/anaconda3/envs/U4-S1-NLP/lib/python3.7/site-packages (from spacy>=2.2.2->en_core_web_lg==2.2.5) (3.0.5)\n",
      "Requirement already satisfied: plac<1.2.0,>=0.9.6 in /Users/anastasialysenko/opt/anaconda3/envs/U4-S1-NLP/lib/python3.7/site-packages (from spacy>=2.2.2->en_core_web_lg==2.2.5) (1.1.3)\n",
      "Requirement already satisfied: blis<0.5.0,>=0.4.0 in /Users/anastasialysenko/opt/anaconda3/envs/U4-S1-NLP/lib/python3.7/site-packages (from spacy>=2.2.2->en_core_web_lg==2.2.5) (0.4.1)\n",
      "Requirement already satisfied: requests<3.0.0,>=2.13.0 in /Users/anastasialysenko/opt/anaconda3/envs/U4-S1-NLP/lib/python3.7/site-packages (from spacy>=2.2.2->en_core_web_lg==2.2.5) (2.25.1)\n",
      "Requirement already satisfied: thinc<7.4.0,>=7.3.0 in /Users/anastasialysenko/opt/anaconda3/envs/U4-S1-NLP/lib/python3.7/site-packages (from spacy>=2.2.2->en_core_web_lg==2.2.5) (7.3.1)\n",
      "Requirement already satisfied: numpy>=1.15.0 in /Users/anastasialysenko/opt/anaconda3/envs/U4-S1-NLP/lib/python3.7/site-packages (from spacy>=2.2.2->en_core_web_lg==2.2.5) (1.20.1)\n",
      "Requirement already satisfied: importlib-metadata>=0.20 in /Users/anastasialysenko/opt/anaconda3/envs/U4-S1-NLP/lib/python3.7/site-packages (from catalogue<1.1.0,>=0.0.7->spacy>=2.2.2->en_core_web_lg==2.2.5) (3.7.2)\n",
      "Requirement already satisfied: zipp>=0.5 in /Users/anastasialysenko/opt/anaconda3/envs/U4-S1-NLP/lib/python3.7/site-packages (from importlib-metadata>=0.20->catalogue<1.1.0,>=0.0.7->spacy>=2.2.2->en_core_web_lg==2.2.5) (3.4.1)\n",
      "Requirement already satisfied: typing-extensions>=3.6.4 in /Users/anastasialysenko/opt/anaconda3/envs/U4-S1-NLP/lib/python3.7/site-packages (from importlib-metadata>=0.20->catalogue<1.1.0,>=0.0.7->spacy>=2.2.2->en_core_web_lg==2.2.5) (3.7.4.3)\n",
      "Requirement already satisfied: certifi>=2017.4.17 in /Users/anastasialysenko/opt/anaconda3/envs/U4-S1-NLP/lib/python3.7/site-packages (from requests<3.0.0,>=2.13.0->spacy>=2.2.2->en_core_web_lg==2.2.5) (2020.12.5)\n",
      "Requirement already satisfied: chardet<5,>=3.0.2 in /Users/anastasialysenko/opt/anaconda3/envs/U4-S1-NLP/lib/python3.7/site-packages (from requests<3.0.0,>=2.13.0->spacy>=2.2.2->en_core_web_lg==2.2.5) (4.0.0)\n",
      "Requirement already satisfied: urllib3<1.27,>=1.21.1 in /Users/anastasialysenko/opt/anaconda3/envs/U4-S1-NLP/lib/python3.7/site-packages (from requests<3.0.0,>=2.13.0->spacy>=2.2.2->en_core_web_lg==2.2.5) (1.26.3)\n",
      "Requirement already satisfied: idna<3,>=2.5 in /Users/anastasialysenko/opt/anaconda3/envs/U4-S1-NLP/lib/python3.7/site-packages (from requests<3.0.0,>=2.13.0->spacy>=2.2.2->en_core_web_lg==2.2.5) (2.10)\n",
      "Requirement already satisfied: tqdm<5.0.0,>=4.10.0 in /Users/anastasialysenko/opt/anaconda3/envs/U4-S1-NLP/lib/python3.7/site-packages (from thinc<7.4.0,>=7.3.0->spacy>=2.2.2->en_core_web_lg==2.2.5) (4.59.0)\n",
      "\u001b[38;5;2m✔ Download and installation successful\u001b[0m\n",
      "You can now load the model via spacy.load('en_core_web_lg')\n"
     ]
    }
   ],
   "source": [
    "!python -m spacy download en_core_web_lg"
   ]
  },
  {
   "cell_type": "code",
   "execution_count": 6,
   "metadata": {},
   "outputs": [],
   "source": [
    "# Start here \n",
    "from collections import Counter\n",
    "import spacy\n",
    "from spacy.tokenizer import Tokenizer\n",
    "import en_core_web_lg\n",
    "import re\n",
    "import squarify\n",
    "import matplotlib.pyplot as plt\n",
    "import seaborn as sns"
   ]
  },
  {
   "cell_type": "code",
   "execution_count": 7,
   "metadata": {},
   "outputs": [],
   "source": [
    "shops['review_date'] = shops['full_review_text'].apply(lambda x: re.findall(r'\\b[0-3]?[0-9]/[0-3]?[0-9]/(?:[0-9]{2})?[0-9]{2}\\b', x))\n",
    "shops['star_rating'] = shops['star_rating'].apply(lambda x: re.findall(r'[-+]?([0-9]*\\.[0-9]+|[0-9]+)', x))"
   ]
  },
  {
   "cell_type": "code",
   "execution_count": 8,
   "metadata": {},
   "outputs": [],
   "source": [
    "shops['review_date'] = shops['review_date'].apply(lambda x: x[0])\n",
    "shops['star_rating'] = shops['star_rating'].apply(lambda x: x[0])"
   ]
  },
  {
   "cell_type": "code",
   "execution_count": 9,
   "metadata": {},
   "outputs": [],
   "source": [
    "nlp = en_core_web_lg.load()\n",
    "tokenizer = Tokenizer(nlp.vocab)\n",
    "\n",
    "shops['full_review_text'] = shops['full_review_text'].apply(lambda x: re.sub(r'\\b[0-3]?[0-9]/[0-3]?[0-9]/(?:[0-9]{2})?[0-9]{2}\\b', '', x))\n",
    "# shops['full_review_text'] = shops['full_review_text'].apply(lambda x: re.sub('[^a-zA-Z ]+', '', x))\n",
    "# shops['full_review_text'] = shops['full_review_text'].apply(lambda x: [token.text for token in tokenizer(x.lower())])"
   ]
  },
  {
   "cell_type": "code",
   "execution_count": 10,
   "metadata": {},
   "outputs": [],
   "source": [
    "# nlp = spacy.load('en_core_web_md')\n",
    "\n",
    "# tokens = []\n",
    "# for doc in nlp.pipe(shops['full_review_text'], disable=['parser', 'tagger']):\n",
    "#     doc_tokens = []\n",
    "#     for token in doc:\n",
    "#         doc_tokens.append(token.text)\n",
    "#     tokens.append(doc_tokens)\n",
    "\n",
    "# shops['full_review_text'] = tokens"
   ]
  },
  {
   "cell_type": "code",
   "execution_count": 11,
   "metadata": {},
   "outputs": [
    {
     "data": {
      "text/html": [
       "<div>\n",
       "<style scoped>\n",
       "    .dataframe tbody tr th:only-of-type {\n",
       "        vertical-align: middle;\n",
       "    }\n",
       "\n",
       "    .dataframe tbody tr th {\n",
       "        vertical-align: top;\n",
       "    }\n",
       "\n",
       "    .dataframe thead th {\n",
       "        text-align: right;\n",
       "    }\n",
       "</style>\n",
       "<table border=\"1\" class=\"dataframe\">\n",
       "  <thead>\n",
       "    <tr style=\"text-align: right;\">\n",
       "      <th></th>\n",
       "      <th>coffee_shop_name</th>\n",
       "      <th>full_review_text</th>\n",
       "      <th>star_rating</th>\n",
       "      <th>review_date</th>\n",
       "    </tr>\n",
       "  </thead>\n",
       "  <tbody>\n",
       "    <tr>\n",
       "      <th>0</th>\n",
       "      <td>The Factory - Cafe With a Soul</td>\n",
       "      <td>1 check-in Love love loved the atmosphere! E...</td>\n",
       "      <td>5.0</td>\n",
       "      <td>11/25/2016</td>\n",
       "    </tr>\n",
       "    <tr>\n",
       "      <th>1</th>\n",
       "      <td>The Factory - Cafe With a Soul</td>\n",
       "      <td>Listed in Date Night: Austin, Ambiance in Au...</td>\n",
       "      <td>4.0</td>\n",
       "      <td>12/2/2016</td>\n",
       "    </tr>\n",
       "    <tr>\n",
       "      <th>2</th>\n",
       "      <td>The Factory - Cafe With a Soul</td>\n",
       "      <td>1 check-in Listed in Brunch Spots I loved th...</td>\n",
       "      <td>4.0</td>\n",
       "      <td>11/30/2016</td>\n",
       "    </tr>\n",
       "    <tr>\n",
       "      <th>3</th>\n",
       "      <td>The Factory - Cafe With a Soul</td>\n",
       "      <td>Very cool decor! Good drinks Nice seating  H...</td>\n",
       "      <td>2.0</td>\n",
       "      <td>11/25/2016</td>\n",
       "    </tr>\n",
       "    <tr>\n",
       "      <th>4</th>\n",
       "      <td>The Factory - Cafe With a Soul</td>\n",
       "      <td>1 check-in They are located within the North...</td>\n",
       "      <td>4.0</td>\n",
       "      <td>12/3/2016</td>\n",
       "    </tr>\n",
       "  </tbody>\n",
       "</table>\n",
       "</div>"
      ],
      "text/plain": [
       "                  coffee_shop_name  \\\n",
       "0  The Factory - Cafe With a Soul    \n",
       "1  The Factory - Cafe With a Soul    \n",
       "2  The Factory - Cafe With a Soul    \n",
       "3  The Factory - Cafe With a Soul    \n",
       "4  The Factory - Cafe With a Soul    \n",
       "\n",
       "                                    full_review_text star_rating review_date  \n",
       "0    1 check-in Love love loved the atmosphere! E...         5.0  11/25/2016  \n",
       "1    Listed in Date Night: Austin, Ambiance in Au...         4.0   12/2/2016  \n",
       "2    1 check-in Listed in Brunch Spots I loved th...         4.0  11/30/2016  \n",
       "3    Very cool decor! Good drinks Nice seating  H...         2.0  11/25/2016  \n",
       "4    1 check-in They are located within the North...         4.0   12/3/2016  "
      ]
     },
     "execution_count": 11,
     "metadata": {},
     "output_type": "execute_result"
    }
   ],
   "source": [
    "shops.head()"
   ]
  },
  {
   "cell_type": "code",
   "execution_count": 12,
   "metadata": {},
   "outputs": [],
   "source": [
    "# nlp = spacy.load('en_core_web_lg')\n",
    "stop_list = list(nlp.Defaults.stop_words)\n",
    "\n",
    "tokens = []\n",
    "for doc in nlp.pipe(shops['full_review_text'], disable=['parser', 'tagger']):\n",
    "    doc_tokens = []\n",
    "    for token in doc:\n",
    "        if ((token.text.strip()).isdigit()) or (token.text.strip() == ''):\n",
    "            pass\n",
    "        elif (token.is_stop == False) & (token.is_punct == False):\n",
    "            doc_tokens.append(token.text.lower())\n",
    "        else:\n",
    "            pass\n",
    "    tokens.append(doc_tokens)\n",
    "#     for token in doc:\n",
    "#         if (token.text in stop_list) or (token.text.strip() == ''):\n",
    "#             pass\n",
    "#         else:\n",
    "#             doc_tokens.append(token)\n",
    "#     tokens.append(doc_tokens)"
   ]
  },
  {
   "cell_type": "code",
   "execution_count": 13,
   "metadata": {},
   "outputs": [],
   "source": [
    "shops['spaCyTokens_01'] = tokens"
   ]
  },
  {
   "cell_type": "code",
   "execution_count": 14,
   "metadata": {},
   "outputs": [
    {
     "data": {
      "text/html": [
       "<div>\n",
       "<style scoped>\n",
       "    .dataframe tbody tr th:only-of-type {\n",
       "        vertical-align: middle;\n",
       "    }\n",
       "\n",
       "    .dataframe tbody tr th {\n",
       "        vertical-align: top;\n",
       "    }\n",
       "\n",
       "    .dataframe thead th {\n",
       "        text-align: right;\n",
       "    }\n",
       "</style>\n",
       "<table border=\"1\" class=\"dataframe\">\n",
       "  <thead>\n",
       "    <tr style=\"text-align: right;\">\n",
       "      <th></th>\n",
       "      <th>coffee_shop_name</th>\n",
       "      <th>full_review_text</th>\n",
       "      <th>star_rating</th>\n",
       "      <th>review_date</th>\n",
       "      <th>spaCyTokens_01</th>\n",
       "    </tr>\n",
       "  </thead>\n",
       "  <tbody>\n",
       "    <tr>\n",
       "      <th>0</th>\n",
       "      <td>The Factory - Cafe With a Soul</td>\n",
       "      <td>1 check-in Love love loved the atmosphere! E...</td>\n",
       "      <td>5.0</td>\n",
       "      <td>11/25/2016</td>\n",
       "      <td>[check, love, love, loved, atmosphere, corner,...</td>\n",
       "    </tr>\n",
       "    <tr>\n",
       "      <th>1</th>\n",
       "      <td>The Factory - Cafe With a Soul</td>\n",
       "      <td>Listed in Date Night: Austin, Ambiance in Au...</td>\n",
       "      <td>4.0</td>\n",
       "      <td>12/2/2016</td>\n",
       "      <td>[listed, date, night, austin, ambiance, austin...</td>\n",
       "    </tr>\n",
       "    <tr>\n",
       "      <th>2</th>\n",
       "      <td>The Factory - Cafe With a Soul</td>\n",
       "      <td>1 check-in Listed in Brunch Spots I loved th...</td>\n",
       "      <td>4.0</td>\n",
       "      <td>11/30/2016</td>\n",
       "      <td>[check, listed, brunch, spots, loved, eclectic...</td>\n",
       "    </tr>\n",
       "    <tr>\n",
       "      <th>3</th>\n",
       "      <td>The Factory - Cafe With a Soul</td>\n",
       "      <td>Very cool decor! Good drinks Nice seating  H...</td>\n",
       "      <td>2.0</td>\n",
       "      <td>11/25/2016</td>\n",
       "      <td>[cool, decor, good, drinks, nice, seating, ove...</td>\n",
       "    </tr>\n",
       "    <tr>\n",
       "      <th>4</th>\n",
       "      <td>The Factory - Cafe With a Soul</td>\n",
       "      <td>1 check-in They are located within the North...</td>\n",
       "      <td>4.0</td>\n",
       "      <td>12/3/2016</td>\n",
       "      <td>[check, located, northcross, mall, shopping, c...</td>\n",
       "    </tr>\n",
       "  </tbody>\n",
       "</table>\n",
       "</div>"
      ],
      "text/plain": [
       "                  coffee_shop_name  \\\n",
       "0  The Factory - Cafe With a Soul    \n",
       "1  The Factory - Cafe With a Soul    \n",
       "2  The Factory - Cafe With a Soul    \n",
       "3  The Factory - Cafe With a Soul    \n",
       "4  The Factory - Cafe With a Soul    \n",
       "\n",
       "                                    full_review_text star_rating review_date  \\\n",
       "0    1 check-in Love love loved the atmosphere! E...         5.0  11/25/2016   \n",
       "1    Listed in Date Night: Austin, Ambiance in Au...         4.0   12/2/2016   \n",
       "2    1 check-in Listed in Brunch Spots I loved th...         4.0  11/30/2016   \n",
       "3    Very cool decor! Good drinks Nice seating  H...         2.0  11/25/2016   \n",
       "4    1 check-in They are located within the North...         4.0   12/3/2016   \n",
       "\n",
       "                                      spaCyTokens_01  \n",
       "0  [check, love, love, loved, atmosphere, corner,...  \n",
       "1  [listed, date, night, austin, ambiance, austin...  \n",
       "2  [check, listed, brunch, spots, loved, eclectic...  \n",
       "3  [cool, decor, good, drinks, nice, seating, ove...  \n",
       "4  [check, located, northcross, mall, shopping, c...  "
      ]
     },
     "execution_count": 14,
     "metadata": {},
     "output_type": "execute_result"
    }
   ],
   "source": [
    "shops.head()"
   ]
  },
  {
   "cell_type": "code",
   "execution_count": 15,
   "metadata": {},
   "outputs": [],
   "source": [
    "def count(tokens):\n",
    "    \"\"\"\n",
    "    Calculates some basic statistics about tokens in our corpus (i.e. corpus means collections text data)\n",
    "    \"\"\"\n",
    "    # stores the count of each token\n",
    "    word_counts = Counter()\n",
    "    \n",
    "    # stores the number of docs that each token appears in \n",
    "    appears_in = Counter()\n",
    "\n",
    "    total_docs = len(tokens)\n",
    "\n",
    "    for token in tokens:\n",
    "        # stores count of every appearance of a token \n",
    "        word_counts.update(token)\n",
    "        # use set() in order to not count duplicates, thereby count the num of docs that each token appears in\n",
    "        appears_in.update(set(token))\n",
    "\n",
    "    # build word count dataframe\n",
    "    temp = zip(word_counts.keys(), word_counts.values())\n",
    "    wc = pd.DataFrame(temp, columns = ['word', 'count'])\n",
    "\n",
    "    # rank the the word counts\n",
    "    wc['rank'] = wc['count'].rank(method='first', ascending=False)\n",
    "    total = wc['count'].sum()\n",
    "\n",
    "    # calculate the percent total of each token\n",
    "    wc['pct_total'] = wc['count'].apply(lambda token_count: token_count / total)\n",
    "\n",
    "    # calculate the cumulative percent total of word counts \n",
    "    wc = wc.sort_values(by='rank')\n",
    "    wc['cul_pct_total'] = wc['pct_total'].cumsum()\n",
    "\n",
    "    # create dataframe for document stats\n",
    "    t2 = zip(appears_in.keys(), appears_in.values())\n",
    "    ac = pd.DataFrame(t2, columns=['word', 'appears_in'])\n",
    "    \n",
    "    # merge word count stats with doc stats\n",
    "    wc = ac.merge(wc, on='word')\n",
    "\n",
    "    wc['appears_in_pct'] = wc['appears_in'].apply(lambda x: x / total_docs)\n",
    "\n",
    "    return wc.sort_values(by='rank')"
   ]
  },
  {
   "cell_type": "code",
   "execution_count": 16,
   "metadata": {},
   "outputs": [
    {
     "data": {
      "image/png": "[encoded data removed]",
      "text/plain": [
       "<Figure size 432x288 with 1 Axes>"
      ]
     },
     "metadata": {
      "needs_background": "light"
     },
     "output_type": "display_data"
    }
   ],
   "source": [
    "wc = count(shops['spaCyTokens_01'])\n",
    "\n",
    "wc_top20 = wc[wc['rank'] <= 20]\n",
    "\n",
    "squarify.plot(sizes=wc_top20['pct_total'], label=wc_top20['word'], alpha=.8 )\n",
    "plt.axis('off')\n",
    "plt.show()"
   ]
  },
  {
   "cell_type": "code",
   "execution_count": 17,
   "metadata": {},
   "outputs": [],
   "source": [
    "STOP_WORDS = nlp.Defaults.stop_words.union(['coffee', 'austin', 'place', 'shop', 'check', 'got', 'go'])\n",
    "\n",
    "tokens = []\n",
    "for doc in nlp.pipe(shops['full_review_text'], disable=['parser', 'tagger']):\n",
    "    doc_tokens = []\n",
    "    for token in doc:\n",
    "        if ((token.text.strip()).isdigit()) or (token.text.strip() == ''):\n",
    "            pass\n",
    "        elif (token.text.lower() not in STOP_WORDS) & (token.is_punct == False):\n",
    "            doc_tokens.append(token.text.lower())\n",
    "        else:\n",
    "            pass\n",
    "    tokens.append(doc_tokens)\n",
    "    \n",
    "shops['spaCyTokens_02'] = tokens"
   ]
  },
  {
   "cell_type": "code",
   "execution_count": 18,
   "metadata": {},
   "outputs": [
    {
     "data": {
      "image/png": "[encoded data removed]",
      "text/plain": [
       "<Figure size 432x288 with 1 Axes>"
      ]
     },
     "metadata": {
      "needs_background": "light"
     },
     "output_type": "display_data"
    }
   ],
   "source": [
    "wc = count(shops['spaCyTokens_02'])\n",
    "\n",
    "wc_top20 = wc[wc['rank'] <= 20]\n",
    "\n",
    "squarify.plot(sizes=wc_top20['pct_total'], label=wc_top20['word'], alpha=.8 )\n",
    "plt.axis('off')\n",
    "plt.show()"
   ]
  },
  {
   "cell_type": "code",
   "execution_count": 19,
   "metadata": {},
   "outputs": [
    {
     "data": {
      "text/html": [
       "<div>\n",
       "<style scoped>\n",
       "    .dataframe tbody tr th:only-of-type {\n",
       "        vertical-align: middle;\n",
       "    }\n",
       "\n",
       "    .dataframe tbody tr th {\n",
       "        vertical-align: top;\n",
       "    }\n",
       "\n",
       "    .dataframe thead th {\n",
       "        text-align: right;\n",
       "    }\n",
       "</style>\n",
       "<table border=\"1\" class=\"dataframe\">\n",
       "  <thead>\n",
       "    <tr style=\"text-align: right;\">\n",
       "      <th></th>\n",
       "      <th>word</th>\n",
       "      <th>appears_in</th>\n",
       "      <th>count</th>\n",
       "      <th>rank</th>\n",
       "      <th>pct_total</th>\n",
       "      <th>cul_pct_total</th>\n",
       "      <th>appears_in_pct</th>\n",
       "    </tr>\n",
       "  </thead>\n",
       "  <tbody>\n",
       "    <tr>\n",
       "      <th>144</th>\n",
       "      <td>good</td>\n",
       "      <td>2792</td>\n",
       "      <td>3986</td>\n",
       "      <td>1.0</td>\n",
       "      <td>0.012077</td>\n",
       "      <td>0.012077</td>\n",
       "      <td>0.366597</td>\n",
       "    </tr>\n",
       "    <tr>\n",
       "      <th>62</th>\n",
       "      <td>great</td>\n",
       "      <td>2843</td>\n",
       "      <td>3933</td>\n",
       "      <td>2.0</td>\n",
       "      <td>0.011917</td>\n",
       "      <td>0.023994</td>\n",
       "      <td>0.373293</td>\n",
       "    </tr>\n",
       "    <tr>\n",
       "      <th>156</th>\n",
       "      <td>like</td>\n",
       "      <td>2142</td>\n",
       "      <td>3125</td>\n",
       "      <td>3.0</td>\n",
       "      <td>0.009468</td>\n",
       "      <td>0.033462</td>\n",
       "      <td>0.281250</td>\n",
       "    </tr>\n",
       "    <tr>\n",
       "      <th>35</th>\n",
       "      <td>love</td>\n",
       "      <td>1499</td>\n",
       "      <td>1942</td>\n",
       "      <td>4.0</td>\n",
       "      <td>0.005884</td>\n",
       "      <td>0.039346</td>\n",
       "      <td>0.196822</td>\n",
       "    </tr>\n",
       "    <tr>\n",
       "      <th>497</th>\n",
       "      <td>time</td>\n",
       "      <td>1487</td>\n",
       "      <td>1905</td>\n",
       "      <td>5.0</td>\n",
       "      <td>0.005772</td>\n",
       "      <td>0.045118</td>\n",
       "      <td>0.195247</td>\n",
       "    </tr>\n",
       "    <tr>\n",
       "      <th>384</th>\n",
       "      <td>food</td>\n",
       "      <td>1389</td>\n",
       "      <td>1868</td>\n",
       "      <td>6.0</td>\n",
       "      <td>0.005660</td>\n",
       "      <td>0.050778</td>\n",
       "      <td>0.182379</td>\n",
       "    </tr>\n",
       "    <tr>\n",
       "      <th>39</th>\n",
       "      <td>nice</td>\n",
       "      <td>1470</td>\n",
       "      <td>1751</td>\n",
       "      <td>7.0</td>\n",
       "      <td>0.005305</td>\n",
       "      <td>0.056083</td>\n",
       "      <td>0.193015</td>\n",
       "    </tr>\n",
       "    <tr>\n",
       "      <th>172</th>\n",
       "      <td>friendly</td>\n",
       "      <td>1611</td>\n",
       "      <td>1704</td>\n",
       "      <td>8.0</td>\n",
       "      <td>0.005163</td>\n",
       "      <td>0.061246</td>\n",
       "      <td>0.211528</td>\n",
       "    </tr>\n",
       "    <tr>\n",
       "      <th>36</th>\n",
       "      <td>latte</td>\n",
       "      <td>1135</td>\n",
       "      <td>1632</td>\n",
       "      <td>9.0</td>\n",
       "      <td>0.004945</td>\n",
       "      <td>0.066191</td>\n",
       "      <td>0.149028</td>\n",
       "    </tr>\n",
       "    <tr>\n",
       "      <th>620</th>\n",
       "      <td>little</td>\n",
       "      <td>1243</td>\n",
       "      <td>1506</td>\n",
       "      <td>10.0</td>\n",
       "      <td>0.004563</td>\n",
       "      <td>0.070754</td>\n",
       "      <td>0.163209</td>\n",
       "    </tr>\n",
       "  </tbody>\n",
       "</table>\n",
       "</div>"
      ],
      "text/plain": [
       "         word  appears_in  count  rank  pct_total  cul_pct_total  \\\n",
       "144      good        2792   3986   1.0   0.012077       0.012077   \n",
       "62      great        2843   3933   2.0   0.011917       0.023994   \n",
       "156      like        2142   3125   3.0   0.009468       0.033462   \n",
       "35       love        1499   1942   4.0   0.005884       0.039346   \n",
       "497      time        1487   1905   5.0   0.005772       0.045118   \n",
       "384      food        1389   1868   6.0   0.005660       0.050778   \n",
       "39       nice        1470   1751   7.0   0.005305       0.056083   \n",
       "172  friendly        1611   1704   8.0   0.005163       0.061246   \n",
       "36      latte        1135   1632   9.0   0.004945       0.066191   \n",
       "620    little        1243   1506  10.0   0.004563       0.070754   \n",
       "\n",
       "     appears_in_pct  \n",
       "144        0.366597  \n",
       "62         0.373293  \n",
       "156        0.281250  \n",
       "35         0.196822  \n",
       "497        0.195247  \n",
       "384        0.182379  \n",
       "39         0.193015  \n",
       "172        0.211528  \n",
       "36         0.149028  \n",
       "620        0.163209  "
      ]
     },
     "execution_count": 19,
     "metadata": {},
     "output_type": "execute_result"
    }
   ],
   "source": [
    "wc.head(10)"
   ]
  },
  {
   "cell_type": "code",
   "execution_count": 20,
   "metadata": {},
   "outputs": [
    {
     "data": {
      "text/html": [
       "<div>\n",
       "<style scoped>\n",
       "    .dataframe tbody tr th:only-of-type {\n",
       "        vertical-align: middle;\n",
       "    }\n",
       "\n",
       "    .dataframe tbody tr th {\n",
       "        vertical-align: top;\n",
       "    }\n",
       "\n",
       "    .dataframe thead th {\n",
       "        text-align: right;\n",
       "    }\n",
       "</style>\n",
       "<table border=\"1\" class=\"dataframe\">\n",
       "  <thead>\n",
       "    <tr style=\"text-align: right;\">\n",
       "      <th></th>\n",
       "      <th>word</th>\n",
       "      <th>appears_in</th>\n",
       "      <th>count</th>\n",
       "      <th>rank</th>\n",
       "      <th>pct_total</th>\n",
       "      <th>cul_pct_total</th>\n",
       "      <th>appears_in_pct</th>\n",
       "    </tr>\n",
       "  </thead>\n",
       "  <tbody>\n",
       "    <tr>\n",
       "      <th>17832</th>\n",
       "      <td>offsetting</td>\n",
       "      <td>1</td>\n",
       "      <td>1</td>\n",
       "      <td>17836.0</td>\n",
       "      <td>0.000003</td>\n",
       "      <td>0.999973</td>\n",
       "      <td>0.000131</td>\n",
       "    </tr>\n",
       "    <tr>\n",
       "      <th>17838</th>\n",
       "      <td>romaine</td>\n",
       "      <td>1</td>\n",
       "      <td>1</td>\n",
       "      <td>17837.0</td>\n",
       "      <td>0.000003</td>\n",
       "      <td>0.999976</td>\n",
       "      <td>0.000131</td>\n",
       "    </tr>\n",
       "    <tr>\n",
       "      <th>17837</th>\n",
       "      <td>rib</td>\n",
       "      <td>1</td>\n",
       "      <td>1</td>\n",
       "      <td>17838.0</td>\n",
       "      <td>0.000003</td>\n",
       "      <td>0.999979</td>\n",
       "      <td>0.000131</td>\n",
       "    </tr>\n",
       "    <tr>\n",
       "      <th>17835</th>\n",
       "      <td>predictably</td>\n",
       "      <td>1</td>\n",
       "      <td>1</td>\n",
       "      <td>17839.0</td>\n",
       "      <td>0.000003</td>\n",
       "      <td>0.999982</td>\n",
       "      <td>0.000131</td>\n",
       "    </tr>\n",
       "    <tr>\n",
       "      <th>17836</th>\n",
       "      <td>blts</td>\n",
       "      <td>1</td>\n",
       "      <td>1</td>\n",
       "      <td>17840.0</td>\n",
       "      <td>0.000003</td>\n",
       "      <td>0.999985</td>\n",
       "      <td>0.000131</td>\n",
       "    </tr>\n",
       "    <tr>\n",
       "      <th>17840</th>\n",
       "      <td>roomier</td>\n",
       "      <td>1</td>\n",
       "      <td>1</td>\n",
       "      <td>17841.0</td>\n",
       "      <td>0.000003</td>\n",
       "      <td>0.999988</td>\n",
       "      <td>0.000131</td>\n",
       "    </tr>\n",
       "    <tr>\n",
       "      <th>17839</th>\n",
       "      <td>windowed</td>\n",
       "      <td>1</td>\n",
       "      <td>1</td>\n",
       "      <td>17842.0</td>\n",
       "      <td>0.000003</td>\n",
       "      <td>0.999991</td>\n",
       "      <td>0.000131</td>\n",
       "    </tr>\n",
       "    <tr>\n",
       "      <th>17842</th>\n",
       "      <td>actuality</td>\n",
       "      <td>1</td>\n",
       "      <td>1</td>\n",
       "      <td>17843.0</td>\n",
       "      <td>0.000003</td>\n",
       "      <td>0.999994</td>\n",
       "      <td>0.000131</td>\n",
       "    </tr>\n",
       "    <tr>\n",
       "      <th>17841</th>\n",
       "      <td>crass</td>\n",
       "      <td>1</td>\n",
       "      <td>1</td>\n",
       "      <td>17844.0</td>\n",
       "      <td>0.000003</td>\n",
       "      <td>0.999997</td>\n",
       "      <td>0.000131</td>\n",
       "    </tr>\n",
       "    <tr>\n",
       "      <th>17844</th>\n",
       "      <td>digestion</td>\n",
       "      <td>1</td>\n",
       "      <td>1</td>\n",
       "      <td>17845.0</td>\n",
       "      <td>0.000003</td>\n",
       "      <td>1.000000</td>\n",
       "      <td>0.000131</td>\n",
       "    </tr>\n",
       "  </tbody>\n",
       "</table>\n",
       "</div>"
      ],
      "text/plain": [
       "              word  appears_in  count     rank  pct_total  cul_pct_total  \\\n",
       "17832   offsetting           1      1  17836.0   0.000003       0.999973   \n",
       "17838      romaine           1      1  17837.0   0.000003       0.999976   \n",
       "17837          rib           1      1  17838.0   0.000003       0.999979   \n",
       "17835  predictably           1      1  17839.0   0.000003       0.999982   \n",
       "17836         blts           1      1  17840.0   0.000003       0.999985   \n",
       "17840      roomier           1      1  17841.0   0.000003       0.999988   \n",
       "17839     windowed           1      1  17842.0   0.000003       0.999991   \n",
       "17842    actuality           1      1  17843.0   0.000003       0.999994   \n",
       "17841        crass           1      1  17844.0   0.000003       0.999997   \n",
       "17844    digestion           1      1  17845.0   0.000003       1.000000   \n",
       "\n",
       "       appears_in_pct  \n",
       "17832        0.000131  \n",
       "17838        0.000131  \n",
       "17837        0.000131  \n",
       "17835        0.000131  \n",
       "17836        0.000131  \n",
       "17840        0.000131  \n",
       "17839        0.000131  \n",
       "17842        0.000131  \n",
       "17841        0.000131  \n",
       "17844        0.000131  "
      ]
     },
     "execution_count": 20,
     "metadata": {},
     "output_type": "execute_result"
    }
   ],
   "source": [
    "wc.tail(10)"
   ]
  },
  {
   "cell_type": "code",
   "execution_count": 21,
   "metadata": {},
   "outputs": [
    {
     "data": {
      "image/png": "[encoded data removed]",
      "text/plain": [
       "<Figure size 432x288 with 1 Axes>"
      ]
     },
     "metadata": {
      "needs_background": "light"
     },
     "output_type": "display_data"
    }
   ],
   "source": [
    "sns.lineplot(x='rank', y='cul_pct_total', data=wc);"
   ]
  },
  {
   "cell_type": "code",
   "execution_count": 22,
   "metadata": {},
   "outputs": [
    {
     "name": "stdout",
     "output_type": "stream",
     "text": [
      "(17845, 7)\n"
     ]
    },
    {
     "data": {
      "image/png": "[encoded data removed]",
      "text/plain": [
       "<Figure size 432x288 with 1 Axes>"
      ]
     },
     "metadata": {
      "needs_background": "light"
     },
     "output_type": "display_data"
    }
   ],
   "source": [
    "print(wc.shape)\n",
    "sns.distplot(wc['appears_in_pct']);"
   ]
  },
  {
   "cell_type": "code",
   "execution_count": 23,
   "metadata": {},
   "outputs": [
    {
     "name": "stdout",
     "output_type": "stream",
     "text": [
      "(3955, 7)\n"
     ]
    },
    {
     "data": {
      "image/png": "[encoded data removed]",
      "text/plain": [
       "<Figure size 432x288 with 1 Axes>"
      ]
     },
     "metadata": {
      "needs_background": "light"
     },
     "output_type": "display_data"
    }
   ],
   "source": [
    "wc_reduced = wc[wc['appears_in_pct'] >= 0.001]\n",
    "\n",
    "print(wc_reduced.shape)\n",
    "sns.distplot(wc_reduced['appears_in_pct']);"
   ]
  },
  {
   "cell_type": "code",
   "execution_count": 24,
   "metadata": {},
   "outputs": [
    {
     "data": {
      "image/png": "[encoded data removed]",
      "text/plain": [
       "<Figure size 432x288 with 1 Axes>"
      ]
     },
     "metadata": {
      "needs_background": "light"
     },
     "output_type": "display_data"
    }
   ],
   "source": [
    "sns.lineplot(x='rank', y='cul_pct_total', data=wc_reduced);"
   ]
  },
  {
   "cell_type": "code",
   "execution_count": 25,
   "metadata": {},
   "outputs": [],
   "source": [
    "tokens = []\n",
    "for doc in nlp.pipe(shops['full_review_text'], disable=['parser', 'tagger']):\n",
    "    doc_tokens = []\n",
    "    for token in doc:\n",
    "        if ((token.text.strip()).isdigit()) or (token.text.strip() == ''):\n",
    "            pass\n",
    "        elif (token.text.lower() not in STOP_WORDS) & (token.is_punct == False) & (token.pos_ != 'PRON'):\n",
    "            doc_tokens.append(token.lemma_.lower())\n",
    "        else:\n",
    "            pass\n",
    "    tokens.append(doc_tokens)\n",
    "    \n",
    "shops['spaCyLemmas_01'] = tokens"
   ]
  },
  {
   "cell_type": "code",
   "execution_count": 26,
   "metadata": {},
   "outputs": [
    {
     "data": {
      "text/html": [
       "<div>\n",
       "<style scoped>\n",
       "    .dataframe tbody tr th:only-of-type {\n",
       "        vertical-align: middle;\n",
       "    }\n",
       "\n",
       "    .dataframe tbody tr th {\n",
       "        vertical-align: top;\n",
       "    }\n",
       "\n",
       "    .dataframe thead th {\n",
       "        text-align: right;\n",
       "    }\n",
       "</style>\n",
       "<table border=\"1\" class=\"dataframe\">\n",
       "  <thead>\n",
       "    <tr style=\"text-align: right;\">\n",
       "      <th></th>\n",
       "      <th>coffee_shop_name</th>\n",
       "      <th>full_review_text</th>\n",
       "      <th>star_rating</th>\n",
       "      <th>review_date</th>\n",
       "      <th>spaCyTokens_01</th>\n",
       "      <th>spaCyTokens_02</th>\n",
       "      <th>spaCyLemmas_01</th>\n",
       "    </tr>\n",
       "  </thead>\n",
       "  <tbody>\n",
       "    <tr>\n",
       "      <th>0</th>\n",
       "      <td>The Factory - Cafe With a Soul</td>\n",
       "      <td>1 check-in Love love loved the atmosphere! E...</td>\n",
       "      <td>5.0</td>\n",
       "      <td>11/25/2016</td>\n",
       "      <td>[check, love, love, loved, atmosphere, corner,...</td>\n",
       "      <td>[love, love, loved, atmosphere, corner, style,...</td>\n",
       "      <td>[love, love, love, atmosphere, corner, style, ...</td>\n",
       "    </tr>\n",
       "    <tr>\n",
       "      <th>1</th>\n",
       "      <td>The Factory - Cafe With a Soul</td>\n",
       "      <td>Listed in Date Night: Austin, Ambiance in Au...</td>\n",
       "      <td>4.0</td>\n",
       "      <td>12/2/2016</td>\n",
       "      <td>[listed, date, night, austin, ambiance, austin...</td>\n",
       "      <td>[listed, date, night, ambiance, beautiful, lov...</td>\n",
       "      <td>[listed, date, night, ambiance, beautiful, lov...</td>\n",
       "    </tr>\n",
       "    <tr>\n",
       "      <th>2</th>\n",
       "      <td>The Factory - Cafe With a Soul</td>\n",
       "      <td>1 check-in Listed in Brunch Spots I loved th...</td>\n",
       "      <td>4.0</td>\n",
       "      <td>11/30/2016</td>\n",
       "      <td>[check, listed, brunch, spots, loved, eclectic...</td>\n",
       "      <td>[listed, brunch, spots, loved, eclectic, homey...</td>\n",
       "      <td>[listed, brunch, spots, love, eclectic, homey,...</td>\n",
       "    </tr>\n",
       "    <tr>\n",
       "      <th>3</th>\n",
       "      <td>The Factory - Cafe With a Soul</td>\n",
       "      <td>Very cool decor! Good drinks Nice seating  H...</td>\n",
       "      <td>2.0</td>\n",
       "      <td>11/25/2016</td>\n",
       "      <td>[cool, decor, good, drinks, nice, seating, ove...</td>\n",
       "      <td>[cool, decor, good, drinks, nice, seating, ove...</td>\n",
       "      <td>[cool, decor, good, drink, nice, seat, overpri...</td>\n",
       "    </tr>\n",
       "    <tr>\n",
       "      <th>4</th>\n",
       "      <td>The Factory - Cafe With a Soul</td>\n",
       "      <td>1 check-in They are located within the North...</td>\n",
       "      <td>4.0</td>\n",
       "      <td>12/3/2016</td>\n",
       "      <td>[check, located, northcross, mall, shopping, c...</td>\n",
       "      <td>[located, northcross, mall, shopping, center, ...</td>\n",
       "      <td>[locate, northcross, mall, shop, center, face,...</td>\n",
       "    </tr>\n",
       "  </tbody>\n",
       "</table>\n",
       "</div>"
      ],
      "text/plain": [
       "                  coffee_shop_name  \\\n",
       "0  The Factory - Cafe With a Soul    \n",
       "1  The Factory - Cafe With a Soul    \n",
       "2  The Factory - Cafe With a Soul    \n",
       "3  The Factory - Cafe With a Soul    \n",
       "4  The Factory - Cafe With a Soul    \n",
       "\n",
       "                                    full_review_text star_rating review_date  \\\n",
       "0    1 check-in Love love loved the atmosphere! E...         5.0  11/25/2016   \n",
       "1    Listed in Date Night: Austin, Ambiance in Au...         4.0   12/2/2016   \n",
       "2    1 check-in Listed in Brunch Spots I loved th...         4.0  11/30/2016   \n",
       "3    Very cool decor! Good drinks Nice seating  H...         2.0  11/25/2016   \n",
       "4    1 check-in They are located within the North...         4.0   12/3/2016   \n",
       "\n",
       "                                      spaCyTokens_01  \\\n",
       "0  [check, love, love, loved, atmosphere, corner,...   \n",
       "1  [listed, date, night, austin, ambiance, austin...   \n",
       "2  [check, listed, brunch, spots, loved, eclectic...   \n",
       "3  [cool, decor, good, drinks, nice, seating, ove...   \n",
       "4  [check, located, northcross, mall, shopping, c...   \n",
       "\n",
       "                                      spaCyTokens_02  \\\n",
       "0  [love, love, loved, atmosphere, corner, style,...   \n",
       "1  [listed, date, night, ambiance, beautiful, lov...   \n",
       "2  [listed, brunch, spots, loved, eclectic, homey...   \n",
       "3  [cool, decor, good, drinks, nice, seating, ove...   \n",
       "4  [located, northcross, mall, shopping, center, ...   \n",
       "\n",
       "                                      spaCyLemmas_01  \n",
       "0  [love, love, love, atmosphere, corner, style, ...  \n",
       "1  [listed, date, night, ambiance, beautiful, lov...  \n",
       "2  [listed, brunch, spots, love, eclectic, homey,...  \n",
       "3  [cool, decor, good, drink, nice, seat, overpri...  \n",
       "4  [locate, northcross, mall, shop, center, face,...  "
      ]
     },
     "execution_count": 26,
     "metadata": {},
     "output_type": "execute_result"
    }
   ],
   "source": [
    "shops.head()"
   ]
  },
  {
   "cell_type": "code",
   "execution_count": 27,
   "metadata": {},
   "outputs": [
    {
     "data": {
      "image/png": "[encoded data removed]",
      "text/plain": [
       "<Figure size 432x288 with 1 Axes>"
      ]
     },
     "metadata": {
      "needs_background": "light"
     },
     "output_type": "display_data"
    }
   ],
   "source": [
    "wc = count(shops['spaCyLemmas_01'])\n",
    "wc_top20 = wc[wc['rank'] < 20]\n",
    "\n",
    "squarify.plot(sizes=wc_top20['pct_total'], label=wc_top20['word'], alpha=.8)\n",
    "plt.axis('off')\n",
    "plt.show()"
   ]
  },
  {
   "cell_type": "code",
   "execution_count": 28,
   "metadata": {},
   "outputs": [],
   "source": [
    "lemmas = []\n",
    "for doc in shops['spaCyLemmas_01']:\n",
    "    doc_lemmas = []\n",
    "    for lemma in doc:\n",
    "        if lemma == 'great':\n",
    "            doc_lemmas.append('good')\n",
    "        elif lemma == 'love':\n",
    "            doc_lemmas.append('like')\n",
    "        else:\n",
    "            doc_lemmas.append(lemma)\n",
    "    lemmas.append(doc_lemmas)\n",
    "    \n",
    "shops['spaCyLemmas_02'] = lemmas"
   ]
  },
  {
   "cell_type": "code",
   "execution_count": 29,
   "metadata": {},
   "outputs": [
    {
     "data": {
      "text/html": [
       "<div>\n",
       "<style scoped>\n",
       "    .dataframe tbody tr th:only-of-type {\n",
       "        vertical-align: middle;\n",
       "    }\n",
       "\n",
       "    .dataframe tbody tr th {\n",
       "        vertical-align: top;\n",
       "    }\n",
       "\n",
       "    .dataframe thead th {\n",
       "        text-align: right;\n",
       "    }\n",
       "</style>\n",
       "<table border=\"1\" class=\"dataframe\">\n",
       "  <thead>\n",
       "    <tr style=\"text-align: right;\">\n",
       "      <th></th>\n",
       "      <th>coffee_shop_name</th>\n",
       "      <th>full_review_text</th>\n",
       "      <th>star_rating</th>\n",
       "      <th>review_date</th>\n",
       "      <th>spaCyTokens_01</th>\n",
       "      <th>spaCyTokens_02</th>\n",
       "      <th>spaCyLemmas_01</th>\n",
       "      <th>spaCyLemmas_02</th>\n",
       "    </tr>\n",
       "  </thead>\n",
       "  <tbody>\n",
       "    <tr>\n",
       "      <th>0</th>\n",
       "      <td>The Factory - Cafe With a Soul</td>\n",
       "      <td>1 check-in Love love loved the atmosphere! E...</td>\n",
       "      <td>5.0</td>\n",
       "      <td>11/25/2016</td>\n",
       "      <td>[check, love, love, loved, atmosphere, corner,...</td>\n",
       "      <td>[love, love, loved, atmosphere, corner, style,...</td>\n",
       "      <td>[love, love, love, atmosphere, corner, style, ...</td>\n",
       "      <td>[like, like, like, atmosphere, corner, style, ...</td>\n",
       "    </tr>\n",
       "    <tr>\n",
       "      <th>1</th>\n",
       "      <td>The Factory - Cafe With a Soul</td>\n",
       "      <td>Listed in Date Night: Austin, Ambiance in Au...</td>\n",
       "      <td>4.0</td>\n",
       "      <td>12/2/2016</td>\n",
       "      <td>[listed, date, night, austin, ambiance, austin...</td>\n",
       "      <td>[listed, date, night, ambiance, beautiful, lov...</td>\n",
       "      <td>[listed, date, night, ambiance, beautiful, lov...</td>\n",
       "      <td>[listed, date, night, ambiance, beautiful, lik...</td>\n",
       "    </tr>\n",
       "    <tr>\n",
       "      <th>2</th>\n",
       "      <td>The Factory - Cafe With a Soul</td>\n",
       "      <td>1 check-in Listed in Brunch Spots I loved th...</td>\n",
       "      <td>4.0</td>\n",
       "      <td>11/30/2016</td>\n",
       "      <td>[check, listed, brunch, spots, loved, eclectic...</td>\n",
       "      <td>[listed, brunch, spots, loved, eclectic, homey...</td>\n",
       "      <td>[listed, brunch, spots, love, eclectic, homey,...</td>\n",
       "      <td>[listed, brunch, spots, like, eclectic, homey,...</td>\n",
       "    </tr>\n",
       "    <tr>\n",
       "      <th>3</th>\n",
       "      <td>The Factory - Cafe With a Soul</td>\n",
       "      <td>Very cool decor! Good drinks Nice seating  H...</td>\n",
       "      <td>2.0</td>\n",
       "      <td>11/25/2016</td>\n",
       "      <td>[cool, decor, good, drinks, nice, seating, ove...</td>\n",
       "      <td>[cool, decor, good, drinks, nice, seating, ove...</td>\n",
       "      <td>[cool, decor, good, drink, nice, seat, overpri...</td>\n",
       "      <td>[cool, decor, good, drink, nice, seat, overpri...</td>\n",
       "    </tr>\n",
       "    <tr>\n",
       "      <th>4</th>\n",
       "      <td>The Factory - Cafe With a Soul</td>\n",
       "      <td>1 check-in They are located within the North...</td>\n",
       "      <td>4.0</td>\n",
       "      <td>12/3/2016</td>\n",
       "      <td>[check, located, northcross, mall, shopping, c...</td>\n",
       "      <td>[located, northcross, mall, shopping, center, ...</td>\n",
       "      <td>[locate, northcross, mall, shop, center, face,...</td>\n",
       "      <td>[locate, northcross, mall, shop, center, face,...</td>\n",
       "    </tr>\n",
       "  </tbody>\n",
       "</table>\n",
       "</div>"
      ],
      "text/plain": [
       "                  coffee_shop_name  \\\n",
       "0  The Factory - Cafe With a Soul    \n",
       "1  The Factory - Cafe With a Soul    \n",
       "2  The Factory - Cafe With a Soul    \n",
       "3  The Factory - Cafe With a Soul    \n",
       "4  The Factory - Cafe With a Soul    \n",
       "\n",
       "                                    full_review_text star_rating review_date  \\\n",
       "0    1 check-in Love love loved the atmosphere! E...         5.0  11/25/2016   \n",
       "1    Listed in Date Night: Austin, Ambiance in Au...         4.0   12/2/2016   \n",
       "2    1 check-in Listed in Brunch Spots I loved th...         4.0  11/30/2016   \n",
       "3    Very cool decor! Good drinks Nice seating  H...         2.0  11/25/2016   \n",
       "4    1 check-in They are located within the North...         4.0   12/3/2016   \n",
       "\n",
       "                                      spaCyTokens_01  \\\n",
       "0  [check, love, love, loved, atmosphere, corner,...   \n",
       "1  [listed, date, night, austin, ambiance, austin...   \n",
       "2  [check, listed, brunch, spots, loved, eclectic...   \n",
       "3  [cool, decor, good, drinks, nice, seating, ove...   \n",
       "4  [check, located, northcross, mall, shopping, c...   \n",
       "\n",
       "                                      spaCyTokens_02  \\\n",
       "0  [love, love, loved, atmosphere, corner, style,...   \n",
       "1  [listed, date, night, ambiance, beautiful, lov...   \n",
       "2  [listed, brunch, spots, loved, eclectic, homey...   \n",
       "3  [cool, decor, good, drinks, nice, seating, ove...   \n",
       "4  [located, northcross, mall, shopping, center, ...   \n",
       "\n",
       "                                      spaCyLemmas_01  \\\n",
       "0  [love, love, love, atmosphere, corner, style, ...   \n",
       "1  [listed, date, night, ambiance, beautiful, lov...   \n",
       "2  [listed, brunch, spots, love, eclectic, homey,...   \n",
       "3  [cool, decor, good, drink, nice, seat, overpri...   \n",
       "4  [locate, northcross, mall, shop, center, face,...   \n",
       "\n",
       "                                      spaCyLemmas_02  \n",
       "0  [like, like, like, atmosphere, corner, style, ...  \n",
       "1  [listed, date, night, ambiance, beautiful, lik...  \n",
       "2  [listed, brunch, spots, like, eclectic, homey,...  \n",
       "3  [cool, decor, good, drink, nice, seat, overpri...  \n",
       "4  [locate, northcross, mall, shop, center, face,...  "
      ]
     },
     "execution_count": 29,
     "metadata": {},
     "output_type": "execute_result"
    }
   ],
   "source": [
    "shops.head()"
   ]
  },
  {
   "cell_type": "code",
   "execution_count": 30,
   "metadata": {},
   "outputs": [
    {
     "data": {
      "image/png": "[encoded data removed]",
      "text/plain": [
       "<Figure size 432x288 with 1 Axes>"
      ]
     },
     "metadata": {
      "needs_background": "light"
     },
     "output_type": "display_data"
    }
   ],
   "source": [
    "wc = count(shops['spaCyLemmas_02'])\n",
    "wc_top20 = wc[wc['rank'] < 20]\n",
    "\n",
    "squarify.plot(sizes=wc_top20['pct_total'], label=wc_top20['word'], alpha=.8)\n",
    "plt.axis('off')\n",
    "plt.show()"
   ]
  },
  {
   "cell_type": "markdown",
   "metadata": {},
   "source": [
    "## How do we want to analyze these coffee shop tokens? \n",
    "\n",
    "- Overall Word / Token Count\n",
    "- View Counts by Rating \n",
    "- *Hint:* a 'bad' coffee shops has a rating betweeen 1 & 3 based on the distribution of ratings. A 'good' coffee shop is a 4 or 5. "
   ]
  },
  {
   "cell_type": "code",
   "execution_count": 31,
   "metadata": {},
   "outputs": [
    {
     "data": {
      "text/plain": [
       "5.0    3780\n",
       "4.0    2360\n",
       "3.0     738\n",
       "2.0     460\n",
       "1.0     278\n",
       "Name: star_rating, dtype: int64"
      ]
     },
     "execution_count": 31,
     "metadata": {},
     "output_type": "execute_result"
    }
   ],
   "source": [
    "shops['star_rating'].value_counts()"
   ]
  },
  {
   "cell_type": "code",
   "execution_count": 32,
   "metadata": {},
   "outputs": [
    {
     "data": {
      "text/plain": [
       "dtype('O')"
      ]
     },
     "execution_count": 32,
     "metadata": {},
     "output_type": "execute_result"
    }
   ],
   "source": [
    "shops['star_rating'].dtypes"
   ]
  },
  {
   "cell_type": "code",
   "execution_count": 33,
   "metadata": {},
   "outputs": [],
   "source": [
    "shops['star_rating'] = [float(star) for star in shops['star_rating']]"
   ]
  },
  {
   "cell_type": "code",
   "execution_count": 34,
   "metadata": {},
   "outputs": [],
   "source": [
    "shops['good'] = shops['star_rating'] >= 4.0\n",
    "shops['bad'] = shops['star_rating'] < 4.0"
   ]
  },
  {
   "cell_type": "code",
   "execution_count": 35,
   "metadata": {},
   "outputs": [],
   "source": [
    "def make_comp_plots(data, lemma_column, reduce, rank=20):\n",
    "    wc_good = count(data[data['good'] == True][lemma_column])\n",
    "    wc_bad = count(data[data['bad'] == True][lemma_column])\n",
    "    \n",
    "    if reduce:\n",
    "        wc_good = wc_good[wc_good['appears_in_pct'] > 0.01]\n",
    "        wc_bad = wc_bad[wc_bad['appears_in_pct'] > 0.01]\n",
    "        wc_good20 = wc_good[(wc_good['rank'] > rank) & (wc_good['rank'] <= rank + 20)]\n",
    "        wc_bad20 = wc_bad[(wc_bad['rank'] > rank) & (wc_bad['rank'] <= rank + 20)]\n",
    "     \n",
    "    else:\n",
    "        wc_good20 = wc_good[wc_good['rank'] <= rank]\n",
    "        wc_bad20 = wc_bad[wc_bad['rank'] <= rank]\n",
    "\n",
    "    fig, axes = plt.subplots(1, 3, figsize=(20, 8))\n",
    "\n",
    "    axes[0].set_title('All cafe reviews')\n",
    "    squarify.plot(sizes=wc_top20['pct_total'], label=wc_top20['word'], alpha=.8, ax=axes[0])\n",
    "    axes[0].axis('off')\n",
    "\n",
    "    axes[1].set_title('Good cafe reviews')\n",
    "    squarify.plot(sizes=wc_good20['pct_total'], label=wc_good20['word'], alpha=.8, ax=axes[1])\n",
    "    axes[1].axis('off')\n",
    "\n",
    "    axes[2].set_title('Bad cafe reviews')\n",
    "    squarify.plot(sizes=wc_bad20['pct_total'], label=wc_bad20['word'], alpha=.8, ax=axes[2])\n",
    "    axes[2].axis('off')\n",
    "    plt.show()"
   ]
  },
  {
   "cell_type": "code",
   "execution_count": 36,
   "metadata": {},
   "outputs": [
    {
     "data": {
      "image/png": "[encoded data removed]",
      "text/plain": [
       "<Figure size 1440x576 with 3 Axes>"
      ]
     },
     "metadata": {
      "needs_background": "light"
     },
     "output_type": "display_data"
    }
   ],
   "source": [
    "make_comp_plots(shops, 'spaCyLemmas_02', reduce=False)"
   ]
  },
  {
   "cell_type": "code",
   "execution_count": 37,
   "metadata": {},
   "outputs": [
    {
     "data": {
      "image/png": "[encoded data removed]",
      "text/plain": [
       "<Figure size 1440x576 with 3 Axes>"
      ]
     },
     "metadata": {
      "needs_background": "light"
     },
     "output_type": "display_data"
    }
   ],
   "source": [
    "make_comp_plots(shops, 'spaCyLemmas_01', reduce=False)"
   ]
  },
  {
   "cell_type": "code",
   "execution_count": 38,
   "metadata": {},
   "outputs": [
    {
     "data": {
      "image/png": "[encoded data removed]",
      "text/plain": [
       "<Figure size 432x288 with 1 Axes>"
      ]
     },
     "metadata": {
      "needs_background": "light"
     },
     "output_type": "display_data"
    }
   ],
   "source": [
    "wc_reduced = wc[wc['appears_in_pct'] > 0.01]\n",
    "sns.distplot(wc_reduced['appears_in_pct']);"
   ]
  },
  {
   "cell_type": "code",
   "execution_count": 39,
   "metadata": {},
   "outputs": [
    {
     "data": {
      "image/png": "[encoded data removed]",
      "text/plain": [
       "<Figure size 432x288 with 1 Axes>"
      ]
     },
     "metadata": {
      "needs_background": "light"
     },
     "output_type": "display_data"
    }
   ],
   "source": [
    "sns.lineplot(x='rank', y='cul_pct_total', data=wc_reduced[50:]);"
   ]
  },
  {
   "cell_type": "code",
   "execution_count": 40,
   "metadata": {},
   "outputs": [
    {
     "data": {
      "image/png": "[encoded data removed]",
      "text/plain": [
       "<Figure size 1440x576 with 3 Axes>"
      ]
     },
     "metadata": {
      "needs_background": "light"
     },
     "output_type": "display_data"
    }
   ],
   "source": [
    "make_comp_plots(shops, 'spaCyLemmas_01', reduce=True, rank=55)"
   ]
  },
  {
   "cell_type": "markdown",
   "metadata": {},
   "source": [
    "## Can visualize the words with the greatest difference in counts between 'good' & 'bad'?\n",
    "\n",
    "Couple Notes: \n",
    "- Rel. freq. instead of absolute counts b/c of different numbers of reviews\n",
    "- Only look at the top 5-10 words with the greatest differences\n"
   ]
  },
  {
   "cell_type": "code",
   "execution_count": 41,
   "metadata": {},
   "outputs": [],
   "source": [
    "wc_good = count(shops[shops['good'] == True]['spaCyLemmas_01'])\n",
    "wc_bad = count(shops[shops['bad'] == True]['spaCyLemmas_01'])"
   ]
  },
  {
   "cell_type": "code",
   "execution_count": 42,
   "metadata": {},
   "outputs": [],
   "source": [
    "good_docs_len = len(shops[shops['good'] == True])\n",
    "bad_docs_len = len(shops[shops['bad'] == True])"
   ]
  },
  {
   "cell_type": "code",
   "execution_count": 43,
   "metadata": {},
   "outputs": [],
   "source": [
    "wc_good['rel_freq'] = [num/good_docs_len for num in wc_good['count']]\n",
    "wc_bad['rel_freq'] = [num/bad_docs_len for num in wc_bad['count']]"
   ]
  },
  {
   "cell_type": "code",
   "execution_count": 44,
   "metadata": {},
   "outputs": [
    {
     "data": {
      "text/html": [
       "<div>\n",
       "<style scoped>\n",
       "    .dataframe tbody tr th:only-of-type {\n",
       "        vertical-align: middle;\n",
       "    }\n",
       "\n",
       "    .dataframe tbody tr th {\n",
       "        vertical-align: top;\n",
       "    }\n",
       "\n",
       "    .dataframe thead th {\n",
       "        text-align: right;\n",
       "    }\n",
       "</style>\n",
       "<table border=\"1\" class=\"dataframe\">\n",
       "  <thead>\n",
       "    <tr style=\"text-align: right;\">\n",
       "      <th></th>\n",
       "      <th>word</th>\n",
       "      <th>appears_in</th>\n",
       "      <th>count</th>\n",
       "      <th>rank</th>\n",
       "      <th>pct_total</th>\n",
       "      <th>cul_pct_total</th>\n",
       "      <th>appears_in_pct</th>\n",
       "      <th>rel_freq</th>\n",
       "    </tr>\n",
       "  </thead>\n",
       "  <tbody>\n",
       "    <tr>\n",
       "      <th>22</th>\n",
       "      <td>like</td>\n",
       "      <td>594</td>\n",
       "      <td>947</td>\n",
       "      <td>1.0</td>\n",
       "      <td>0.013024</td>\n",
       "      <td>0.013024</td>\n",
       "      <td>0.402439</td>\n",
       "      <td>0.641599</td>\n",
       "    </tr>\n",
       "    <tr>\n",
       "      <th>9</th>\n",
       "      <td>good</td>\n",
       "      <td>604</td>\n",
       "      <td>912</td>\n",
       "      <td>2.0</td>\n",
       "      <td>0.012542</td>\n",
       "      <td>0.025566</td>\n",
       "      <td>0.409214</td>\n",
       "      <td>0.617886</td>\n",
       "    </tr>\n",
       "    <tr>\n",
       "      <th>107</th>\n",
       "      <td>order</td>\n",
       "      <td>425</td>\n",
       "      <td>756</td>\n",
       "      <td>3.0</td>\n",
       "      <td>0.010397</td>\n",
       "      <td>0.035963</td>\n",
       "      <td>0.287940</td>\n",
       "      <td>0.512195</td>\n",
       "    </tr>\n",
       "    <tr>\n",
       "      <th>68</th>\n",
       "      <td>come</td>\n",
       "      <td>439</td>\n",
       "      <td>622</td>\n",
       "      <td>4.0</td>\n",
       "      <td>0.008554</td>\n",
       "      <td>0.044517</td>\n",
       "      <td>0.297425</td>\n",
       "      <td>0.421409</td>\n",
       "    </tr>\n",
       "    <tr>\n",
       "      <th>205</th>\n",
       "      <td>time</td>\n",
       "      <td>427</td>\n",
       "      <td>620</td>\n",
       "      <td>5.0</td>\n",
       "      <td>0.008527</td>\n",
       "      <td>0.053043</td>\n",
       "      <td>0.289295</td>\n",
       "      <td>0.420054</td>\n",
       "    </tr>\n",
       "  </tbody>\n",
       "</table>\n",
       "</div>"
      ],
      "text/plain": [
       "      word  appears_in  count  rank  pct_total  cul_pct_total  appears_in_pct  \\\n",
       "22    like         594    947   1.0   0.013024       0.013024        0.402439   \n",
       "9     good         604    912   2.0   0.012542       0.025566        0.409214   \n",
       "107  order         425    756   3.0   0.010397       0.035963        0.287940   \n",
       "68    come         439    622   4.0   0.008554       0.044517        0.297425   \n",
       "205   time         427    620   5.0   0.008527       0.053043        0.289295   \n",
       "\n",
       "     rel_freq  \n",
       "22   0.641599  \n",
       "9    0.617886  \n",
       "107  0.512195  \n",
       "68   0.421409  \n",
       "205  0.420054  "
      ]
     },
     "execution_count": 44,
     "metadata": {},
     "output_type": "execute_result"
    }
   ],
   "source": [
    "wc_bad.head()"
   ]
  },
  {
   "cell_type": "code",
   "execution_count": 45,
   "metadata": {},
   "outputs": [],
   "source": [
    "wc_total = pd.merge(wc_good, wc_bad, how='inner', on='word')"
   ]
  },
  {
   "cell_type": "code",
   "execution_count": 46,
   "metadata": {},
   "outputs": [],
   "source": [
    "wc_total['rel_freq_diff'] = abs(wc_total['rel_freq_x'] - wc_total['rel_freq_y'])\n",
    "wc_top10 = wc_total.sort_values(by=['rel_freq_diff'], ascending=False).head(10)"
   ]
  },
  {
   "cell_type": "code",
   "execution_count": 47,
   "metadata": {},
   "outputs": [
    {
     "name": "stderr",
     "output_type": "stream",
     "text": [
      "/Users/anastasialysenko/opt/anaconda3/envs/U4-S1-NLP/lib/python3.7/site-packages/ipykernel_launcher.py:10: UserWarning: Matplotlib is currently using module://ipykernel.pylab.backend_inline, which is a non-GUI backend, so cannot show the figure.\n",
      "  # Remove the CWD from sys.path while we load stuff.\n"
     ]
    },
    {
     "data": {
      "image/png": "[encoded data removed]",
      "text/plain": [
       "<Figure size 1440x576 with 2 Axes>"
      ]
     },
     "metadata": {
      "needs_background": "light"
     },
     "output_type": "display_data"
    }
   ],
   "source": [
    "fig, axes = plt.subplots(1, 2, figsize=(20, 8))\n",
    "\n",
    "axes[0].set_title('Good cafe reviews')\n",
    "squarify.plot(sizes=wc_top10['rel_freq_x'], label=wc_top10['word'], alpha=.8, ax=axes[0])\n",
    "axes[0].axis('off')\n",
    "\n",
    "axes[1].set_title('Bad cafe reviews')\n",
    "squarify.plot(sizes=wc_top10['rel_freq_y'], label=wc_top10['word'], alpha=.8, ax=axes[1])\n",
    "axes[1].axis('off')\n",
    "fig.show()"
   ]
  },
  {
   "cell_type": "code",
   "execution_count": 53,
   "metadata": {},
   "outputs": [
    {
     "name": "stdout",
     "output_type": "stream",
     "text": [
      "(7616, 11)\n"
     ]
    },
    {
     "data": {
      "text/plain": [
       "Good    6140\n",
       "Bad     1476\n",
       "Name: category, dtype: int64"
      ]
     },
     "execution_count": 53,
     "metadata": {},
     "output_type": "execute_result"
    }
   ],
   "source": [
    "# Create a copy and add column with product tags\n",
    "subset_df = shops.copy()\n",
    "subset_df.loc[subset_df['good'], 'category'] = 'Good'\n",
    "subset_df.loc[subset_df['bad'], 'category'] = 'Bad'\n",
    "\n",
    "# Drop Review that aren't Kindle/Fire HD 8\n",
    "subset_df.dropna(subset=['category'], inplace=True)\n",
    "\n",
    "# # Confirm shape and distribution of reviews\n",
    "print(subset_df.shape)\n",
    "subset_df['category'].value_counts()"
   ]
  },
  {
   "cell_type": "code",
   "execution_count": 56,
   "metadata": {},
   "outputs": [
    {
     "data": {
      "text/plain": [
       "6533151"
      ]
     },
     "execution_count": 56,
     "metadata": {},
     "output_type": "execute_result"
    }
   ],
   "source": [
    "import scattertext as st\n",
    "\n",
    "nlp = spacy.load(\"en_core_web_md\")\n",
    "\n",
    "corpus = st.CorpusFromPandas(subset_df, \n",
    "                             category_col='category', \n",
    "                             text_col='full_review_text',\n",
    "                             nlp=nlp).build()\n",
    "\n",
    "html = st.produce_scattertext_explorer(\n",
    "    corpus,\n",
    "    category='Good',\n",
    "    category_name='Good',\n",
    "    not_category_name='Bad',\n",
    "    width_in_pixels=1000,\n",
    "    metadata=subset_df['star_rating'])\n",
    "\n",
    "open('./good_vs_bad.html', 'w').write(html)"
   ]
  },
  {
   "cell_type": "markdown",
   "metadata": {
    "colab_type": "text",
    "id": "1dCb1q8XphcP",
    "toc-hr-collapsed": true
   },
   "source": [
    "## Stretch Goals\n",
    "\n",
    "* Analyze another corpus of documents - such as Indeed.com job listings ;).\n",
    "* Play with the Spacy API to\n",
    " - Extract Named Entities\n",
    " - Extracting 'noun chunks'\n",
    " - Attempt Document Classification with just Spacy\n",
    " - *Note:* This [course](https://course.spacy.io/) will be of interesting in helping you with these stretch goals. \n",
    "* Try to build a plotly dash app with your text data \n",
    "\n"
   ]
  }
 ],
 "metadata": {
  "colab": {
   "collapsed_sections": [],
   "name": "LS_DS_421_Text_Data_Assignment.ipynb",
   "provenance": [],
   "version": "0.3.2"
  },
  "kernelspec": {
   "display_name": "U4-S1-NLP (Python3)",
   "language": "python",
   "name": "u4-s1-nlp"
  },
  "language_info": {
   "codemirror_mode": {
    "name": "ipython",
    "version": 3
   },
   "file_extension": ".py",
   "mimetype": "text/x-python",
   "name": "python",
   "nbconvert_exporter": "python",
   "pygments_lexer": "ipython3",
   "version": "3.7.0"
  },
  "toc-autonumbering": false
 },
 "nbformat": 4,
 "nbformat_minor": 4
}
