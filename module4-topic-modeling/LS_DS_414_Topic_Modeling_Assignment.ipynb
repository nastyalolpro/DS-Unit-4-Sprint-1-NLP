{
 "cells": [
  {
   "cell_type": "markdown",
   "metadata": {},
   "source": [
    "<img align=\"left\" src=\"https://lever-client-logos.s3.amazonaws.com/864372b1-534c-480e-acd5-9711f850815c-1524247202159.png\" width=200>\n",
    "<br></br>\n",
    "<br></br>\n",
    "\n",
    "# Topic Modeling\n",
    "## *Data Science Unit 4 Sprint 1 Assignment 4*\n",
    "\n",
    "Analyze a corpus of Amazon reviews from Unit 4 Sprint 1 Module 1's lecture using topic modeling: \n",
    "\n",
    "- Fit a Gensim LDA topic model on Amazon Reviews\n",
    "- Select appropriate number of topics\n",
    "- Create some dope visualization of the topics\n",
    "- Write a few bullets on your findings in markdown at the end\n",
    "- **Note**: You don't *have* to use generators for this assignment"
   ]
  },
  {
   "cell_type": "code",
   "execution_count": 41,
   "metadata": {},
   "outputs": [],
   "source": [
    "import pandas as pd\n",
    "import scipy\n",
    "import spacy \n",
    "from pprint import pprint"
   ]
  },
  {
   "cell_type": "code",
   "execution_count": 4,
   "metadata": {},
   "outputs": [],
   "source": [
    "data_path = '../module1-text-data/data/Datafiniti_Amazon_Consumer_Reviews_of_Amazon_Products_May19.csv'\n",
    "data = pd.read_csv(data_path)"
   ]
  },
  {
   "cell_type": "code",
   "execution_count": 6,
   "metadata": {},
   "outputs": [
    {
     "data": {
      "text/html": [
       "<div>\n",
       "<style scoped>\n",
       "    .dataframe tbody tr th:only-of-type {\n",
       "        vertical-align: middle;\n",
       "    }\n",
       "\n",
       "    .dataframe tbody tr th {\n",
       "        vertical-align: top;\n",
       "    }\n",
       "\n",
       "    .dataframe thead th {\n",
       "        text-align: right;\n",
       "    }\n",
       "</style>\n",
       "<table border=\"1\" class=\"dataframe\">\n",
       "  <thead>\n",
       "    <tr style=\"text-align: right;\">\n",
       "      <th></th>\n",
       "      <th>id</th>\n",
       "      <th>dateAdded</th>\n",
       "      <th>dateUpdated</th>\n",
       "      <th>name</th>\n",
       "      <th>asins</th>\n",
       "      <th>brand</th>\n",
       "      <th>categories</th>\n",
       "      <th>primaryCategories</th>\n",
       "      <th>imageURLs</th>\n",
       "      <th>keys</th>\n",
       "      <th>...</th>\n",
       "      <th>reviews.didPurchase</th>\n",
       "      <th>reviews.doRecommend</th>\n",
       "      <th>reviews.id</th>\n",
       "      <th>reviews.numHelpful</th>\n",
       "      <th>reviews.rating</th>\n",
       "      <th>reviews.sourceURLs</th>\n",
       "      <th>reviews.text</th>\n",
       "      <th>reviews.title</th>\n",
       "      <th>reviews.username</th>\n",
       "      <th>sourceURLs</th>\n",
       "    </tr>\n",
       "  </thead>\n",
       "  <tbody>\n",
       "    <tr>\n",
       "      <th>0</th>\n",
       "      <td>AVpgNzjwLJeJML43Kpxn</td>\n",
       "      <td>2015-10-30T08:59:32Z</td>\n",
       "      <td>2019-04-25T09:08:16Z</td>\n",
       "      <td>AmazonBasics AAA Performance Alkaline Batterie...</td>\n",
       "      <td>B00QWO9P0O,B00LH3DMUO</td>\n",
       "      <td>Amazonbasics</td>\n",
       "      <td>AA,AAA,Health,Electronics,Health &amp; Household,C...</td>\n",
       "      <td>Health &amp; Beauty</td>\n",
       "      <td>https://images-na.ssl-images-amazon.com/images...</td>\n",
       "      <td>amazonbasics/hl002619,amazonbasicsaaaperforman...</td>\n",
       "      <td>...</td>\n",
       "      <td>NaN</td>\n",
       "      <td>NaN</td>\n",
       "      <td>NaN</td>\n",
       "      <td>NaN</td>\n",
       "      <td>3</td>\n",
       "      <td>https://www.amazon.com/product-reviews/B00QWO9...</td>\n",
       "      <td>I order 3 of them and one of the item is bad q...</td>\n",
       "      <td>... 3 of them and one of the item is bad quali...</td>\n",
       "      <td>Byger yang</td>\n",
       "      <td>https://www.barcodable.com/upc/841710106442,ht...</td>\n",
       "    </tr>\n",
       "    <tr>\n",
       "      <th>1</th>\n",
       "      <td>AVpgNzjwLJeJML43Kpxn</td>\n",
       "      <td>2015-10-30T08:59:32Z</td>\n",
       "      <td>2019-04-25T09:08:16Z</td>\n",
       "      <td>AmazonBasics AAA Performance Alkaline Batterie...</td>\n",
       "      <td>B00QWO9P0O,B00LH3DMUO</td>\n",
       "      <td>Amazonbasics</td>\n",
       "      <td>AA,AAA,Health,Electronics,Health &amp; Household,C...</td>\n",
       "      <td>Health &amp; Beauty</td>\n",
       "      <td>https://images-na.ssl-images-amazon.com/images...</td>\n",
       "      <td>amazonbasics/hl002619,amazonbasicsaaaperforman...</td>\n",
       "      <td>...</td>\n",
       "      <td>NaN</td>\n",
       "      <td>NaN</td>\n",
       "      <td>NaN</td>\n",
       "      <td>NaN</td>\n",
       "      <td>4</td>\n",
       "      <td>https://www.amazon.com/product-reviews/B00QWO9...</td>\n",
       "      <td>Bulk is always the less expensive way to go fo...</td>\n",
       "      <td>... always the less expensive way to go for pr...</td>\n",
       "      <td>ByMG</td>\n",
       "      <td>https://www.barcodable.com/upc/841710106442,ht...</td>\n",
       "    </tr>\n",
       "    <tr>\n",
       "      <th>2</th>\n",
       "      <td>AVpgNzjwLJeJML43Kpxn</td>\n",
       "      <td>2015-10-30T08:59:32Z</td>\n",
       "      <td>2019-04-25T09:08:16Z</td>\n",
       "      <td>AmazonBasics AAA Performance Alkaline Batterie...</td>\n",
       "      <td>B00QWO9P0O,B00LH3DMUO</td>\n",
       "      <td>Amazonbasics</td>\n",
       "      <td>AA,AAA,Health,Electronics,Health &amp; Household,C...</td>\n",
       "      <td>Health &amp; Beauty</td>\n",
       "      <td>https://images-na.ssl-images-amazon.com/images...</td>\n",
       "      <td>amazonbasics/hl002619,amazonbasicsaaaperforman...</td>\n",
       "      <td>...</td>\n",
       "      <td>NaN</td>\n",
       "      <td>NaN</td>\n",
       "      <td>NaN</td>\n",
       "      <td>NaN</td>\n",
       "      <td>5</td>\n",
       "      <td>https://www.amazon.com/product-reviews/B00QWO9...</td>\n",
       "      <td>Well they are not Duracell but for the price i...</td>\n",
       "      <td>... are not Duracell but for the price i am ha...</td>\n",
       "      <td>BySharon Lambert</td>\n",
       "      <td>https://www.barcodable.com/upc/841710106442,ht...</td>\n",
       "    </tr>\n",
       "    <tr>\n",
       "      <th>3</th>\n",
       "      <td>AVpgNzjwLJeJML43Kpxn</td>\n",
       "      <td>2015-10-30T08:59:32Z</td>\n",
       "      <td>2019-04-25T09:08:16Z</td>\n",
       "      <td>AmazonBasics AAA Performance Alkaline Batterie...</td>\n",
       "      <td>B00QWO9P0O,B00LH3DMUO</td>\n",
       "      <td>Amazonbasics</td>\n",
       "      <td>AA,AAA,Health,Electronics,Health &amp; Household,C...</td>\n",
       "      <td>Health &amp; Beauty</td>\n",
       "      <td>https://images-na.ssl-images-amazon.com/images...</td>\n",
       "      <td>amazonbasics/hl002619,amazonbasicsaaaperforman...</td>\n",
       "      <td>...</td>\n",
       "      <td>NaN</td>\n",
       "      <td>NaN</td>\n",
       "      <td>NaN</td>\n",
       "      <td>NaN</td>\n",
       "      <td>5</td>\n",
       "      <td>https://www.amazon.com/product-reviews/B00QWO9...</td>\n",
       "      <td>Seem to work as well as name brand batteries a...</td>\n",
       "      <td>... as well as name brand batteries at a much ...</td>\n",
       "      <td>Bymark sexson</td>\n",
       "      <td>https://www.barcodable.com/upc/841710106442,ht...</td>\n",
       "    </tr>\n",
       "    <tr>\n",
       "      <th>4</th>\n",
       "      <td>AVpgNzjwLJeJML43Kpxn</td>\n",
       "      <td>2015-10-30T08:59:32Z</td>\n",
       "      <td>2019-04-25T09:08:16Z</td>\n",
       "      <td>AmazonBasics AAA Performance Alkaline Batterie...</td>\n",
       "      <td>B00QWO9P0O,B00LH3DMUO</td>\n",
       "      <td>Amazonbasics</td>\n",
       "      <td>AA,AAA,Health,Electronics,Health &amp; Household,C...</td>\n",
       "      <td>Health &amp; Beauty</td>\n",
       "      <td>https://images-na.ssl-images-amazon.com/images...</td>\n",
       "      <td>amazonbasics/hl002619,amazonbasicsaaaperforman...</td>\n",
       "      <td>...</td>\n",
       "      <td>NaN</td>\n",
       "      <td>NaN</td>\n",
       "      <td>NaN</td>\n",
       "      <td>NaN</td>\n",
       "      <td>5</td>\n",
       "      <td>https://www.amazon.com/product-reviews/B00QWO9...</td>\n",
       "      <td>These batteries are very long lasting the pric...</td>\n",
       "      <td>... batteries are very long lasting the price ...</td>\n",
       "      <td>Bylinda</td>\n",
       "      <td>https://www.barcodable.com/upc/841710106442,ht...</td>\n",
       "    </tr>\n",
       "  </tbody>\n",
       "</table>\n",
       "<p>5 rows × 24 columns</p>\n",
       "</div>"
      ],
      "text/plain": [
       "                     id             dateAdded           dateUpdated  \\\n",
       "0  AVpgNzjwLJeJML43Kpxn  2015-10-30T08:59:32Z  2019-04-25T09:08:16Z   \n",
       "1  AVpgNzjwLJeJML43Kpxn  2015-10-30T08:59:32Z  2019-04-25T09:08:16Z   \n",
       "2  AVpgNzjwLJeJML43Kpxn  2015-10-30T08:59:32Z  2019-04-25T09:08:16Z   \n",
       "3  AVpgNzjwLJeJML43Kpxn  2015-10-30T08:59:32Z  2019-04-25T09:08:16Z   \n",
       "4  AVpgNzjwLJeJML43Kpxn  2015-10-30T08:59:32Z  2019-04-25T09:08:16Z   \n",
       "\n",
       "                                                name                  asins  \\\n",
       "0  AmazonBasics AAA Performance Alkaline Batterie...  B00QWO9P0O,B00LH3DMUO   \n",
       "1  AmazonBasics AAA Performance Alkaline Batterie...  B00QWO9P0O,B00LH3DMUO   \n",
       "2  AmazonBasics AAA Performance Alkaline Batterie...  B00QWO9P0O,B00LH3DMUO   \n",
       "3  AmazonBasics AAA Performance Alkaline Batterie...  B00QWO9P0O,B00LH3DMUO   \n",
       "4  AmazonBasics AAA Performance Alkaline Batterie...  B00QWO9P0O,B00LH3DMUO   \n",
       "\n",
       "          brand                                         categories  \\\n",
       "0  Amazonbasics  AA,AAA,Health,Electronics,Health & Household,C...   \n",
       "1  Amazonbasics  AA,AAA,Health,Electronics,Health & Household,C...   \n",
       "2  Amazonbasics  AA,AAA,Health,Electronics,Health & Household,C...   \n",
       "3  Amazonbasics  AA,AAA,Health,Electronics,Health & Household,C...   \n",
       "4  Amazonbasics  AA,AAA,Health,Electronics,Health & Household,C...   \n",
       "\n",
       "  primaryCategories                                          imageURLs  \\\n",
       "0   Health & Beauty  https://images-na.ssl-images-amazon.com/images...   \n",
       "1   Health & Beauty  https://images-na.ssl-images-amazon.com/images...   \n",
       "2   Health & Beauty  https://images-na.ssl-images-amazon.com/images...   \n",
       "3   Health & Beauty  https://images-na.ssl-images-amazon.com/images...   \n",
       "4   Health & Beauty  https://images-na.ssl-images-amazon.com/images...   \n",
       "\n",
       "                                                keys  ... reviews.didPurchase  \\\n",
       "0  amazonbasics/hl002619,amazonbasicsaaaperforman...  ...                 NaN   \n",
       "1  amazonbasics/hl002619,amazonbasicsaaaperforman...  ...                 NaN   \n",
       "2  amazonbasics/hl002619,amazonbasicsaaaperforman...  ...                 NaN   \n",
       "3  amazonbasics/hl002619,amazonbasicsaaaperforman...  ...                 NaN   \n",
       "4  amazonbasics/hl002619,amazonbasicsaaaperforman...  ...                 NaN   \n",
       "\n",
       "  reviews.doRecommend reviews.id reviews.numHelpful reviews.rating  \\\n",
       "0                 NaN        NaN                NaN              3   \n",
       "1                 NaN        NaN                NaN              4   \n",
       "2                 NaN        NaN                NaN              5   \n",
       "3                 NaN        NaN                NaN              5   \n",
       "4                 NaN        NaN                NaN              5   \n",
       "\n",
       "                                  reviews.sourceURLs  \\\n",
       "0  https://www.amazon.com/product-reviews/B00QWO9...   \n",
       "1  https://www.amazon.com/product-reviews/B00QWO9...   \n",
       "2  https://www.amazon.com/product-reviews/B00QWO9...   \n",
       "3  https://www.amazon.com/product-reviews/B00QWO9...   \n",
       "4  https://www.amazon.com/product-reviews/B00QWO9...   \n",
       "\n",
       "                                        reviews.text  \\\n",
       "0  I order 3 of them and one of the item is bad q...   \n",
       "1  Bulk is always the less expensive way to go fo...   \n",
       "2  Well they are not Duracell but for the price i...   \n",
       "3  Seem to work as well as name brand batteries a...   \n",
       "4  These batteries are very long lasting the pric...   \n",
       "\n",
       "                                       reviews.title  reviews.username  \\\n",
       "0  ... 3 of them and one of the item is bad quali...        Byger yang   \n",
       "1  ... always the less expensive way to go for pr...              ByMG   \n",
       "2  ... are not Duracell but for the price i am ha...  BySharon Lambert   \n",
       "3  ... as well as name brand batteries at a much ...     Bymark sexson   \n",
       "4  ... batteries are very long lasting the price ...           Bylinda   \n",
       "\n",
       "                                          sourceURLs  \n",
       "0  https://www.barcodable.com/upc/841710106442,ht...  \n",
       "1  https://www.barcodable.com/upc/841710106442,ht...  \n",
       "2  https://www.barcodable.com/upc/841710106442,ht...  \n",
       "3  https://www.barcodable.com/upc/841710106442,ht...  \n",
       "4  https://www.barcodable.com/upc/841710106442,ht...  \n",
       "\n",
       "[5 rows x 24 columns]"
      ]
     },
     "execution_count": 6,
     "metadata": {},
     "output_type": "execute_result"
    }
   ],
   "source": [
    "df = pd.DataFrame(data)\n",
    "df.head()"
   ]
  },
  {
   "cell_type": "markdown",
   "metadata": {},
   "source": [
    "## Clean and lemmatize text"
   ]
  },
  {
   "cell_type": "code",
   "execution_count": 9,
   "metadata": {},
   "outputs": [],
   "source": [
    "nlp = spacy.load(\"en_core_web_md\")"
   ]
  },
  {
   "cell_type": "code",
   "execution_count": 10,
   "metadata": {},
   "outputs": [],
   "source": [
    "docs = []\n",
    "for doc in nlp.pipe(df['reviews.text'], disable=['parser', 'tagger']):\n",
    "    tokens = []\n",
    "    for token in doc:\n",
    "        if (token.is_punct == False) and (token.is_stop == False) \\\n",
    "        and (token.is_digit == False) and (token.is_space == False) \\\n",
    "        and (token.pos_ != 'PRON'):\n",
    "            tokens.append(token.lemma_.lower())\n",
    "    docs.append(tokens)"
   ]
  },
  {
   "cell_type": "code",
   "execution_count": 11,
   "metadata": {},
   "outputs": [],
   "source": [
    "df['lemmas'] = docs"
   ]
  },
  {
   "cell_type": "markdown",
   "metadata": {},
   "source": [
    "## Create LDA model"
   ]
  },
  {
   "cell_type": "code",
   "execution_count": 31,
   "metadata": {},
   "outputs": [],
   "source": [
    "import gensim\n",
    "import gensim.corpora as corpora\n",
    "from gensim.utils import simple_preprocess\n",
    "from gensim.models import CoherenceModel\n",
    "import pprint"
   ]
  },
  {
   "cell_type": "code",
   "execution_count": 48,
   "metadata": {},
   "outputs": [
    {
     "name": "stdout",
     "output_type": "stream",
     "text": [
      "Electronics                    13995\n",
      "Health & Beauty                12071\n",
      "Toys & Games,Electronics        1676\n",
      "Office Supplies,Electronics      386\n",
      "Electronics,Media                185\n",
      "Office Supplies                    9\n",
      "Animals & Pet Supplies             6\n",
      "Home & Garden                      2\n",
      "Electronics,Furniture              2\n",
      "Name: primaryCategories, dtype: int64\n"
     ]
    },
    {
     "data": {
      "text/plain": [
       "'9, topics'"
      ]
     },
     "execution_count": 48,
     "metadata": {},
     "output_type": "execute_result"
    }
   ],
   "source": [
    "print(df['primaryCategories'].value_counts())\n",
    "'{}, topics'.format(len(df['primaryCategories'].value_counts()))"
   ]
  },
  {
   "cell_type": "code",
   "execution_count": 50,
   "metadata": {},
   "outputs": [
    {
     "name": "stdout",
     "output_type": "stream",
     "text": [
      "5    19897\n",
      "4     5648\n",
      "3     1206\n",
      "1      965\n",
      "2      616\n",
      "Name: reviews.rating, dtype: int64\n"
     ]
    },
    {
     "data": {
      "text/plain": [
       "'5, topics'"
      ]
     },
     "execution_count": 50,
     "metadata": {},
     "output_type": "execute_result"
    }
   ],
   "source": [
    "print(df['reviews.rating'].value_counts())\n",
    "'{}, topics'.format(len(df['reviews.rating'].value_counts()))"
   ]
  },
  {
   "cell_type": "code",
   "execution_count": 18,
   "metadata": {},
   "outputs": [],
   "source": [
    "id2word = corpora.Dictionary(df['lemmas'])"
   ]
  },
  {
   "cell_type": "code",
   "execution_count": 20,
   "metadata": {},
   "outputs": [
    {
     "data": {
      "text/plain": [
       "8819"
      ]
     },
     "execution_count": 20,
     "metadata": {},
     "output_type": "execute_result"
    }
   ],
   "source": [
    "len(id2word.keys())"
   ]
  },
  {
   "cell_type": "code",
   "execution_count": 21,
   "metadata": {},
   "outputs": [],
   "source": [
    "# lets remove extrme values\n",
    "id2word.filter_extremes(no_below=2, no_above=0.35)"
   ]
  },
  {
   "cell_type": "code",
   "execution_count": 22,
   "metadata": {},
   "outputs": [
    {
     "data": {
      "text/plain": [
       "5816"
      ]
     },
     "execution_count": 22,
     "metadata": {},
     "output_type": "execute_result"
    }
   ],
   "source": [
    "len(id2word)"
   ]
  },
  {
   "cell_type": "code",
   "execution_count": 24,
   "metadata": {},
   "outputs": [],
   "source": [
    "# dtm\n",
    "corpus = [id2word.doc2bow(doc) for doc in df['lemmas']]"
   ]
  },
  {
   "cell_type": "code",
   "execution_count": 27,
   "metadata": {},
   "outputs": [
    {
     "data": {
      "text/plain": [
       "[('battery', 1),\n",
       " ('order', 1),\n",
       " ('have', 1),\n",
       " ('past', 1),\n",
       " ('please', 1),\n",
       " ('problame', 1)]"
      ]
     },
     "execution_count": 27,
     "metadata": {},
     "output_type": "execute_result"
    }
   ],
   "source": [
    "[(id2word[word_id], word_count) for word_id, word_count in corpus[6]]"
   ]
  },
  {
   "cell_type": "code",
   "execution_count": 52,
   "metadata": {},
   "outputs": [],
   "source": [
    "lda_multicore = gensim.models.ldamulticore.LdaMulticore(corpus=corpus,\n",
    "                                        id2word=id2word,\n",
    "                                        num_topics=9, \n",
    "                                        passes=10,\n",
    "                                        chunksize=100, \n",
    "                                        per_word_topics=True,\n",
    "                                        workers=12)"
   ]
  },
  {
   "cell_type": "code",
   "execution_count": 53,
   "metadata": {},
   "outputs": [],
   "source": [
    "lda_multicore.save('lda_multicore.model')"
   ]
  },
  {
   "cell_type": "code",
   "execution_count": 54,
   "metadata": {},
   "outputs": [],
   "source": [
    "from gensim import models\n",
    "lda_multicore =  models.LdaModel.load('lda_multicore.model')"
   ]
  },
  {
   "cell_type": "markdown",
   "metadata": {},
   "source": [
    "## Interpretate the result "
   ]
  },
  {
   "cell_type": "code",
   "execution_count": 68,
   "metadata": {},
   "outputs": [
    {
     "name": "stderr",
     "output_type": "stream",
     "text": [
      "/Users/anastasialysenko/opt/anaconda3/envs/U4-S1-NLP/lib/python3.7/site-packages/ipykernel/ipkernel.py:283: DeprecationWarning: `should_run_async` will not call `transform_cell` automatically in the future. Please pass the result to `transformed_cell` argument and any exception that happen during thetransform in `preprocessing_exc_tuple` in IPython 7.17 and above.\n",
      "  and should_run_async(code)\n"
     ]
    }
   ],
   "source": [
    "import matplotlib.pyplot as plt\n",
    "import numpy as np\n",
    "import pyLDAvis\n",
    "import pyLDAvis.gensim "
   ]
  },
  {
   "cell_type": "code",
   "execution_count": 55,
   "metadata": {},
   "outputs": [
    {
     "name": "stdout",
     "output_type": "stream",
     "text": [
      "[(0,\n",
      "  '0.117*\"battery\" + 0.063*\"great\" + 0.048*\"price\" + 0.040*\"long\" + '\n",
      "  '0.036*\"work\" + 0.029*\"brand\" + 0.022*\"watch\" + 0.022*\"buy\" + 0.020*\"amazon\" '\n",
      "  '+ 0.016*\"good\"'),\n",
      " (1,\n",
      "  '0.101*\"tablet\" + 0.076*\"app\" + 0.071*\"kid\" + 0.061*\"great\" + 0.031*\"game\" + '\n",
      "  '0.030*\"play\" + 0.025*\"amazon\" + 0.020*\"perfect\" + 0.018*\"download\" + '\n",
      "  '0.016*\"enjoy\"'),\n",
      " (2,\n",
      "  '0.083*\"screen\" + 0.055*\"read\" + 0.039*\"light\" + 0.034*\"size\" + 0.026*\"nice\" '\n",
      "  '+ 0.023*\"access\" + 0.018*\"easy\" + 0.016*\"book\" + 0.015*\"small\" + '\n",
      "  '0.014*\"device\"'),\n",
      " (3,\n",
      "  '0.137*\"love\" + 0.065*\"gift\" + 0.061*\"buy\" + 0.055*\"great\" + '\n",
      "  '0.049*\"christmas\" + 0.030*\"daughter\" + 0.025*\"product\" + '\n",
      "  '0.024*\"granddaughter\" + 0.021*\"purchase\" + 0.018*\"got\"'),\n",
      " (4,\n",
      "  '0.060*\"easy\" + 0.057*\"use\" + 0.050*\"tablet\" + 0.048*\"kindle\" + 0.046*\"fire\" '\n",
      "  '+ 0.041*\"great\" + 0.035*\"love\" + 0.015*\"hd\" + 0.014*\"ipad\" + '\n",
      "  '0.013*\"amazon\"'),\n",
      " (5,\n",
      "  '0.027*\"use\" + 0.023*\"camera\" + 0.017*\"$\" + 0.016*\"netflix\" + 0.016*\"black\" '\n",
      "  '+ 0.016*\"video\" + 0.016*\"e\" + 0.015*\"sale\" + 0.015*\"day\" + 0.014*\"account\"'),\n",
      " (6,\n",
      "  '0.035*\"charge\" + 0.021*\"come\" + 0.020*\"ipad\" + 0.019*\"drop\" + 0.018*\"break\" '\n",
      "  '+ 0.016*\"case\" + 0.015*\"box\" + 0.015*\"cover\" + 0.015*\"fun\" + 0.013*\"need\"'),\n",
      " (7,\n",
      "  '0.037*\"tablet\" + 0.032*\"old\" + 0.027*\"year\" + 0.027*\"love\" + 0.020*\"book\" + '\n",
      "  '0.019*\"use\" + 0.017*\"kindle\" + 0.017*\"read\" + 0.015*\"buy\" + 0.012*\"time\"'),\n",
      " (8,\n",
      "  '0.192*\"good\" + 0.058*\"product\" + 0.054*\"price\" + 0.035*\"recommend\" + '\n",
      "  '0.030*\"grandson\" + 0.029*\"excellent\" + 0.027*\"quality\" + 0.019*\"battery\" + '\n",
      "  '0.018*\"buy\" + 0.018*\"highly\"')]\n"
     ]
    }
   ],
   "source": [
    "pprint(lda_multicore.print_topics())"
   ]
  },
  {
   "cell_type": "code",
   "execution_count": 56,
   "metadata": {},
   "outputs": [
    {
     "data": {
      "text/plain": [
       "Electronics                    13995\n",
       "Health & Beauty                12071\n",
       "Toys & Games,Electronics        1676\n",
       "Office Supplies,Electronics      386\n",
       "Electronics,Media                185\n",
       "Office Supplies                    9\n",
       "Animals & Pet Supplies             6\n",
       "Home & Garden                      2\n",
       "Electronics,Furniture              2\n",
       "Name: primaryCategories, dtype: int64"
      ]
     },
     "execution_count": 56,
     "metadata": {},
     "output_type": "execute_result"
    }
   ],
   "source": [
    "df['primaryCategories'].value_counts()"
   ]
  },
  {
   "cell_type": "code",
   "execution_count": 57,
   "metadata": {},
   "outputs": [
    {
     "data": {
      "text/plain": [
       "[(0, 0.8517588),\n",
       " (1, 0.018524788),\n",
       " (2, 0.01852461),\n",
       " (3, 0.018535648),\n",
       " (4, 0.018527666),\n",
       " (5, 0.018524319),\n",
       " (6, 0.018522892),\n",
       " (7, 0.018525684),\n",
       " (8, 0.018555658)]"
      ]
     },
     "execution_count": 57,
     "metadata": {},
     "output_type": "execute_result"
    }
   ],
   "source": [
    "doc_lda = lda_multicore[corpus]\n",
    "doc_lda[1][0]"
   ]
  },
  {
   "cell_type": "code",
   "execution_count": 58,
   "metadata": {},
   "outputs": [],
   "source": [
    "def compute_coherence_values(dictionary, corpus, texts, limit, start=2, step=3):\n",
    "    \"\"\"\n",
    "    Compute c_v coherence for various number of topics\n",
    "\n",
    "    Parameters:\n",
    "    ----------\n",
    "    dictionary : Gensim dictionary\n",
    "    corpus : Gensim corpus\n",
    "    texts : List of input texts\n",
    "    limit : Max num of topics\n",
    "\n",
    "    Returns:\n",
    "    -------\n",
    "    model_list : List of LDA topic models\n",
    "    coherence_values : Coherence values corresponding to the LDA model with respective number of topics\n",
    "    \"\"\"\n",
    "    coherence_values = []\n",
    "    model_list = []\n",
    "    for num_topics in range(start, limit, step):\n",
    "        model = gensim.models.ldamulticore.LdaMulticore(corpus=corpus,\n",
    "                                                        id2word=id2word,\n",
    "                                                        num_topics=num_topics, \n",
    "                                                        chunksize=100,\n",
    "                                                        passes=10,\n",
    "                                                        per_word_topics=True,\n",
    "                                                        workers=10)\n",
    "        model_list.append(model)\n",
    "        coherencemodel = CoherenceModel(model=model, texts=texts, dictionary=dictionary, coherence='c_v')\n",
    "        coherence_values.append(coherencemodel.get_coherence())\n",
    "\n",
    "    return model_list, coherence_values"
   ]
  },
  {
   "cell_type": "code",
   "execution_count": 59,
   "metadata": {},
   "outputs": [
    {
     "name": "stdout",
     "output_type": "stream",
     "text": [
      "CPU times: user 1min 15s, sys: 11.2 s, total: 1min 27s\n",
      "Wall time: 1min 40s\n"
     ]
    }
   ],
   "source": [
    "%%time\n",
    "model_list, coherence_values = compute_coherence_values(dictionary=id2word, corpus=corpus, texts=df['lemmas'], start=2, limit=22, step=4)"
   ]
  },
  {
   "cell_type": "code",
   "execution_count": 65,
   "metadata": {},
   "outputs": [
    {
     "data": {
      "image/png": "[encoded data removed]",
      "text/plain": [
       "<Figure size 432x288 with 1 Axes>"
      ]
     },
     "metadata": {
      "needs_background": "light"
     },
     "output_type": "display_data"
    }
   ],
   "source": [
    "limit=22; start=2; step=4;\n",
    "x = range(start, limit, step)\n",
    "plt.plot(x, coherence_values)\n",
    "plt.xlabel(\"Num Topics\")\n",
    "plt.ylabel(\"Coherence score\")\n",
    "plt.legend((\"coherence_values\"), loc='best')\n",
    "plt.show()"
   ]
  },
  {
   "cell_type": "code",
   "execution_count": 69,
   "metadata": {},
   "outputs": [
    {
     "name": "stderr",
     "output_type": "stream",
     "text": [
      "/Users/anastasialysenko/opt/anaconda3/envs/U4-S1-NLP/lib/python3.7/site-packages/ipykernel/ipkernel.py:283: DeprecationWarning: `should_run_async` will not call `transform_cell` automatically in the future. Please pass the result to `transformed_cell` argument and any exception that happen during thetransform in `preprocessing_exc_tuple` in IPython 7.17 and above.\n",
      "  and should_run_async(code)\n"
     ]
    },
    {
     "data": {
      "text/html": [
       "\n",
       "<link rel=\"stylesheet\" type=\"text/css\" href=\"https://cdn.rawgit.com/bmabey/pyLDAvis/files/ldavis.v1.0.0.css\">\n",
       "\n",
       "\n",
       "<div id=\"ldavis_el673731402272494992568166025503\"></div>\n",
       "<script type=\"text/javascript\">\n",
       "\n",
       "var ldavis_el673731402272494992568166025503_data = {\"mdsDat\": {\"x\": [-0.12068781506150433, 0.1616422355804609, -0.039980581156970146, 0.055899264785063636, -0.24877215081004733, -0.11453068871884148, 0.2654116801007077, -0.09677198030336347, 0.13779003558449426], \"y\": [0.13827915129314655, -0.10980863632962054, 0.16307878677769494, 0.19278078590251913, -0.07579922285099094, -0.17202915445703926, -0.17521985606599627, -0.1398055474538584, 0.17852369318414513], \"topics\": [1, 2, 3, 4, 5, 6, 7, 8, 9], \"cluster\": [1, 1, 1, 1, 1, 1, 1, 1, 1], \"Freq\": [24.200472347396598, 20.518886287687682, 10.83913746693964, 9.73325500803971, 7.551736047111667, 7.082933273411503, 7.049087988802532, 6.781210554906004, 6.243281025704662]}, \"tinfo\": {\"Term\": [\"good\", \"battery\", \"love\", \"tablet\", \"great\", \"app\", \"screen\", \"kid\", \"read\", \"price\", \"easy\", \"kindle\", \"fire\", \"product\", \"gift\", \"long\", \"buy\", \"use\", \"old\", \"brand\", \"christmas\", \"play\", \"year\", \"game\", \"book\", \"light\", \"watch\", \"charge\", \"recommend\", \"size\", \"child\", \"feature\", \"learn\", \"music\", \"color\", \"limit\", \"memory\", \"age\", \"card\", \"wife\", \"warranty\", \"absolutely\", \"mom\", \"carry\", \"button\", \"friendly\", \"listen\", \"resolution\", \"adult\", \"kids\", \"library\", \"space\", \"grandkids\", \"ease\", \"young\", \"system\", \"photo\", \"old\", \"lock\", \"bluetooth\", \"year\", \"birthday\", \"model\", \"allow\", \"book\", \"son\", \"check\", \"want\", \"tablet\", \"read\", \"kindle\", \"love\", \"game\", \"play\", \"get\", \"time\", \"use\", \"set\", \"like\", \"fire\", \"buy\", \"purchase\", \"easy\", \"bought\", \"perfect\", \"well\", \"amazon\", \"great\", \"watch\", \"brand\", \"load\", \"travel\", \"duracell\", \"aa\", \"weight\", \"connect\", \"original\", \"energizer\", \"ability\", \"own\", \"basics\", \"controller\", \"comfortable\", \"bulk\", \"xbox\", \"reasonable\", \"fraction\", \"talk\", \"rechargeable\", \"pass\", \"alkaline\", \"tough\", \"forward\", \"expand\", \"quantity\", \"costco\", \"needed\", \"trust\", \"last\", \"toy\", \"aaa\", \"remote\", \"battery\", \"long\", \"amazonbasics\", \"candle\", \"cheap\", \"batteries\", \"work\", \"price\", \"deal\", \"fine\", \"great\", \"pack\", \"life\", \"value\", \"expensive\", \"amazon\", \"buy\", \"well\", \"time\", \"beat\", \"good\", \"quality\", \"far\", \"lot\", \"like\", \"money\", \"store\", \"purchase\", \"user\", \"slow\", \"ad\", \"present\", \"mother\", \"nephew\", \"tech\", \"lightweight\", \"generation\", \"lack\", \"law\", \"graphic\", \"functionality\", \"alot\", \"road\", \"beginner\", \"class\", \"g\", \"brightness\", \"movies\", \"network\", \"xmas\", \"hundred\", \"1st\", \"exceed\", \"catch\", \"bulky\", \"till\", \"originally\", \"sound\", \"hd\", \"portable\", \"design\", \"con\", \"connection\", \"picture\", \"fire\", \"easy\", \"inch\", \"hd8\", \"kindle\", \"internet\", \"use\", \"apple\", \"ipad\", \"speaker\", \"tablet\", \"love\", \"great\", \"new\", \"wifi\", \"enjoy\", \"fast\", \"amazon\", \"buy\", \"little\", \"want\", \"set\", \"product\", \"happy\", \"size\", \"price\", \"work\", \"like\", \"purchase\", \"get\", \"app\", \"google\", \"works\", \"school\", \"grand\", \"tool\", \"android\", \"os\", \"lots\", \"expandable\", \"selection\", \"grow\", \"apps\", \"u\", \"occupy\", \"membership\", \"preload\", \"efficient\", \"register\", \"underground\", \"match\", \"chrome\", \"integration\", \"pen\", \"platform\", \"pricey\", \"trick\", \"delight\", \"article\", \"boot\", \"kid\", \"pad\", \"educational\", \"stuff\", \"entertain\", \"download\", \"enjoy\", \"prime\", \"play\", \"free\", \"tablet\", \"game\", \"perfect\", \"available\", \"parental\", \"yr\", \"store\", \"great\", \"control\", \"amazon\", \"lot\", \"bought\", \"like\", \"movie\", \"awesome\", \"little\", \"price\", \"recommend\", \"work\", \"good\", \"daughter\", \"well\", \"screen\", \"access\", \"page\", \"bright\", \"clear\", \"purse\", \"instruction\", \"paper\", \"social\", \"serve\", \"press\", \"menu\", \"print\", \"automatically\", \"font\", \"separate\", \"prior\", \"glare\", \"direction\", \"sunlight\", \"worked\", \"saver\", \"unable\", \"wow\", \"terrific\", \"letter\", \"security\", \"initially\", \"background\", \"minimal\", \"voyage\", \"rayovac\", \"backlight\", \"light\", \"oasis\", \"paperwhite\", \"touch\", \"crisp\", \"size\", \"browse\", \"medium\", \"large\", \"read\", \"nice\", \"small\", \"magazine\", \"keyboard\", \"hand\", \"look\", \"alexa\", \"purpose\", \"device\", \"book\", \"change\", \"easy\", \"hold\", \"big\", \"like\", \"feel\", \"right\", \"new\", \"great\", \"drop\", \"cover\", \"fun\", \"samsung\", \"mini\", \"port\", \"sturdy\", \"understand\", \"micro\", \"buck\", \"cable\", \"difficult\", \"galaxy\", \"office\", \"totally\", \"usb\", \"clock\", \"concern\", \"inside\", \"outstanding\", \"thin\", \"numerous\", \"wanted\", \"bang\", \"charger\", \"challenge\", \"manage\", \"backpack\", \"adapter\", \"follow\", \"wrap\", \"box\", \"break\", \"charge\", \"step\", \"plastic\", \"drain\", \"minute\", \"come\", \"ipad\", \"open\", \"tab\", \"case\", \"complaint\", \"probably\", \"right\", \"will\", \"hold\", \"simple\", \"need\", \"have\", \"item\", \"work\", \"not\", \"problem\", \"little\", \"package\", \"thing\", \"nice\", \"buy\", \"small\", \"grandson\", \"toddler\", \"describe\", \"busy\", \"site\", \"variety\", \"research\", \"monitor\", \"highly\", \"smooth\", \"advertise\", \"loved\", \"delivery\", \"key\", \"came\", \"hook\", \"decision\", \"hopefully\", \"station\", \"particular\", \"god\", \"chromecast\", \"recommended\", \"luck\", \"unbeatable\", \"exceptional\", \"working\", \"tend\", \"bunny\", \"going\", \"excellent\", \"bad\", \"exactly\", \"good\", \"acid\", \"everyday\", \"satisfy\", \"recommend\", \"product\", \"decent\", \"quality\", \"expect\", \"value\", \"price\", \"purchased\", \"far\", \"performance\", \"fast\", \"overall\", \"buy\", \"life\", \"battery\", \"work\", \"pretty\", \"time\", \"review\", \"purchase\", \"deal\", \"camera\", \"e\", \"account\", \"easily\", \"okay\", \"stream\", \"build\", \"wonderful\", \"friday\", \"setup\", \"grandchild\", \"ebooks\", \"support\", \"black\", \"special\", \"netflix\", \"drive\", \"area\", \"loud\", \"geek\", \"win\", \"iphone\", \"guy\", \"hulu\", \"ram\", \"silk\", \"squad\", \"answer\", \"suggest\", \"versatile\", \"lol\", \"sale\", \"content\", \"link\", \"$\", \"mean\", \"hour\", \"video\", \"reader\", \"day\", \"give\", \"week\", \"youtube\", \"offer\", \"use\", \"device\", \"go\", \"pay\", \"well\", \"purchase\", \"amazon\", \"need\", \"work\", \"gift\", \"granddaughter\", \"christmas\", \"niece\", \"echo\", \"member\", \"sister\", \"father\", \"thank\", \"pink\", \"beautiful\", \"gave\", \"keeps\", \"investment\", \"dot\", \"portability\", \"friend\", \"fill\", \"credit\", \"second\", \"complete\", \"reading\", \"restriction\", \"brought\", \"family\", \"o\", \"incredible\", \"returned\", \"pleasure\", \"grandma\", \"got\", \"love\", \"best\", \"entertainment\", \"daughter\", \"receive\", \"thanks\", \"buy\", \"glad\", \"durable\", \"product\", \"great\", \"happy\", \"purchase\", \"item\", \"help\", \"please\", \"get\", \"kid\", \"price\"], \"Freq\": [5684.0, 8173.0, 6145.0, 7795.0, 9255.0, 2369.0, 1995.0, 2725.0, 2642.0, 5392.0, 3268.0, 2996.0, 2396.0, 2462.0, 1292.0, 2819.0, 4964.0, 4736.0, 2507.0, 1889.0, 986.0, 1745.0, 2157.0, 1910.0, 1892.0, 1091.0, 1446.0, 1061.0, 1311.0, 1205.0, 882.7432350082421, 746.0161791534576, 667.2654199877121, 455.5744898570041, 347.23080074364566, 339.60056354029626, 330.33410435815523, 323.9788705916557, 331.8767785182237, 469.41174735288985, 282.91487360301767, 272.677855801624, 271.2005678191646, 231.53333778026757, 230.3320266736522, 406.2858882836532, 204.1098091357252, 202.99492886239466, 196.87426733240451, 190.14356303540202, 182.60844118934068, 174.5683917485379, 173.99982569159883, 172.48707890574047, 241.53983732419903, 157.05408516848044, 142.8049073660368, 2490.695538648642, 123.41928405782335, 107.76716824864467, 2103.0251617957247, 211.57637369167836, 274.4644894119066, 241.84266055017744, 1509.968458884721, 827.8640341697346, 218.43705756577424, 809.2560901665537, 2873.3510893672037, 1283.0730533112187, 1328.2902347186928, 2058.774160710132, 918.8379906046987, 816.4371464914808, 728.9669810850564, 945.8379955537661, 1440.818891446617, 493.8330252389191, 875.3977853285324, 809.697091016143, 1142.0900041289628, 763.8525338290193, 740.2698350221527, 468.63237438549993, 493.25945026564625, 585.9983830539388, 654.1728333985728, 528.6211023089043, 1446.143132088638, 1887.2468201024117, 556.0331305513113, 497.33982828747685, 503.90302522689757, 398.3662648142036, 312.10674712821947, 286.32506156553103, 258.2891494027595, 263.68337494452254, 250.29626927958046, 182.2479877321129, 145.93367433505122, 182.6021316806296, 131.26137230651608, 132.0737554871831, 146.08398156952003, 158.76047728237845, 108.72376569246318, 100.59988041742042, 102.03312306714392, 91.98534643793086, 174.08061739325112, 80.23490002811624, 79.56018263090445, 74.58828848974183, 72.44004384302056, 71.44324824433443, 55.75790005093101, 53.968283057708334, 732.9784917027217, 420.17955829604085, 290.1897250030197, 439.26257333914094, 7651.418261639295, 2655.936257529405, 244.0674788207495, 114.63352564707324, 845.441850670198, 312.19703229497526, 2345.869313549393, 3124.975245504892, 646.3319852106024, 424.73051121429756, 4106.051814741876, 319.39680840507543, 720.5400371858683, 643.3258405212262, 365.04608863763997, 1318.8214317084041, 1433.7792888669512, 772.7560279937848, 741.7394831938336, 363.83944495212785, 1033.103801412001, 522.1864283921069, 492.5107176168867, 483.17116777799527, 640.7412710368912, 405.4177960413598, 417.5185748685396, 457.3687059332784, 422.095812500487, 305.04422814054726, 209.28461001723971, 198.20698238806833, 191.14380688051406, 169.7649274786502, 135.81775878974457, 147.98471422968314, 113.34940631834158, 95.87768929512784, 90.21368662889506, 98.4433465649305, 81.38553634252756, 70.05683699592925, 67.94015845043756, 118.16829344922417, 57.97315518199121, 56.036545059191894, 51.64972207561699, 42.48030647932381, 41.56668529312388, 40.65064312739104, 40.538963341537645, 39.08374482402917, 34.869723289582005, 33.028463445686576, 32.50182575040849, 32.245365336037906, 30.633715226010086, 359.550225904064, 527.7192113948892, 166.2786523917975, 138.5464125415667, 53.38169083346484, 87.39930599181241, 334.16770808916334, 1586.3853809371317, 2080.2037450515118, 123.65609722505133, 152.54303133343802, 1659.7397695953912, 335.05882223563896, 1985.1962445697634, 143.0993550707585, 485.57454144807696, 191.06907931226473, 1745.340441122951, 1218.76848350912, 1411.0173707072288, 359.91815023361295, 168.83822493304075, 280.79366351605665, 278.3185186010579, 459.2002935773127, 447.26602655021446, 250.00826181741172, 264.01750198258134, 238.85211375205608, 275.3215718973981, 217.52804532681745, 228.9703531729637, 266.4211473020413, 250.51043753199264, 236.1895850212097, 227.4011710789091, 220.40802643931033, 2368.831758939832, 503.1564265790341, 442.3935714441876, 184.83227528666083, 162.99811931151223, 138.76927217676084, 322.098881623171, 99.10521156476644, 86.73418651108527, 76.05372393528296, 66.3161504413964, 64.34550754991385, 74.15887305016214, 44.61425909002774, 46.41332102437959, 39.08712756959205, 38.86622637197011, 34.53797308353445, 33.17820260359042, 31.98541512418118, 31.402938446166754, 30.978288711699065, 28.28211435708047, 26.573352087254243, 24.693130240554186, 24.226120608085974, 24.1554555588426, 24.120608555248378, 22.38814452571208, 21.71947518380358, 2200.785018066779, 113.49717079247633, 188.1171366404959, 146.01794169196927, 135.36955249030953, 550.5796277172456, 506.3629523760501, 316.74307742947855, 927.7174049042686, 375.39335086142574, 3149.443133296674, 953.8798866336779, 608.7626125232983, 208.3068256490446, 235.6479205424942, 157.87517679985703, 436.8145725095121, 1893.391133542129, 280.7215912232395, 788.8459849005956, 351.97001934414806, 287.929795821771, 500.8508538910095, 248.18852287324495, 217.4971444791553, 260.49058220127887, 453.8905064702028, 252.6128513524583, 305.8523625090372, 303.60911043050794, 219.0692470729157, 231.668430776592, 1994.753957465881, 565.869498551954, 292.7802958989505, 156.85089786511818, 339.1261878467198, 100.25418527004531, 88.23672138927303, 82.25423201302996, 76.5916573448192, 62.79770540362277, 59.566482516457505, 58.97542182055937, 59.20071149280637, 57.93032400256724, 54.37042108171374, 51.17736306340828, 51.01742819900253, 42.68106656076563, 40.668994208930904, 38.50225799512946, 40.090657010120246, 36.015407478003354, 35.366998275568676, 35.32890930914399, 34.869972263182675, 38.47140787205436, 32.901695616413285, 31.302805198167874, 31.489615147009374, 30.754691224542235, 199.4862177471157, 34.98603833128926, 72.17703678046709, 930.4005800229348, 148.34456256263033, 167.10901639099865, 174.39902360426194, 67.10979021172909, 831.0751257042359, 178.18241702852993, 117.2457381308493, 267.3261950071201, 1334.1693297493373, 637.817225642314, 371.4784144904804, 89.7197369011003, 127.95845039668133, 191.18096205127227, 296.9262780669971, 156.2642113984441, 107.72698803669256, 350.07161135623295, 382.0999201413089, 133.2827532123655, 426.0281564807703, 187.07824989364775, 204.70036645102888, 339.4291004092848, 136.64455639995344, 152.4329375936207, 162.77629174294177, 193.59663857386445, 432.35356861591225, 341.4453431067456, 335.301149238938, 202.29366603792138, 164.57014576009803, 139.83289107632498, 134.3847188405193, 126.49062023652165, 118.19727474827039, 110.8395517562787, 106.47096503271626, 102.82659138010992, 83.71032783176953, 82.98568761779899, 83.30137267233548, 72.35143493583614, 71.99726482303413, 74.99278714319804, 64.0116099595673, 61.83071792179009, 61.37886916631168, 55.61669408117459, 54.708904434671865, 51.76929566243743, 208.14797217991747, 45.16839626487593, 43.38018312833374, 42.659352924584745, 42.33679930490837, 42.072782735009525, 103.21752743237853, 350.03745667681267, 401.9323798458354, 794.8252744577213, 99.78533311717581, 86.07604096054291, 95.39860599892532, 112.46555337805292, 484.1459563679831, 445.8610752484933, 187.48218142950233, 122.44453176224482, 360.73237948694003, 163.08424704706573, 122.15206008486437, 213.38953375761912, 155.34633513198398, 209.56547527693118, 154.11960148794554, 303.2101160443438, 180.22562277811983, 172.63632499184584, 263.6173757482921, 144.74578456119886, 153.11705991942105, 165.09903318592464, 145.08484119400785, 162.3689037853728, 156.84708365648186, 177.0074323865306, 147.08031624991688, 666.7041914743395, 220.3055024168606, 121.49507982073365, 95.38907620722752, 88.21406917022631, 87.41403781089586, 78.33835800386217, 71.31013709313433, 396.7210031588268, 62.074204350144484, 168.54394580367236, 54.68975850799502, 62.831594310927564, 51.31322101273219, 41.090151701758195, 40.44834485985607, 39.97188430496121, 30.495010603619335, 26.364250419453214, 25.891825708925474, 22.691220063853894, 22.24844490176841, 21.954547262549667, 21.20379099133752, 20.157784364540408, 20.27761719080275, 18.637703789124043, 31.728370415203237, 19.00264199832269, 17.256622364584793, 646.7649160684291, 218.39447500321776, 156.74408154517096, 4318.401588069884, 27.07867621910301, 119.57793303838851, 166.24930849643926, 798.5376875571823, 1305.9424729731306, 185.3556779928037, 605.3752695518766, 286.5243772313989, 389.7193957289647, 1222.2294251548508, 168.11815110250993, 391.0479809997415, 168.57386038480712, 287.7569209522167, 139.84045386206247, 410.7515504989984, 204.7230285927944, 421.5165171990566, 280.51198726977, 146.81963060424567, 204.46053601559504, 126.69016144038373, 172.83906037031335, 143.24504808552643, 493.08951679766005, 344.8618380759252, 313.28429777420536, 296.2194200722351, 227.3491539858943, 211.65145287343051, 184.1435747401438, 180.7669621913311, 264.93107117307267, 151.356277330966, 109.45992532209357, 108.96381666320916, 100.18988683514432, 351.0332068404163, 89.03040056754071, 351.14799482450405, 74.62003538745974, 67.19089606861263, 64.02833968400432, 69.47594738855103, 59.0514808545598, 58.90581987070534, 55.312293575044244, 54.108483874573245, 51.33906724774673, 48.08809240935024, 58.947522401870216, 45.4259007651968, 43.944961084317676, 42.03792856806436, 66.26796250812897, 331.053130358183, 267.36773088385246, 83.75970550155918, 378.62416691714725, 79.96807703666717, 264.32932283354734, 350.6014796194755, 301.21627188272237, 319.7780987966037, 195.26237832056503, 182.73934045345206, 119.0308278813403, 124.51984024182929, 595.5201422268307, 265.18669860139465, 193.98587696831294, 154.72774017254042, 237.68013313858046, 221.95579491299003, 231.63433645098195, 189.57259806003944, 207.3482565304741, 1291.9186747863307, 478.65149394134886, 983.9130515897504, 221.36015357194597, 221.04195403597703, 199.7657021486057, 132.36465747486253, 69.88699481732122, 193.10641839251608, 68.49552260027683, 66.56774639145631, 58.47729449631148, 56.98430948760492, 55.88357503753183, 50.644364084919026, 49.27274447711449, 226.17557569533471, 42.26712542206627, 40.121109958640176, 39.95210480309069, 36.72563048816426, 35.67407668245134, 35.08152905410245, 35.105734734883654, 262.97112957399185, 28.359752110252323, 27.588056878833132, 26.780937452841965, 26.68401014444251, 25.643054313224294, 363.2703044130282, 2742.613302953988, 349.7143422721677, 88.08400521525719, 601.6329558032622, 132.70501049611295, 100.20198025715732, 1219.5789832945256, 120.52805865579671, 152.19196172649342, 507.36229930850374, 1099.5606779154552, 264.32331956188943, 414.66657619540854, 201.25481052979973, 126.67583210254647, 116.06033376405387, 210.2709164770714, 257.1066939050048, 267.015428198796], \"Total\": [5684.0, 8173.0, 6145.0, 7795.0, 9255.0, 2369.0, 1995.0, 2725.0, 2642.0, 5392.0, 3268.0, 2996.0, 2396.0, 2462.0, 1292.0, 2819.0, 4964.0, 4736.0, 2507.0, 1889.0, 986.0, 1745.0, 2157.0, 1910.0, 1892.0, 1091.0, 1446.0, 1061.0, 1311.0, 1205.0, 883.6084273278806, 746.8725838612409, 668.1217612226825, 456.43165919468464, 348.08728936505537, 340.45688403940295, 331.19044165891756, 324.83700919390657, 332.7598711577017, 470.66888863266706, 283.771185617012, 273.53432134780473, 272.0568570109072, 232.38976140814128, 231.1886655009958, 407.8033776548483, 204.9663002225379, 203.85181763928853, 197.73070051233893, 190.99977844686214, 183.46467727994323, 175.42535583138405, 174.85606588821742, 173.3434400385403, 242.82246755635776, 157.91057353546452, 143.6614881372485, 2507.8394618483635, 124.2757558106382, 108.62373208142664, 2157.3331725038656, 214.1584672097428, 279.110598146057, 246.35023502533454, 1892.8180280538618, 1006.966291615975, 225.6300994887864, 1209.9578127740863, 7795.90352796103, 2642.4900633304655, 2996.414391649484, 6145.308534301409, 1910.1008047521311, 1745.0326731111197, 1507.91784289025, 2317.4016452573696, 4736.509361934007, 910.3573469241952, 2778.895521092842, 2396.851265570296, 4964.5964609420425, 2269.5639103477474, 3268.0421156873035, 906.4457398210839, 1116.888578299524, 2282.633040823791, 3798.592184344775, 9255.268432755487, 1446.94429122743, 1889.7731279203845, 556.8344686316399, 498.1405080380527, 504.7541600531929, 399.3471531883129, 312.9079572907677, 287.1263470112723, 259.0896446460383, 264.5015950662306, 251.09742730398722, 183.04893215324827, 146.74885241712983, 183.63049109454047, 132.06352531203245, 132.89284610122823, 147.08877100487686, 159.87054180033763, 109.55914784424134, 101.40079144348752, 102.86106007084756, 92.78602871228173, 175.79534170134085, 81.03565283382088, 80.36133160003753, 75.38941559745727, 73.23986476042508, 72.249133662443, 56.55785073723123, 54.798423908994245, 746.2303514684785, 428.1699566254466, 295.4614367633721, 449.37038221458835, 8173.425707377865, 2819.381185388399, 251.33060168502627, 116.41057096452809, 1003.966766123087, 358.8563338614767, 3827.1336142750465, 5392.01290816795, 883.3352026629618, 556.7471527429732, 9255.268432755487, 391.63636644029486, 1110.8975528201163, 1042.0658932468107, 493.83809239914626, 3798.592184344775, 4964.5964609420425, 2282.633040823791, 2317.4016452573696, 540.7539954431485, 5684.318023065241, 1313.8353000050934, 1215.3841279365633, 1191.1952684269347, 2778.895521092842, 776.7714494926333, 1121.2309126826462, 2269.5639103477474, 422.9672640352906, 305.8992460587572, 210.13960165534675, 199.06189121748656, 192.0558842127362, 170.6199427182058, 136.67258719359833, 149.02461820131694, 114.20417421021443, 96.73299108663126, 91.06843487486786, 99.44702094145399, 82.24035130150743, 70.91190235202244, 68.79608126330122, 119.69043232133708, 58.827924882906885, 56.89243938675888, 52.504776925538245, 43.33534827573499, 42.42203697223983, 41.50544629283117, 41.39401269809466, 39.93851231640994, 35.724385244496744, 33.88353314629724, 33.356956788818295, 33.10051718500883, 31.48866346441095, 369.63667477924866, 571.3173907406994, 177.7852420804773, 149.87549719166452, 56.312600619229926, 95.45587896065592, 408.5020056037086, 2396.851265570296, 3268.0421156873035, 143.1136484913229, 186.94845711107524, 2996.414391649484, 511.1620078191483, 4736.509361934007, 188.91759158517468, 936.3497361183471, 279.3008132091061, 7795.90352796103, 6145.308534301409, 9255.268432755487, 987.4793046492787, 269.7641231933228, 787.9230274679546, 971.058135674451, 3798.592184344775, 4964.5964609420425, 975.9771880369725, 1209.9578127740863, 910.3573469241952, 2462.1900214799857, 883.6272922558069, 1205.7769765363491, 5392.01290816795, 3827.1336142750465, 2778.895521092842, 2269.5639103477474, 1507.91784289025, 2369.685751811238, 504.8014011558165, 444.0674661012339, 185.68636347566166, 163.8536656301472, 139.62319572145967, 324.22114033844656, 99.95990459292507, 87.58830463199595, 76.90778415009933, 67.17006368068171, 65.19978487022549, 75.34955210562315, 45.46839094087788, 47.35287127282323, 39.94133730118176, 39.72019790978376, 35.39215700388143, 34.03268914048956, 32.839198487972894, 32.25803899626621, 31.836327922866676, 29.136294171099056, 27.42763306510609, 25.54702994290247, 25.08088253355991, 25.009793284823942, 24.975238603009316, 23.246491190253078, 22.573809874484496, 2725.61540834483, 131.04085710105085, 241.716459757438, 183.77374003629126, 169.7158171734486, 857.5883983862612, 787.9230274679546, 487.9718737761238, 1745.0326731111197, 603.8401571337887, 7795.90352796103, 1910.1008047521311, 1116.888578299524, 345.10614916807, 419.4722160370302, 254.77283515381194, 1121.2309126826462, 9255.268432755487, 598.7142971385866, 3798.592184344775, 1191.1952684269347, 906.4457398210839, 2778.895521092842, 694.2903567964786, 546.1242149972845, 975.9771880369725, 5392.01290816795, 1311.248741927401, 3827.1336142750465, 5684.318023065241, 1071.4993186316203, 2282.633040823791, 1995.5899925054716, 566.7058486508433, 293.6183888902212, 157.71191346603146, 341.3707735246986, 101.09005512505132, 89.07284704576342, 83.09114969653615, 77.42767635254717, 63.63373059132769, 60.402973062783644, 59.81178927524163, 60.057129674299276, 58.77348044835745, 55.20622445849067, 52.013509861327044, 51.85428838521338, 43.516949513749786, 41.50511841205896, 39.33809375354126, 40.96649600534197, 36.85149124371912, 36.20312849411531, 36.16522955568634, 35.70611774619674, 39.41975754243159, 33.73830737915762, 32.13934600585968, 32.332923632092545, 31.59199898143996, 205.21651655166852, 35.974874073545806, 75.97046841645579, 1091.3895675213046, 161.33385356316995, 183.1387397305949, 206.8209851913717, 73.14935385490708, 1205.7769765363491, 221.77739483398508, 140.85545690275922, 370.4634151193196, 2642.4900633304655, 1281.7727358318916, 678.333825176313, 111.52151167800879, 196.0860549014854, 419.54533701284396, 877.5900099888778, 303.9026045192195, 163.96765046856308, 1358.6425718636606, 1892.8180280538618, 270.74667197321634, 3268.0421156873035, 588.5698900419175, 774.4888132031515, 2778.895521092842, 353.03499919555816, 521.7313486909794, 987.4793046492787, 9255.268432755487, 433.18034336367526, 342.27206596241956, 336.1280725146824, 203.12056109567183, 165.3969698700278, 140.67112040840146, 135.2114303968074, 127.31756945778997, 119.02437588933023, 111.6667580809661, 107.29979341094915, 103.66948348287107, 84.53702554101196, 83.81254313465605, 84.19044602810642, 73.1780664580942, 72.83717395315873, 75.98063178361103, 64.85545367709568, 62.65751798649685, 62.20564722504291, 56.44349827392466, 55.53572747719586, 52.595923815522475, 211.68526035953315, 45.99522408359362, 44.206973815472296, 43.48592916162456, 43.16334448622026, 42.89982037102328, 105.72753510740577, 378.14249387468215, 456.3642635163188, 1061.795548419209, 109.60884871709241, 93.28102722132164, 106.20457724274338, 140.11053225774182, 975.169136511419, 936.3497361183471, 289.3124930472903, 162.55344549290177, 895.8669962887508, 263.77015194403003, 174.13192063114425, 521.7313486909794, 304.38022778911204, 588.5698900419175, 313.75880873716864, 1782.5356116373412, 504.28289743622105, 621.5455009993532, 3827.1336142750465, 381.4451600653722, 604.1695222235955, 975.9771880369725, 459.4017025214453, 941.2073477986422, 1281.7727358318916, 4964.5964609420425, 678.333825176313, 667.5325532182707, 221.13402949190524, 122.32565973013055, 96.21751556808067, 89.042853638175, 88.24252423477269, 79.16701187332679, 72.13878250663245, 401.761976488533, 62.90287962595752, 171.01372525894163, 55.51795986221457, 63.785881944704315, 52.144008624321984, 41.918780586383875, 41.276800539127784, 40.80039171822897, 31.323724477945632, 27.192560504535827, 26.721193089670447, 23.51963300198928, 23.076879323711868, 22.782591250713246, 22.032044558061056, 20.98589241704953, 21.111792821791845, 19.46571879363915, 33.15526086437675, 19.902906733126876, 18.084959216800357, 707.9043330911086, 242.6477615764956, 174.43976672907138, 5684.318023065241, 28.643228042520718, 139.20618976254494, 205.92367577961315, 1311.248741927401, 2462.1900214799857, 266.26977963390385, 1313.8353000050934, 547.1372693753402, 1042.0658932468107, 5392.01290816795, 343.7855821557206, 1215.3841279365633, 389.5715908193776, 971.058135674451, 406.9210253410455, 4964.5964609420425, 1110.8975528201163, 8173.425707377865, 3827.1336142750465, 548.2968580749151, 2317.4016452573696, 390.8945296081564, 2269.5639103477474, 883.3352026629618, 493.9312553285374, 345.7031017845923, 314.12492034812306, 297.0601035249892, 228.19016671867067, 212.4920525006381, 184.98425976511967, 181.61185687873606, 266.295358328485, 152.19687076620033, 110.30044196693663, 109.80437393360273, 101.03046488050825, 354.24946350529297, 89.87648860244455, 354.8790120122572, 75.46063893051637, 68.03244295058383, 64.86900815951185, 70.39987120747608, 59.891965999052935, 59.74647665820513, 56.153273607358564, 54.949621298466276, 52.18023895031658, 48.928841744820346, 60.000447709259376, 46.26657875221504, 44.790884567424925, 42.87843810374053, 67.64976643360973, 357.6902008847526, 291.7873291836566, 87.86816530847416, 525.6838239253723, 87.06457562862339, 386.2847259741687, 715.5822426403007, 578.853063366605, 704.9763754302106, 367.8041305496793, 387.08668283299795, 191.47197605706825, 210.86708656910469, 4736.509361934007, 1358.6425718636606, 759.5839685877913, 499.9411685001191, 2282.633040823791, 2269.5639103477474, 3798.592184344775, 1782.5356116373412, 3827.1336142750465, 1292.763957424334, 479.500759025781, 986.2071242594063, 222.20479797153448, 221.88669101361674, 200.61077163670484, 133.21421634843045, 70.73161738021454, 195.4677128962204, 69.34011578765003, 67.41304452968383, 59.322943363325635, 57.8288351518998, 56.72817031116442, 51.48964425898957, 50.1174023313327, 230.56669480024522, 43.11228830894748, 40.96580033181698, 40.79777193643811, 37.570544633719166, 36.518763217012186, 35.92626378850364, 35.9559084625655, 270.24450245437396, 29.204650432933704, 28.43289010433176, 27.625781805139976, 27.529345638070104, 26.48747398297382, 382.21339598952846, 6145.308534301409, 550.3147654478969, 111.27486867723184, 1071.4993186316203, 181.35820514673193, 138.84618300877713, 4964.5964609420425, 204.05021979167918, 342.9922536835374, 2462.1900214799857, 9255.268432755487, 883.6272922558069, 2269.5639103477474, 621.5455009993532, 319.55140248741037, 328.5510470795192, 1507.91784289025, 2725.61540834483, 5392.01290816795], \"Category\": [\"Default\", \"Default\", \"Default\", \"Default\", \"Default\", \"Default\", \"Default\", \"Default\", \"Default\", \"Default\", \"Default\", \"Default\", \"Default\", \"Default\", \"Default\", \"Default\", \"Default\", \"Default\", \"Default\", \"Default\", \"Default\", \"Default\", \"Default\", \"Default\", \"Default\", \"Default\", \"Default\", \"Default\", \"Default\", \"Default\", \"Topic1\", \"Topic1\", \"Topic1\", \"Topic1\", \"Topic1\", \"Topic1\", \"Topic1\", \"Topic1\", \"Topic1\", \"Topic1\", \"Topic1\", \"Topic1\", \"Topic1\", \"Topic1\", \"Topic1\", \"Topic1\", \"Topic1\", \"Topic1\", \"Topic1\", \"Topic1\", \"Topic1\", \"Topic1\", \"Topic1\", \"Topic1\", \"Topic1\", \"Topic1\", \"Topic1\", \"Topic1\", \"Topic1\", \"Topic1\", \"Topic1\", \"Topic1\", \"Topic1\", \"Topic1\", \"Topic1\", \"Topic1\", \"Topic1\", \"Topic1\", \"Topic1\", \"Topic1\", \"Topic1\", \"Topic1\", \"Topic1\", \"Topic1\", \"Topic1\", \"Topic1\", \"Topic1\", \"Topic1\", \"Topic1\", \"Topic1\", \"Topic1\", \"Topic1\", \"Topic1\", \"Topic1\", \"Topic1\", \"Topic1\", \"Topic1\", \"Topic1\", \"Topic2\", \"Topic2\", \"Topic2\", \"Topic2\", \"Topic2\", \"Topic2\", \"Topic2\", \"Topic2\", \"Topic2\", \"Topic2\", \"Topic2\", \"Topic2\", \"Topic2\", \"Topic2\", \"Topic2\", \"Topic2\", \"Topic2\", \"Topic2\", \"Topic2\", \"Topic2\", \"Topic2\", \"Topic2\", \"Topic2\", \"Topic2\", \"Topic2\", \"Topic2\", \"Topic2\", \"Topic2\", \"Topic2\", \"Topic2\", \"Topic2\", \"Topic2\", \"Topic2\", \"Topic2\", \"Topic2\", \"Topic2\", \"Topic2\", \"Topic2\", \"Topic2\", \"Topic2\", \"Topic2\", \"Topic2\", \"Topic2\", \"Topic2\", \"Topic2\", \"Topic2\", \"Topic2\", \"Topic2\", \"Topic2\", \"Topic2\", \"Topic2\", \"Topic2\", \"Topic2\", \"Topic2\", \"Topic2\", \"Topic2\", \"Topic2\", \"Topic2\", \"Topic2\", \"Topic2\", \"Topic2\", \"Topic2\", \"Topic3\", \"Topic3\", \"Topic3\", \"Topic3\", \"Topic3\", \"Topic3\", \"Topic3\", \"Topic3\", \"Topic3\", \"Topic3\", \"Topic3\", \"Topic3\", \"Topic3\", \"Topic3\", \"Topic3\", \"Topic3\", \"Topic3\", \"Topic3\", \"Topic3\", \"Topic3\", \"Topic3\", \"Topic3\", \"Topic3\", \"Topic3\", \"Topic3\", \"Topic3\", \"Topic3\", \"Topic3\", \"Topic3\", \"Topic3\", \"Topic3\", \"Topic3\", \"Topic3\", \"Topic3\", \"Topic3\", \"Topic3\", \"Topic3\", \"Topic3\", \"Topic3\", \"Topic3\", \"Topic3\", \"Topic3\", \"Topic3\", \"Topic3\", \"Topic3\", \"Topic3\", \"Topic3\", \"Topic3\", \"Topic3\", \"Topic3\", \"Topic3\", \"Topic3\", \"Topic3\", \"Topic3\", \"Topic3\", \"Topic3\", \"Topic3\", \"Topic3\", \"Topic3\", \"Topic3\", \"Topic3\", \"Topic3\", \"Topic3\", \"Topic3\", \"Topic3\", \"Topic3\", \"Topic4\", \"Topic4\", \"Topic4\", \"Topic4\", \"Topic4\", \"Topic4\", \"Topic4\", \"Topic4\", \"Topic4\", \"Topic4\", \"Topic4\", \"Topic4\", \"Topic4\", \"Topic4\", \"Topic4\", \"Topic4\", \"Topic4\", \"Topic4\", \"Topic4\", \"Topic4\", \"Topic4\", \"Topic4\", \"Topic4\", \"Topic4\", \"Topic4\", \"Topic4\", \"Topic4\", \"Topic4\", \"Topic4\", \"Topic4\", \"Topic4\", \"Topic4\", \"Topic4\", \"Topic4\", \"Topic4\", \"Topic4\", \"Topic4\", \"Topic4\", \"Topic4\", \"Topic4\", \"Topic4\", \"Topic4\", \"Topic4\", \"Topic4\", \"Topic4\", \"Topic4\", \"Topic4\", \"Topic4\", \"Topic4\", \"Topic4\", \"Topic4\", \"Topic4\", \"Topic4\", \"Topic4\", \"Topic4\", \"Topic4\", \"Topic4\", \"Topic4\", \"Topic4\", \"Topic4\", \"Topic4\", \"Topic4\", \"Topic5\", \"Topic5\", \"Topic5\", \"Topic5\", \"Topic5\", \"Topic5\", \"Topic5\", \"Topic5\", \"Topic5\", \"Topic5\", \"Topic5\", \"Topic5\", \"Topic5\", \"Topic5\", \"Topic5\", \"Topic5\", \"Topic5\", \"Topic5\", \"Topic5\", \"Topic5\", \"Topic5\", \"Topic5\", \"Topic5\", \"Topic5\", \"Topic5\", \"Topic5\", \"Topic5\", \"Topic5\", \"Topic5\", \"Topic5\", \"Topic5\", \"Topic5\", \"Topic5\", \"Topic5\", \"Topic5\", \"Topic5\", \"Topic5\", \"Topic5\", \"Topic5\", \"Topic5\", \"Topic5\", \"Topic5\", \"Topic5\", \"Topic5\", \"Topic5\", \"Topic5\", \"Topic5\", \"Topic5\", \"Topic5\", \"Topic5\", \"Topic5\", \"Topic5\", \"Topic5\", \"Topic5\", \"Topic5\", \"Topic5\", \"Topic5\", \"Topic5\", \"Topic5\", \"Topic5\", \"Topic5\", \"Topic5\", \"Topic6\", \"Topic6\", \"Topic6\", \"Topic6\", \"Topic6\", \"Topic6\", \"Topic6\", \"Topic6\", \"Topic6\", \"Topic6\", \"Topic6\", \"Topic6\", \"Topic6\", \"Topic6\", \"Topic6\", \"Topic6\", \"Topic6\", \"Topic6\", \"Topic6\", \"Topic6\", \"Topic6\", \"Topic6\", \"Topic6\", \"Topic6\", \"Topic6\", \"Topic6\", \"Topic6\", \"Topic6\", \"Topic6\", \"Topic6\", \"Topic6\", \"Topic6\", \"Topic6\", \"Topic6\", \"Topic6\", \"Topic6\", \"Topic6\", \"Topic6\", \"Topic6\", \"Topic6\", \"Topic6\", \"Topic6\", \"Topic6\", \"Topic6\", \"Topic6\", \"Topic6\", \"Topic6\", \"Topic6\", \"Topic6\", \"Topic6\", \"Topic6\", \"Topic6\", \"Topic6\", \"Topic6\", \"Topic6\", \"Topic6\", \"Topic6\", \"Topic6\", \"Topic6\", \"Topic6\", \"Topic6\", \"Topic7\", \"Topic7\", \"Topic7\", \"Topic7\", \"Topic7\", \"Topic7\", \"Topic7\", \"Topic7\", \"Topic7\", \"Topic7\", \"Topic7\", \"Topic7\", \"Topic7\", \"Topic7\", \"Topic7\", \"Topic7\", \"Topic7\", \"Topic7\", \"Topic7\", \"Topic7\", \"Topic7\", \"Topic7\", \"Topic7\", \"Topic7\", \"Topic7\", \"Topic7\", \"Topic7\", \"Topic7\", \"Topic7\", \"Topic7\", \"Topic7\", \"Topic7\", \"Topic7\", \"Topic7\", \"Topic7\", \"Topic7\", \"Topic7\", \"Topic7\", \"Topic7\", \"Topic7\", \"Topic7\", \"Topic7\", \"Topic7\", \"Topic7\", \"Topic7\", \"Topic7\", \"Topic7\", \"Topic7\", \"Topic7\", \"Topic7\", \"Topic7\", \"Topic7\", \"Topic7\", \"Topic7\", \"Topic7\", \"Topic7\", \"Topic7\", \"Topic7\", \"Topic8\", \"Topic8\", \"Topic8\", \"Topic8\", \"Topic8\", \"Topic8\", \"Topic8\", \"Topic8\", \"Topic8\", \"Topic8\", \"Topic8\", \"Topic8\", \"Topic8\", \"Topic8\", \"Topic8\", \"Topic8\", \"Topic8\", \"Topic8\", \"Topic8\", \"Topic8\", \"Topic8\", \"Topic8\", \"Topic8\", \"Topic8\", \"Topic8\", \"Topic8\", \"Topic8\", \"Topic8\", \"Topic8\", \"Topic8\", \"Topic8\", \"Topic8\", \"Topic8\", \"Topic8\", \"Topic8\", \"Topic8\", \"Topic8\", \"Topic8\", \"Topic8\", \"Topic8\", \"Topic8\", \"Topic8\", \"Topic8\", \"Topic8\", \"Topic8\", \"Topic8\", \"Topic8\", \"Topic8\", \"Topic8\", \"Topic8\", \"Topic8\", \"Topic8\", \"Topic8\", \"Topic9\", \"Topic9\", \"Topic9\", \"Topic9\", \"Topic9\", \"Topic9\", \"Topic9\", \"Topic9\", \"Topic9\", \"Topic9\", \"Topic9\", \"Topic9\", \"Topic9\", \"Topic9\", \"Topic9\", \"Topic9\", \"Topic9\", \"Topic9\", \"Topic9\", \"Topic9\", \"Topic9\", \"Topic9\", \"Topic9\", \"Topic9\", \"Topic9\", \"Topic9\", \"Topic9\", \"Topic9\", \"Topic9\", \"Topic9\", \"Topic9\", \"Topic9\", \"Topic9\", \"Topic9\", \"Topic9\", \"Topic9\", \"Topic9\", \"Topic9\", \"Topic9\", \"Topic9\", \"Topic9\", \"Topic9\", \"Topic9\", \"Topic9\", \"Topic9\", \"Topic9\", \"Topic9\", \"Topic9\", \"Topic9\", \"Topic9\"], \"logprob\": [30.0, 29.0, 28.0, 27.0, 26.0, 25.0, 24.0, 23.0, 22.0, 21.0, 20.0, 19.0, 18.0, 17.0, 16.0, 15.0, 14.0, 13.0, 12.0, 11.0, 10.0, 9.0, 8.0, 7.0, 6.0, 5.0, 4.0, 3.0, 2.0, 1.0, -4.473499774932861, -4.6417999267578125, -4.753399848937988, -5.135000228881836, -5.406599998474121, -5.428800106048584, -5.456399917602539, -5.475900173187256, -5.4517998695373535, -5.105100154876709, -5.611400127410889, -5.6483001708984375, -5.65369987487793, -5.811800003051758, -5.816999912261963, -5.249499797821045, -5.937900066375732, -5.943399906158447, -5.973999977111816, -6.008800029754639, -6.049200057983398, -6.094200134277344, -6.097499847412109, -6.106200218200684, -5.769499778747559, -6.199999809265137, -6.295100212097168, -3.436199903488159, -6.440999984741211, -6.576600074768066, -3.6054000854492188, -5.9019999504089355, -5.64169979095459, -5.7683000564575195, -3.9367001056671143, -4.537700176239014, -5.870100021362305, -4.560400009155273, -3.293299913406372, -4.0995001792907715, -4.064899921417236, -3.626699924468994, -4.4334001541137695, -4.551599979400635, -4.664899826049805, -4.4045000076293945, -3.983599901199341, -5.0543999671936035, -4.481900215148926, -4.559899806976318, -4.21589994430542, -4.618199825286865, -4.649499893188477, -5.1066999435424805, -5.055500030517578, -4.883200168609619, -4.773200035095215, -4.986299991607666, -3.8148999214172363, -3.5487000942230225, -4.770699977874756, -4.882299900054932, -4.869100093841553, -5.1041998863220215, -5.348199844360352, -5.4344000816345215, -5.537399768829346, -5.5167999267578125, -5.568900108337402, -5.886199951171875, -6.108399868011475, -5.884200096130371, -6.214300155639648, -6.208199977874756, -6.1072998046875, -6.024099826812744, -6.402699947357178, -6.480400085449219, -6.46619987487793, -6.569900035858154, -5.932000160217285, -6.706600189208984, -6.715000152587891, -6.7795000076293945, -6.808800220489502, -6.8225998878479, -7.070499897003174, -7.103099822998047, -4.4944000244140625, -5.05079984664917, -5.421000003814697, -5.006400108337402, -2.148900032043457, -3.2070000171661377, -5.594099998474121, -6.349800109863281, -4.3516998291015625, -5.347899913787842, -3.3310999870300293, -3.044300079345703, -4.620200157165527, -5.04010009765625, -2.7713000774383545, -5.325099945068359, -4.511499881744385, -4.624899864196777, -5.191500186920166, -3.9070000648498535, -3.823499917984009, -4.4415998458862305, -4.482500076293945, -5.194799900054932, -4.151199817657471, -4.833499908447266, -4.892000198364258, -4.911200046539307, -4.628900051116943, -5.086599826812744, -5.057199954986572, -4.966000080108643, -4.408100128173828, -4.732900142669678, -5.109600067138672, -5.164000034332275, -5.200300216674805, -5.318900108337402, -5.541999816894531, -5.456200122833252, -5.722899913787842, -5.8902997970581055, -5.951200008392334, -5.863900184631348, -6.054100036621094, -6.203999996185303, -6.2347002029418945, -5.68120002746582, -6.393400192260742, -6.427299976348877, -6.508900165557861, -6.7042999267578125, -6.72599983215332, -6.748300075531006, -6.751100063323975, -6.787600040435791, -6.901700019836426, -6.955999851226807, -6.9720001220703125, -6.980000019073486, -7.031199932098389, -4.56850004196167, -4.184800148010254, -5.339700222015381, -5.52209997177124, -6.475900173187256, -5.982900142669678, -4.64169979095459, -3.0841000080108643, -2.8131000995635986, -5.635799884796143, -5.425899982452393, -3.0388998985290527, -4.638999938964844, -2.8598999977111816, -5.489799976348877, -4.26800012588501, -5.200699806213379, -2.988600015640259, -3.3477001190185547, -3.2012999057769775, -4.567500114440918, -5.324399948120117, -4.815700054168701, -4.8246002197265625, -4.32390022277832, -4.350200176239014, -4.9319000244140625, -4.877299785614014, -4.977499961853027, -4.835400104522705, -5.071000099182129, -5.019800186157227, -4.868299961090088, -4.929800033569336, -4.988699913024902, -5.026599884033203, -5.0578999519348145, -2.5755999088287354, -4.124800205230713, -4.253499984741211, -5.126299858093262, -5.251999855041504, -5.412899971008301, -4.570899963378906, -5.749499797821045, -5.882900238037109, -6.0142998695373535, -6.151299953460693, -6.18149995803833, -6.0395002365112305, -6.547699928283691, -6.5081000328063965, -6.679900169372559, -6.6855998039245605, -6.803699970245361, -6.843800067901611, -6.88040018081665, -6.898799896240234, -6.912399768829346, -7.003499984741211, -7.065800189971924, -7.139200210571289, -7.158299922943115, -7.161200046539307, -7.162700176239014, -7.237199783325195, -7.267499923706055, -2.649199962615967, -5.613999843597412, -5.108699798583984, -5.361999988555908, -5.437699794769287, -4.034800052642822, -4.118500232696533, -4.587600231170654, -3.513000011444092, -4.417799949645996, -2.2906999588012695, -3.4851999282836914, -3.934299945831299, -5.006700038909912, -4.883399963378906, -5.283899784088135, -4.266200065612793, -2.7995998859405518, -4.708399772644043, -3.6751999855041504, -4.4822001457214355, -4.683000087738037, -4.12939977645874, -4.831500053405762, -4.963500022888184, -4.783199787139893, -4.22790002822876, -4.813899993896484, -4.622600078582764, -4.630000114440918, -4.956299781799316, -4.900400161743164, -2.4937000274658203, -3.7535998821258545, -4.412499904632568, -5.0366997718811035, -4.265600204467773, -5.4842000007629395, -5.6118998527526855, -5.68209981918335, -5.753499984741211, -5.952000141143799, -6.004899978637695, -6.014800071716309, -6.011000156402588, -6.032700061798096, -6.096099853515625, -6.156700134277344, -6.159800052642822, -6.338200092315674, -6.386499881744385, -6.441199779510498, -6.4008002281188965, -6.507999897003174, -6.526199817657471, -6.527299880981445, -6.540299892425537, -6.441999912261963, -6.598400115966797, -6.6483001708984375, -6.642300128936768, -6.665900230407715, -4.796199798583984, -6.5370001792907715, -5.81279993057251, -3.2562999725341797, -5.092400074005127, -4.973299980163574, -4.930600166320801, -5.8856000900268555, -3.3691999912261963, -4.909200191497803, -5.327700138092041, -4.503499984741211, -2.895900011062622, -3.6338999271392822, -4.174499988555908, -5.595300197601318, -5.240300178527832, -4.838699817657471, -4.398499965667725, -5.04040002822876, -5.412399768829346, -4.233799934387207, -4.146299839019775, -5.19950008392334, -4.037499904632568, -4.860400199890137, -4.770400047302246, -4.264699935913086, -5.174600124359131, -5.065199851989746, -4.999599933624268, -4.826200008392334, -3.9586000442504883, -4.194699764251709, -4.212800025939941, -4.718100070953369, -4.924499988555908, -5.087399959564209, -5.127200126647949, -5.187699794769287, -5.255499839782715, -5.319799900054932, -5.360000133514404, -5.394800186157227, -5.600500106811523, -5.6092000007629395, -5.605400085449219, -5.746300220489502, -5.751200199127197, -5.7104997634887695, -5.868800163269043, -5.903500080108643, -5.910799980163574, -6.009399890899658, -6.0258002281188965, -6.081099987030029, -4.689599990844727, -6.21750020980835, -6.257900238037109, -6.274600028991699, -6.282199859619141, -6.28849983215332, -5.390999794006348, -4.1697998046875, -4.031599998474121, -3.3496999740600586, -5.424799919128418, -5.5725998878479, -5.469799995422363, -5.305200099945068, -3.8454999923706055, -3.9279000759124756, -4.7941999435424805, -5.220200061798096, -4.139699935913086, -4.933599948883057, -5.222599983215332, -4.664700031280518, -4.9822001457214355, -4.682799816131592, -4.990099906921387, -4.313399791717529, -4.833700180053711, -4.876699924468994, -4.453400135040283, -5.0528998374938965, -4.996699810028076, -4.921299934387207, -5.050600051879883, -4.938000202178955, -4.972599983215332, -4.8516998291015625, -5.036900043487549, -3.520699977874756, -4.6280999183654785, -5.223199844360352, -5.465099811553955, -5.543300151824951, -5.5524001121521, -5.6620001792907715, -5.75600004196167, -4.03980016708374, -5.894700050354004, -4.895899772644043, -6.021399974822998, -5.882599830627441, -6.085100173950195, -6.307300090789795, -6.3231000900268555, -6.33489990234375, -6.605500221252441, -6.751100063323975, -6.769199848175049, -6.901100158691406, -6.92080020904541, -6.934100151062012, -6.968900203704834, -7.019499778747559, -7.013599872589111, -7.097899913787842, -6.565899848937988, -7.078499794006348, -7.174900054931641, -3.551100015640259, -4.6367998123168945, -4.968500137329102, -1.652400016784668, -6.724299907684326, -5.239099979400635, -4.909599781036377, -3.3403000831604004, -2.848400115966797, -4.80079984664917, -3.6171998977661133, -4.365300178527832, -4.057700157165527, -2.914599895477295, -4.898399829864502, -4.054200172424316, -4.895699977874756, -4.361000061035156, -5.082600116729736, -4.005099773406982, -4.701399803161621, -3.9791998863220215, -4.386499881744385, -5.033899784088135, -4.702700138092041, -5.181300163269043, -4.870699882507324, -5.058499813079834, -3.783600091934204, -4.141200065612793, -4.237199783325195, -4.2932000160217285, -4.557799816131592, -4.62939977645874, -4.768599987030029, -4.787099838256836, -4.404900074005127, -4.964700222015381, -5.28879976272583, -5.293300151824951, -5.377299785614014, -4.123499870300293, -5.4953999519348145, -4.1230998039245605, -5.671899795532227, -5.776800155639648, -5.824999809265137, -5.7434000968933105, -5.905900001525879, -5.908400058746338, -5.97130012512207, -5.993299961090088, -6.045899868011475, -6.111299991607666, -5.907700061798096, -6.168300151824951, -6.201399803161621, -6.245800018310547, -5.790599822998047, -4.18209981918335, -4.395699977874756, -5.556399822235107, -4.047800064086914, -5.602700233459473, -4.407100200653076, -4.12470006942749, -4.276500225067139, -4.216700077056885, -4.710000038146973, -4.776299953460693, -5.204999923706055, -5.159900188446045, -3.594899892807007, -4.403900146484375, -4.716599941253662, -4.942699909210205, -4.513400077819824, -4.581900119781494, -4.5391998291015625, -4.73960018157959, -4.649899959564209, -2.737799882888794, -3.7307000160217285, -3.0100998878479004, -4.5019001960754395, -4.503300189971924, -4.604499816894531, -5.01609992980957, -5.654799938201904, -4.638400077819824, -5.674900054931641, -5.703499794006348, -5.833000183105469, -5.85890007019043, -5.878399848937988, -5.976900100708008, -6.004300117492676, -4.480400085449219, -6.157700061798096, -6.209799766540527, -6.214000225067139, -6.2982001304626465, -6.327300071716309, -6.343999862670898, -6.343299865722656, -4.329599857330322, -6.556700229644775, -6.5843000411987305, -6.613999843597412, -6.617599964141846, -6.657400131225586, -4.006499767303467, -1.9850000143051147, -4.044600009918213, -5.423399925231934, -3.502000093460083, -5.013599872589111, -5.29449987411499, -2.7953999042510986, -5.109799861907959, -4.876500129699707, -3.672499895095825, -2.8989999294281006, -4.32450008392334, -3.8742001056671143, -4.597099781036377, -5.060100078582764, -5.147600173950195, -4.553299903869629, -4.352200031280518, -4.3144001960754395], \"loglift\": [30.0, 29.0, 28.0, 27.0, 26.0, 25.0, 24.0, 23.0, 22.0, 21.0, 20.0, 19.0, 18.0, 17.0, 16.0, 15.0, 14.0, 13.0, 12.0, 11.0, 10.0, 9.0, 8.0, 7.0, 6.0, 5.0, 4.0, 3.0, 2.0, 1.0, 1.4178, 1.4177, 1.4175, 1.4169, 1.4163, 1.4163, 1.4162, 1.4162, 1.4161, 1.4161, 1.4158, 1.4157, 1.4156, 1.4151, 1.4151, 1.4151, 1.4146, 1.4146, 1.4145, 1.4143, 1.4141, 1.4139, 1.4139, 1.4138, 1.4135, 1.4134, 1.4128, 1.4119, 1.4119, 1.4109, 1.3933, 1.4067, 1.402, 1.4003, 1.1928, 1.2229, 1.3864, 1.0166, 0.4207, 0.6963, 0.6053, 0.3252, 0.687, 0.6592, 0.6919, 0.5227, 0.2287, 0.8072, 0.2637, 0.3335, -0.0507, 0.3298, -0.0661, 0.7591, 0.6015, 0.059, -0.3402, -1.4439, 1.5833, 1.5825, 1.5824, 1.5822, 1.5821, 1.5814, 1.5813, 1.581, 1.5807, 1.5807, 1.5806, 1.5794, 1.5783, 1.5782, 1.5777, 1.5776, 1.577, 1.5769, 1.5762, 1.5759, 1.5757, 1.5752, 1.574, 1.5739, 1.5738, 1.5731, 1.5728, 1.5726, 1.5696, 1.5686, 1.5659, 1.565, 1.5658, 1.5611, 1.5178, 1.5241, 1.5545, 1.5684, 1.412, 1.4445, 1.0944, 1.0383, 1.2714, 1.3132, 0.7711, 1.3799, 1.1509, 1.1015, 1.2816, 0.5259, 0.3418, 0.5007, 0.4446, 1.1876, -0.1213, 0.6611, 0.6805, 0.6815, 0.1166, 0.9336, 0.596, -0.018, 2.2199, 2.2192, 2.2179, 2.2177, 2.2172, 2.217, 2.2157, 2.215, 2.2145, 2.2131, 2.2126, 2.2119, 2.2116, 2.2099, 2.2095, 2.2092, 2.2074, 2.2068, 2.2056, 2.2021, 2.2016, 2.2012, 2.2011, 2.2004, 2.1978, 2.1964, 2.196, 2.1958, 2.1945, 2.1943, 2.1426, 2.1551, 2.1434, 2.1686, 2.1338, 2.0212, 1.8093, 1.7703, 2.0759, 2.0186, 1.6313, 1.7996, 1.3524, 1.9442, 1.5654, 1.8424, 0.7254, 0.6042, 0.3411, 1.2127, 1.7534, 1.1902, 0.9724, 0.1091, -0.1849, 0.8601, 0.6997, 0.884, 0.0311, 0.8203, 0.5607, -0.7856, -0.5044, -0.2432, -0.0786, 0.299, 2.3293, 2.3264, 2.3258, 2.325, 2.3244, 2.3235, 2.3231, 2.321, 2.3198, 2.3185, 2.3168, 2.3164, 2.3137, 2.3107, 2.3096, 2.308, 2.3079, 2.3052, 2.3042, 2.3033, 2.3028, 2.3023, 2.2999, 2.298, 2.2956, 2.2949, 2.2949, 2.2948, 2.292, 2.291, 2.1157, 2.1859, 2.0789, 2.0996, 2.1035, 1.8865, 1.8875, 1.8975, 1.6978, 1.8543, 1.4232, 1.6352, 1.7227, 1.8248, 1.753, 1.8511, 1.3869, 0.7428, 1.5722, 0.7578, 1.1105, 1.1828, 0.6161, 1.3009, 1.409, 1.0087, -0.1452, 0.6827, -0.1971, -0.6001, 0.7422, 0.0418, 2.583, 2.5819, 2.5805, 2.5779, 2.5768, 2.5751, 2.574, 2.5733, 2.5725, 2.5702, 2.5694, 2.5693, 2.569, 2.5689, 2.5681, 2.5672, 2.5671, 2.564, 2.563, 2.5619, 2.5618, 2.5604, 2.56, 2.56, 2.5597, 2.559, 2.5583, 2.557, 2.557, 2.5565, 2.5551, 2.5555, 2.5322, 2.4238, 2.4995, 2.4918, 2.4129, 2.4972, 2.2112, 2.3645, 2.3999, 2.2571, 1.9, 1.8854, 1.9812, 2.3659, 2.1565, 1.7974, 1.4997, 1.9182, 2.1633, 1.2273, 0.9833, 1.8747, 0.546, 1.4372, 1.2527, 0.4808, 1.6342, 1.353, 0.7806, -1.2838, 2.6456, 2.6451, 2.645, 2.6434, 2.6425, 2.6415, 2.6413, 2.641, 2.6405, 2.64, 2.6397, 2.6393, 2.6377, 2.6376, 2.6369, 2.6361, 2.6359, 2.6344, 2.6344, 2.6342, 2.6341, 2.6327, 2.6325, 2.6316, 2.6306, 2.6293, 2.6286, 2.6283, 2.6281, 2.628, 2.6235, 2.5703, 2.5205, 2.3579, 2.5536, 2.5671, 2.5402, 2.4277, 1.9473, 1.9055, 2.2137, 2.3641, 1.7378, 2.1667, 2.2929, 1.7534, 1.9749, 1.6148, 1.9366, 0.8761, 1.6186, 1.3665, -0.0279, 1.6785, 1.2748, 0.8706, 1.4949, 0.8902, 0.5468, -0.6864, 1.1188, 2.651, 2.6485, 2.6455, 2.6436, 2.6429, 2.6428, 2.6417, 2.6407, 2.6396, 2.639, 2.6377, 2.6372, 2.6372, 2.6362, 2.6323, 2.632, 2.6318, 2.6255, 2.6213, 2.6207, 2.6164, 2.6157, 2.6152, 2.614, 2.612, 2.612, 2.6088, 2.6083, 2.606, 2.6054, 2.5619, 2.547, 2.5453, 2.3774, 2.5961, 2.5003, 2.4383, 2.1563, 2.0181, 2.29, 1.8774, 2.0054, 1.6687, 1.168, 1.9369, 1.5183, 1.8146, 1.436, 1.5842, 0.1602, 0.961, -0.3125, 0.039, 1.3347, 0.2244, 1.5256, 0.0773, 0.8331, 2.6893, 2.6886, 2.6883, 2.6882, 2.6873, 2.6871, 2.6865, 2.6864, 2.6859, 2.6855, 2.6834, 2.6833, 2.6827, 2.6819, 2.6816, 2.6804, 2.6798, 2.6786, 2.678, 2.6778, 2.6769, 2.6768, 2.6759, 2.6756, 2.6748, 2.6737, 2.6733, 2.6727, 2.6719, 2.6712, 2.6704, 2.6136, 2.6036, 2.6431, 2.3629, 2.606, 2.3116, 1.9776, 2.0378, 1.9005, 2.0578, 1.9404, 2.2157, 2.1643, 0.6174, 1.0572, 1.326, 1.5182, 0.4289, 0.3661, -0.1062, 0.45, -0.2245, 2.773, 2.7719, 2.7713, 2.7699, 2.7698, 2.7694, 2.7673, 2.7617, 2.7615, 2.7614, 2.761, 2.7593, 2.759, 2.7587, 2.7571, 2.7567, 2.7544, 2.7539, 2.7528, 2.7527, 2.7509, 2.7503, 2.7499, 2.7497, 2.7464, 2.7443, 2.7435, 2.7426, 2.7425, 2.7413, 2.7228, 1.9669, 2.3203, 2.54, 2.1965, 2.4613, 2.4475, 1.3698, 2.2472, 1.9611, 1.1941, 0.6434, 1.5668, 1.0738, 1.646, 1.8484, 1.7331, 0.8036, 0.4127, -0.2317]}, \"token.table\": {\"Topic\": [1, 3, 8, 3, 2, 2, 5, 2, 1, 5, 8, 1, 7, 3, 6, 1, 7, 9, 1, 4, 5, 2, 5, 7, 1, 3, 3, 1, 2, 3, 4, 5, 6, 7, 8, 9, 2, 7, 1, 4, 8, 4, 3, 8, 4, 8, 4, 5, 1, 4, 5, 6, 8, 9, 1, 2, 3, 4, 5, 6, 7, 9, 5, 3, 5, 6, 1, 7, 6, 2, 2, 7, 1, 2, 5, 6, 7, 8, 2, 3, 4, 9, 9, 1, 3, 1, 2, 3, 6, 9, 1, 2, 3, 4, 5, 6, 9, 1, 8, 1, 8, 1, 1, 5, 4, 1, 3, 4, 7, 2, 5, 6, 2, 7, 3, 6, 5, 3, 9, 1, 5, 6, 8, 2, 3, 7, 7, 1, 1, 2, 3, 4, 5, 6, 7, 8, 9, 6, 7, 8, 2, 3, 1, 1, 1, 3, 4, 5, 6, 7, 9, 3, 6, 1, 2, 5, 7, 8, 1, 3, 6, 8, 1, 6, 1, 2, 3, 4, 5, 7, 8, 1, 4, 1, 1, 9, 4, 7, 3, 4, 5, 6, 1, 1, 2, 3, 4, 5, 6, 8, 9, 2, 2, 3, 4, 6, 9, 1, 3, 6, 2, 3, 8, 7, 8, 1, 2, 3, 4, 5, 8, 9, 2, 2, 6, 9, 3, 5, 1, 4, 9, 1, 2, 3, 5, 6, 7, 8, 9, 1, 2, 3, 4, 7, 8, 9, 3, 4, 5, 7, 8, 7, 4, 7, 7, 3, 9, 1, 2, 3, 4, 5, 6, 7, 8, 6, 5, 9, 1, 3, 4, 8, 5, 6, 8, 6, 1, 9, 2, 8, 1, 8, 1, 3, 5, 6, 8, 9, 8, 9, 1, 4, 4, 2, 3, 4, 1, 4, 9, 3, 9, 4, 7, 1, 7, 3, 1, 4, 5, 6, 7, 7, 2, 4, 2, 3, 4, 5, 7, 1, 2, 4, 6, 7, 8, 1, 2, 8, 9, 1, 2, 3, 4, 5, 6, 7, 8, 1, 2, 3, 4, 5, 6, 7, 8, 9, 9, 1, 1, 2, 4, 5, 6, 8, 9, 1, 2, 4, 5, 7, 8, 1, 3, 6, 5, 2, 2, 1, 4, 5, 8, 1, 5, 7, 9, 1, 2, 6, 3, 3, 6, 1, 4, 8, 9, 8, 3, 1, 2, 3, 4, 6, 8, 9, 9, 1, 8, 1, 8, 9, 5, 1, 2, 3, 6, 7, 8, 7, 7, 1, 2, 3, 4, 5, 6, 7, 3, 4, 1, 9, 4, 8, 9, 1, 9, 7, 3, 1, 2, 3, 4, 5, 6, 7, 8, 9, 4, 8, 1, 2, 3, 4, 5, 6, 8, 1, 2, 3, 6, 7, 8, 9, 1, 2, 3, 6, 7, 9, 1, 3, 1, 3, 1, 3, 4, 9, 1, 4, 7, 8, 1, 2, 3, 4, 5, 6, 7, 8, 7, 7, 1, 6, 8, 8, 3, 1, 3, 9, 5, 6, 5, 4, 3, 4, 9, 1, 3, 6, 8, 1, 2, 3, 4, 6, 7, 8, 9, 9, 7, 1, 2, 5, 6, 1, 2, 3, 4, 6, 8, 9, 1, 1, 3, 5, 6, 3, 1, 2, 3, 5, 1, 2, 6, 8, 3, 1, 5, 1, 1, 2, 3, 4, 5, 7, 8, 1, 2, 3, 5, 8, 3, 1, 2, 3, 4, 5, 6, 7, 8, 9, 1, 5, 8, 1, 1, 2, 3, 4, 5, 6, 8, 9, 2, 1, 1, 8, 1, 2, 3, 5, 6, 8, 1, 2, 3, 5, 8, 9, 1, 2, 3, 4, 5, 6, 8, 4, 8, 1, 3, 4, 6, 9, 7, 7, 1, 5, 6, 4, 5, 8, 1, 3, 5, 9, 4, 1, 5, 6, 6, 5, 1, 6, 1, 7, 1, 1, 2, 3, 4, 5, 6, 7, 8, 9, 7, 3, 1, 3, 4, 8, 3, 1, 1, 2, 3, 4, 5, 6, 7, 8, 9, 2, 3, 1, 8, 3, 1, 3, 5, 6, 8, 1, 2, 3, 4, 5, 6, 8, 9, 9, 2, 3, 4, 6, 6, 9, 5, 6, 4, 1, 7, 8, 6, 8, 1, 4, 1, 5, 6, 9, 2, 3, 4, 6, 1, 2, 3, 7, 8, 2, 2, 5, 6, 2, 5, 6, 4, 9, 5, 5, 3, 5, 6, 8, 1, 4, 9, 7, 2, 1, 2, 3, 4, 6, 8, 9, 4, 1, 4, 6, 2, 4, 5, 6, 7, 8, 1, 1, 3, 6, 9, 5, 6, 4, 1, 4, 2, 5, 7, 8, 9, 9, 6, 9, 3, 9, 4, 3, 5, 1, 2, 3, 4, 5, 6, 7, 1, 2, 3, 4, 5, 6, 7, 8, 9, 4, 1, 3, 4, 6, 8, 9, 5, 5, 1, 4, 5, 6, 7, 8, 1, 2, 3, 4, 5, 6, 7, 8, 1, 2, 3, 4, 5, 6, 7, 8, 9, 1, 2, 3, 5, 6, 7, 8, 9, 1, 7, 1, 5, 8, 5, 1, 2, 3, 4, 6, 7, 8, 9, 2, 8, 5, 1, 5, 8, 1, 3, 5, 8, 9, 2, 1, 5, 9, 2, 1, 2, 3, 4, 5, 7, 8, 9, 7, 4, 2, 6, 7, 8, 7, 1, 9, 9, 1, 2, 5, 7, 8, 9, 1, 5, 6, 9, 3, 1, 3, 8, 9, 6, 3, 7, 8, 5, 4, 5, 9, 5, 4, 5, 5, 1, 2, 3, 4, 5, 6, 7, 8, 9, 8, 8, 1, 5, 6, 9, 7, 1, 2, 3, 4, 5, 6, 3, 1, 4, 5, 6, 8, 7, 5, 1, 3, 3, 9, 1, 1, 3, 8, 8, 7, 4, 6, 1, 2, 3, 4, 5, 6, 7, 8, 9, 8, 4, 7, 6, 8, 5, 8, 1, 1, 6, 1, 3, 4, 6, 8, 9, 2, 3, 7, 8, 5, 2, 9, 2, 7, 9, 6, 1, 2, 3, 4, 5, 6, 8, 9, 3, 1, 2, 3, 4, 5, 6, 7, 8, 9, 7, 4, 6, 1, 5, 2, 2, 6, 2, 4, 2, 4, 5, 7, 4, 6, 6, 1, 2, 3, 4, 5, 6, 7, 8, 9, 3, 2, 4, 5, 7, 7, 8, 1, 5, 8, 3, 5, 8, 1, 3, 4, 6, 8, 6, 1, 2, 1, 2, 6, 7, 8, 2, 1, 2, 3, 4, 5, 6, 7, 8, 9, 1, 3, 4, 6, 1, 2, 4, 6, 7, 8, 9, 8, 8, 1, 2, 3, 4, 5, 6, 7, 8, 9, 5, 7, 4, 5, 5, 5, 6, 2, 3, 1, 2, 4, 6, 9, 1, 9, 1, 8, 3, 4], \"Freq\": [0.013315988967911902, 0.2644174952199649, 0.7209656884055158, 0.9765010697200075, 0.9966266112640155, 0.9815155682474189, 0.013538145768929916, 0.9956294761130362, 0.9980466021771164, 0.9987544708555175, 0.9964188758189692, 0.03491226612152462, 0.9426311852811647, 0.9945769305434592, 0.9730478603994264, 0.9963045672197306, 0.9882247740297304, 0.01169496773999681, 0.9974232948518286, 0.48370760175799477, 0.5133223528860352, 0.9897873192545059, 0.005688432869278769, 0.005688432869278769, 0.9823412588793059, 0.01623704560131084, 0.9871403484919139, 0.17216904796870408, 0.34723390561272277, 0.12083424008812718, 0.20770853034756503, 0.02079717857725936, 0.020533923152230762, 0.029484607603203147, 0.06107525860663509, 0.020007412302173563, 0.9708328327872578, 0.027851761596355756, 0.003084314609948396, 0.9931493044033836, 0.9726243265360441, 0.999710614873422, 0.7569438017926856, 0.23819909846622975, 0.9820894475426825, 0.9848242558137482, 0.9463793834496745, 0.9868396351133726, 0.2752776217665542, 0.6027131087099292, 0.037669569294370576, 0.07533913858874115, 0.0028976591764900443, 0.0057953183529800886, 0.1208516271345488, 0.13366922395184944, 0.17395309966336572, 0.3973455013363196, 0.005493255778843128, 0.014648682076915007, 0.10437185979801943, 0.04760821674997377, 0.9587750354017003, 0.03948902859930474, 0.9477366863833138, 0.9888256001195581, 0.09478760426458402, 0.8984216404208397, 0.9886697718702946, 0.994897047542142, 0.8694287116036696, 0.1281850023518231, 0.00012234772001381685, 0.9360824058257127, 0.002936345280331604, 0.009053731281022447, 0.051630737845830714, 0.0002446954400276337, 0.6731341849849886, 0.09246348694848745, 0.16828354624624714, 0.06472444086394122, 0.993872928710378, 0.008354886690652642, 0.9858766294970117, 0.08177138398853401, 0.07995424212212214, 0.19806846343889348, 0.0036342837328237334, 0.6359996532441533, 0.1588144307614894, 0.3486170431349767, 0.05164696935332989, 0.08134397673149457, 0.26469071793581567, 0.08134397673149457, 0.011620568104499225, 0.9899211680123352, 0.009338878943512596, 0.005645738966574659, 0.9908271886338527, 0.9942578654822956, 0.7977523341493827, 0.20181549115567166, 0.9745807252885087, 0.5174054876054381, 0.15555260928009973, 0.3177244785295654, 0.008825679959154595, 0.0687571495432526, 0.005289011503327123, 0.9255770130822465, 0.998532560401345, 0.0010583280979346529, 0.11832653061816498, 0.8808752834907837, 0.9954859880247107, 0.9903860761801899, 0.9734144260724014, 0.19388811033779307, 0.8026065962820271, 0.9940290369987936, 0.9946792242411899, 0.9932814585026788, 0.989298880258227, 0.9546344287679318, 0.9873462169450926, 0.994858461168847, 0.2300287664837321, 0.2888452286669631, 0.09003752943802824, 0.004632803528131208, 0.0006042787210605923, 0.03565244454257494, 0.08278618478530114, 0.02175403395818132, 0.2457400132313075, 0.9878863381780144, 0.9780818866023427, 0.9981146053858891, 0.9878827931789982, 0.008590285158078246, 0.9977164579519218, 0.9983228116170886, 0.34380103439007276, 0.005581185623215467, 0.11720489808752481, 0.07143917597715797, 0.4029616019961567, 0.0022324742492861867, 0.056928093356797764, 0.973924409167059, 0.9783624473318173, 0.12188515470751393, 0.02216093721954799, 0.49123410836664705, 0.1071111965611486, 0.2548507780248019, 0.15539714801559532, 0.002825402691192642, 0.7487317131660501, 0.09323828880935718, 0.014171983419651903, 0.9825908504291986, 0.08566020599675542, 0.8416613263634689, 0.0049802445346950825, 0.01693283141796328, 0.015936782511024265, 0.018924929231841314, 0.014940733604085247, 0.9661831488525953, 0.02659219675741088, 0.9993114287855759, 0.002027971559728797, 0.9977620073865683, 0.973730389858625, 0.9533351408305301, 0.9859263286176622, 0.0029293661835044257, 0.9930551362080002, 0.9885062268657333, 0.9968763887729464, 0.20714355329439268, 0.10562270291743785, 0.01948379956729436, 0.05742593556676233, 0.05947686183700384, 0.4963241573984458, 0.0030763894053622673, 0.050247693620917036, 0.9919468656503027, 0.011373538582320628, 0.09477948818600523, 0.27296492597569505, 0.6179622629727541, 0.9848140441060546, 0.0355160297696681, 0.9411747888962045, 0.9870936611003207, 0.9960771729136091, 0.9114158388909583, 0.073332308876284, 0.0822516867581112, 0.9150500151839871, 0.4309233990787425, 0.06513958358167038, 0.005010737198590029, 0.46933905093459943, 0.003340491465726686, 0.023383440260086805, 0.003340491465726686, 0.9965665228536809, 0.9827107454564216, 0.9962834654389844, 0.9764242288935127, 0.06835330370679119, 0.9159342696710019, 0.23331792718194866, 0.20438650421138702, 0.5618295686541324, 0.22553947272767902, 0.007092436249298083, 0.009929410749017315, 0.048228566495226964, 0.11915292898820778, 0.10922351823919048, 0.4539159199550773, 0.026951257747332712, 0.0011320730759799141, 0.7313192070830246, 0.0011320730759799141, 0.06905645763477476, 0.1618864498651277, 0.02150938844361837, 0.01358487691175897, 0.011266768628887291, 0.2215797830347834, 0.022533537257774582, 0.6947840654480496, 0.045067074515549164, 0.9803827442697965, 0.960951780340877, 0.9876793747966738, 0.9891628646593432, 0.9274364562890713, 0.07339425193654521, 0.31575633568697714, 0.0875874217872967, 0.022816891389968046, 0.027233063917058636, 0.2576100640802844, 0.07728301922408531, 0.015456603844817065, 0.19504761994650105, 0.9935421354444995, 0.9878299729916635, 0.9904904322794174, 0.3404896807716399, 0.004664242202351231, 0.642499363373882, 0.012826666056465885, 0.09415790034306895, 0.894500053259155, 0.9938956396732802, 0.9972751686872267, 0.5539483704355141, 0.44315869634841126, 0.9985058864039607, 0.9979661687125086, 0.9922498362889209, 0.9964313500452947, 0.22643527035586267, 0.6364667058651275, 0.13035327725891555, 0.0012239744343560143, 0.002141955260123025, 0.0033659296944790395, 0.9926744818554393, 0.9960038567001644, 0.21926516735014817, 0.7777707822986388, 0.9889196636464281, 0.9981036217717136, 0.35663382107642294, 0.6421947098386833, 0.06481422994745423, 0.7954473675369382, 0.12962845989490845, 0.19770861346791652, 0.7908344538716661, 0.13648818369649948, 0.8620306338726283, 0.09745484254403589, 0.9000241340831548, 0.9797229472378861, 0.031077645624706975, 0.043791227925723465, 0.005650481022673995, 0.004237860767005497, 0.9139653054175187, 0.9473378300376158, 0.9948346118036442, 0.9881964594334479, 0.22297877850522937, 0.08407396566590615, 0.15352637208556777, 0.014621559246244548, 0.5245484379590232, 0.09517289314735991, 0.7391086382720504, 0.028349372426873166, 0.06277361037379059, 0.040499103466961665, 0.032399282773569335, 0.0037003527950354234, 0.01110105838510627, 0.01110105838510627, 0.9731927850943164, 0.11272156419599934, 0.40563307407757426, 0.10120257223436437, 0.0074050662610510515, 0.006582281120934268, 0.04196204214595596, 0.32170898978566237, 0.004113925700583917, 0.06899689888645541, 0.15653027807076453, 0.2862856401557404, 0.15138125576580516, 0.012357653531902463, 0.008238435687934975, 0.2965836847656591, 0.018536480297853694, 0.001029804460991872, 0.9896564307828313, 0.9988316831008447, 0.21244352591357363, 0.23510416867768813, 0.03965612483720041, 0.38806350733546113, 0.12180095485711553, 0.002832580345514315, 0.9742002024810955, 0.07364204701901364, 0.7633626825141657, 0.041311392230178386, 0.11854573422572927, 0.0017961474882686253, 0.0017961474882686253, 0.33794337247174666, 0.6617014675804818, 0.9790250783513521, 0.9781505714197568, 0.9955036633559546, 0.9948963837776807, 0.37261516535765654, 0.6210252755960943, 0.004968202204768755, 0.9951356330932095, 0.008674279699124493, 0.004337139849562246, 0.004337139849562246, 0.9801936060010678, 0.9955778256050282, 0.002452162132032089, 0.9966439205561055, 0.9849179717513598, 0.9843135679120382, 0.9936474516630417, 0.48112643987878756, 0.49945008013532466, 0.01937070541405347, 0.9776992966241878, 0.9801154294252825, 0.9894559527395389, 0.483448089322104, 0.1253383935279529, 0.14589654273095046, 0.0318319729594801, 0.051063789955832654, 0.02254764751296507, 0.13926488169772544, 0.999409051111035, 0.46492136927457106, 0.5301734912780196, 0.2156331909121239, 0.18622866487865247, 0.5929912750083407, 0.9881207318176921, 0.22512323465425552, 0.29094874186310216, 0.0882061796598545, 0.1158528926875701, 0.02369718259518479, 0.25540296797032497, 0.9779064153787889, 0.9400076492407866, 0.002638838984577313, 0.18172804473789098, 0.0001759225989718209, 0.05348047008743355, 0.0007036903958872835, 0.001583303390746388, 0.7596337823603225, 0.001980977068824203, 0.9964314656185741, 0.04709411074773828, 0.949731233412722, 0.994790073039476, 0.9882100022108121, 0.9989556658329417, 0.9951041681976038, 0.9815960561853815, 0.9992022063707557, 0.985449328418738, 0.05715663503910989, 0.44363921260980194, 0.1524537089606504, 0.20453215525337434, 0.02096103439997603, 0.00010804656907204139, 0.0006482794144322484, 0.0017287451051526622, 0.11885122597924552, 0.9815983308439813, 0.9794620414221508, 0.035752989430891446, 0.05958831571815241, 0.03336945680216535, 0.019068261029808773, 0.45525473208668443, 0.29794157859076204, 0.09772483777776995, 0.21502278354819726, 0.1505159484837381, 0.24671035165003685, 0.0011316988607799855, 0.011316988607799856, 0.07695552253303901, 0.2987684992459162, 0.46799128267055295, 0.04957534774052468, 0.007932055638483948, 0.3569425037317777, 0.001983013909620987, 0.11303179284839628, 0.07526464395605309, 0.9241798141580473, 0.18186831025729694, 0.8184073961578362, 0.46940804775816836, 0.0563289657309802, 0.07510528764130693, 0.3974321471019159, 0.0024890359429734182, 0.0024890359429734182, 0.9881472693604471, 0.0049780718859468364, 0.10873814831989108, 0.13592268539986385, 0.022087436377477874, 0.01868936924248128, 0.31771927712218173, 0.35679704917464256, 0.003398067134996596, 0.03737873848496256, 0.9690673569062733, 0.957740514577772, 0.2252224697225481, 0.08801797667317972, 0.6834337012270425, 0.9827183286067017, 0.9904814084836767, 0.13276162127298421, 0.8664442651500023, 0.9847750227731576, 0.9645498074026786, 0.986809842062707, 0.9879553973927405, 0.961000731101, 0.6553695205738465, 0.34235721224006904, 0.9871638674899919, 0.004271908076337015, 0.5190368312749474, 0.4763177505115772, 0.9875059300571724, 0.041831209393674074, 0.13836476953292193, 0.01126224868291225, 0.0016088926689874644, 0.2783384317348313, 0.19950269095444556, 0.0064355706759498576, 0.32338742646648033, 0.9856674416885159, 0.9780605930670936, 0.010199603439443003, 0.08669662923526553, 0.6527746201243522, 0.24989028426635357, 0.0935568529658601, 0.0003668896194739612, 0.002201337716843767, 0.8075240524621885, 0.0003668896194739612, 0.0014675584778958447, 0.09429063220480802, 0.9947655517980599, 0.4431963762091513, 0.5539954702614391, 0.0016686610550043347, 0.0010011966330026008, 0.9924225325982651, 0.12146948433627733, 0.11877016246213783, 0.037790506237952944, 0.7207189403952455, 0.0013400687844338384, 0.9822704189900036, 0.012060619059904546, 0.004020206353301516, 0.9882677804188033, 0.9983210227719127, 0.9639836054064169, 0.9974672111992752, 0.03780726664972761, 0.6490247441536573, 0.01260242221657587, 0.00180034603093941, 0.11252162693371313, 0.18453546817128952, 0.00180034603093941, 0.04398062930820806, 0.0009162631105876678, 0.07971489062112709, 0.852124692846531, 0.022906577764691693, 0.9931245037653257, 0.31487329889102605, 0.23066718238759737, 0.08492582690089388, 0.1802874545650332, 0.1219909123703518, 0.019792035930293064, 0.009716090365780233, 0.007556959173384625, 0.0298679814948059, 0.9986580267257863, 0.034142058041931996, 0.9559776251740958, 0.9952855653759239, 0.1393475192525176, 0.08709219953282349, 0.2561535280377161, 0.2663996691592248, 0.04098456448603458, 0.16906132850489267, 0.03893533626173285, 0.0010246141121508646, 0.9985014062910105, 0.9897344755433868, 0.014782017037433265, 0.9756131244705954, 0.034759400576229456, 0.9420506931680146, 0.007448442980620597, 0.0007093755219638664, 0.013478134917313462, 0.0014187510439277328, 0.3862851629365019, 0.0843218349772895, 0.11394842564498582, 0.3384268241656079, 0.01253432682094844, 0.06495060261764192, 0.23337903311781993, 0.40547508271909005, 0.05036957549305466, 0.295501509559254, 0.0025184787746527332, 0.0008394929248842443, 0.012592393873263665, 0.993283296959934, 0.9866036465768835, 0.3350523392775534, 0.19836270110701193, 0.020177994206127547, 0.00016272575972683506, 0.4463567589307086, 0.9906704089361343, 0.9531571137058429, 0.18830447762071578, 0.8070191898030676, 0.9726972078995858, 0.9610007602628349, 0.06891436564962061, 0.9188582086616083, 0.014198952912280263, 0.14908900557894275, 0.8306387453683953, 0.9969554394725577, 0.9764320034133182, 0.9964055675853606, 0.9864276042385901, 0.9913935621869364, 0.9975998963563859, 0.9812611103910279, 0.1927049991526109, 0.7993688853737934, 0.9816897022900484, 0.014331236529781728, 0.9961153083126854, 0.007724279778716175, 0.5213888850633418, 0.11715157664386198, 0.0720932779346843, 0.0012873799631193624, 0.09011659741835537, 0.10299039704954899, 0.05664471837725195, 0.03218449907798406, 0.9842140043529601, 0.9945022032672187, 0.4565813090976346, 0.1353900411835257, 0.35719925759057847, 0.050411185547057445, 0.9691857033837964, 0.9990542742029633, 0.23449741888525175, 0.21205747449431855, 0.061148848465292914, 0.11949270388171919, 0.02356194161047984, 0.16998257876131884, 0.04768488183073301, 0.10658973585693261, 0.024683938830026498, 0.9901366347914632, 0.996366528388597, 0.008453585302182882, 0.9890694803553972, 0.9900514684734256, 0.40709713925880975, 0.36456460232132215, 0.16506675049548752, 0.02835502462499172, 0.03443110133034709, 0.07567644192169948, 0.04759033976519246, 0.14043051078253513, 0.05149118728692954, 0.4977481437736523, 0.12248661218254453, 0.004681017026084504, 0.06007305183475114, 0.9945779839925472, 0.23332318591943113, 0.047188958949997306, 0.33818753914164734, 0.38013328043053385, 0.9921426154032422, 0.9587514174942756, 0.9173524138382456, 0.07437992544634424, 0.9714300054788934, 0.251343160577272, 0.15175436110325857, 0.5927904730596039, 0.9903052323164733, 0.9947843207453457, 0.9932852712047396, 0.006379993713077413, 0.031108231466965664, 0.22467056059475202, 0.6463599204802866, 0.09678116456389317, 0.9957943334727756, 0.984481289116534, 0.990397103750407, 0.9895061597135312, 0.12287396542878164, 0.007372437925726898, 0.2482054101661389, 0.34404710320058857, 0.2752376825604709, 0.9942696625382654, 0.8145310990894195, 0.038300835380380226, 0.14554317444544485, 0.5463627988803178, 0.13713488577474112, 0.31562791170376925, 0.8623264720625353, 0.12973053119524866, 0.9978939027199267, 0.9868680394901115, 0.03822238817574756, 0.9118769750499774, 0.027301705839819685, 0.021841364671855747, 0.43149460936888767, 0.562611755862196, 0.004767896236120305, 0.9730104457817328, 0.9915285876204583, 0.04200494242753085, 0.3600423636645501, 0.00800094141476778, 0.062007295964450294, 0.1680197697101234, 0.31003647982225147, 0.05000588384229863, 0.9844086777706629, 0.44140481833075806, 0.545264775585054, 0.012534822427242623, 0.5159513802770911, 0.03336998976916509, 0.0025669222899357765, 0.007700766869807329, 0.4338098669991462, 0.005133844579871553, 0.995395508247718, 0.15422200903737265, 0.817621444737817, 0.026927652371604747, 0.9806732975215378, 0.06432176165646421, 0.9219452504093203, 0.9785873369967045, 0.4676130209901457, 0.5317952003417342, 0.13696501776513484, 0.006087334122894882, 0.22523136254711063, 0.28001736965316454, 0.35306537912790315, 0.9807715866178063, 0.9952291528890006, 0.9777043047054712, 0.9337107965623911, 0.05624763834713199, 0.9818682195033485, 0.994665522310715, 0.9933285889360978, 0.09483913546864628, 0.18420678235256296, 0.20791656621972454, 0.020062124810675177, 0.005471488584729593, 0.21885954338918373, 0.26810294065175005, 0.0016691354700517473, 0.5795609271013011, 0.04933222611486276, 0.08419861148927703, 0.0031528114434310785, 0.004636487416810409, 0.2266315049336928, 0.0012982164767069147, 0.04951768561153517, 0.9569041267940386, 0.024591581287542547, 0.024591581287542547, 0.6496276056792489, 0.010246492203142728, 0.20697914250348312, 0.08402123606577037, 0.9823979321017791, 0.983525212440154, 0.051684952232648324, 0.022971089881177034, 0.0057427724702942586, 0.7006182413758995, 0.06317049717323685, 0.14931208422765072, 0.17710261121116375, 0.20358524466330039, 0.28137798042895174, 0.0016551645907585397, 0.028137798042895176, 0.25324018238605656, 0.04965493772275619, 0.004965493772275619, 0.01137198987719462, 0.1324024535701945, 0.11168918629387573, 0.0008122849912281871, 0.00040614249561409356, 0.004467567451755029, 0.5304220992720061, 0.0024368549736845614, 0.20591424527634544, 0.33662854635494194, 0.20136026922016814, 0.10001921468923013, 0.0013218398417078872, 0.003524906244554366, 0.07622609753848816, 0.09781614828638366, 0.18285451143625772, 0.5090382176665346, 0.4886766889598732, 0.20125921122671067, 0.6586665094692349, 0.14027157146104077, 0.9892169895079898, 0.0022833912287090856, 0.39731007379538086, 0.0943801707866422, 0.0015222608191393903, 0.0038056520478484757, 0.4604838977896656, 0.03957878129762415, 0.0007611304095696952, 0.9830711762715456, 0.9773814958678065, 0.9729012512579528, 0.4855268966964324, 0.504826874663321, 0.009082342572653451, 0.148569655138084, 0.2660433359449411, 0.06391950279196637, 0.519993792983294, 0.9857946115554505, 0.99455470788718, 0.0827092437745726, 0.18196033630405975, 0.7333552948012104, 0.9916289014496401, 0.1220210894271795, 0.03126790416571475, 0.0038131590445993594, 0.1929458476567276, 0.011439477133798078, 0.6093428153269776, 0.0030505272356794876, 0.025929481503275644, 0.9656495943722492, 0.9696559641165428, 0.9769224171751574, 0.00445067160444263, 0.00890134320888526, 0.006676007406663946, 0.9852588616683664, 0.995821388059459, 0.9742176421696251, 0.9773479060410322, 0.09465468866266774, 0.09721292349138849, 0.3248958232475352, 0.3248958232475352, 0.08953821900522624, 0.071630575204181, 0.18591943965677427, 0.29133767863741944, 0.408256089143226, 0.11116832474322585, 0.9884283923054512, 0.011182861565975066, 0.055914307829875325, 0.9253817945844367, 0.005591430782987533, 0.9944832709715485, 0.058274018053382205, 0.8061239164051205, 0.12626037244899477, 0.9768939813564738, 0.9963036409200203, 0.9997043518419678, 0.9804456984150748, 0.9781166443573954, 0.9825805780645966, 0.980514488177607, 0.9900409643527318, 0.5426440525460328, 0.005492348709980089, 0.26253426833704824, 0.0010984697419960177, 0.013181636903952213, 0.03954491071185664, 0.006590818451976107, 0.046135729163832746, 0.08238523064970134, 0.992136035647941, 0.9810164779770477, 0.44620261201104966, 0.06055606877292817, 0.4908228732121546, 0.9908852344613537, 0.9882881826495292, 0.04644308283349598, 0.01824549682744485, 0.1899190351584032, 0.009122748413722424, 0.6891821756184849, 0.04727242359837983, 0.9970603194668074, 0.17542984823006497, 0.05601961540119721, 0.5469283503643202, 0.21670745957831553, 0.002948400810589327, 0.9856464500301678, 0.9944764408194319, 0.8222718147508487, 0.17676857853339498, 0.9739293326751092, 0.02434823331687773, 0.9975752887638837, 0.31149211132036736, 0.6838504972665537, 0.990247854404709, 0.9833259959307773, 0.9561438686755187, 0.08211015903679078, 0.9123351004087865, 0.042810093315350774, 0.37280456262117967, 0.013378154161047116, 0.389750224558506, 0.0026756308322094234, 0.12218714133756366, 0.0017837538881396156, 0.054404493588258274, 0.0008918769440698078, 0.9976843722160544, 0.7944551815246739, 0.20133453230419818, 0.9910404734773369, 0.9823427339052797, 0.9914054362761078, 0.9898004539350878, 0.9942336126386114, 0.23992109107095497, 0.7505223874527309, 0.36852687949454593, 0.2238355046007597, 0.4039300882451532, 0.00012827249547321475, 0.0006413624773660737, 0.0028219949004107243, 0.9960474525121346, 0.995078843479815, 0.9651560315238538, 0.03016112598512043, 0.980224180315096, 0.010231868835861701, 0.9873753426606542, 0.20166200750531246, 0.07202214553761159, 0.7202214553761159, 0.9806183637848633, 0.29324037965229127, 0.08393474634975004, 0.1838064698545159, 0.15724484126282287, 0.012749581724012663, 0.17211935327417097, 0.07331009491307282, 0.024436698304357605, 0.9667522661698091, 0.4082158144385617, 0.32018618849197966, 0.03754204635957174, 0.047466955167274616, 0.0021575888712397555, 0.05221365068400208, 0.08802962594658202, 0.025459548680629114, 0.018986782066909846, 0.9948717549510092, 0.9955365889010096, 0.9858600817044133, 0.15472317748796313, 0.8413072775907996, 0.9872197878636866, 0.9809188933062076, 0.016348648221770127, 0.9977104691956399, 0.9596240851204201, 0.9854298015884505, 0.9896985371334797, 0.966767278294447, 0.9530211821609947, 0.974445220145058, 0.9896513147132706, 0.9839013721581613, 0.3042324821694456, 0.08550600643901837, 0.4190849945221024, 0.00907841549846368, 0.027446372437215774, 0.002955763185546314, 0.02385723142619525, 0.1258310613275431, 0.002111259418247367, 0.9977131468140997, 0.6170435134351979, 0.006717425496184115, 0.0019192644274811756, 0.37425656335882923, 0.9859192124709975, 0.9795132905350884, 0.5016893637206384, 0.006987317043462932, 0.4905096564510978, 0.019491608507996954, 0.9697075232728485, 0.0048729021269992385, 0.6686183530194288, 0.21818942545998665, 0.004958850578636061, 0.03967080462908849, 0.06777095790802616, 0.9903534625090517, 0.997282368132849, 0.9993473893686473, 0.028417407489954298, 0.45467851983926877, 0.002583400680904936, 0.04133441089447898, 0.47276232460560336, 0.9970983247002442, 0.2567210714642576, 0.33864400723868787, 0.078418211249321, 0.10163701122817023, 0.038990060341841166, 0.04424714712950514, 0.03460915468545452, 0.10426555462200222, 0.002628543393831989, 0.9964542193610558, 0.6264732240872832, 0.3706942154362623, 0.003706942154362623, 0.128129216155988, 0.1839804129419315, 0.003285364516820205, 0.5092315001071318, 0.029568280651381843, 0.1412706742232688, 0.00657072903364041, 0.9851070843280209, 0.9966309640281659, 0.030309890296833356, 0.6129914020376814, 0.06558433159056183, 0.07995540026578454, 0.01019039415152156, 0.06898112964106902, 0.07342309632250149, 0.05408747665038366, 0.004964550996895118, 0.9764076477222766, 0.9760749244054971, 0.9953442522610685, 0.0022519100729888426, 0.9677803909998097, 0.018916548068279977, 0.9742022255164188, 0.99259786455867, 0.9878221694265105, 0.9748146585810828, 0.0009270705264679817, 0.00046353526323399087, 0.00046353526323399087, 0.022713227898465554, 0.9966128852711421, 0.004118235063103893, 0.3760341407796428, 0.6215008715663541, 0.3768062632817298, 0.620160308317847], \"Term\": [\"$\", \"$\", \"$\", \"1st\", \"aa\", \"aaa\", \"aaa\", \"ability\", \"absolutely\", \"access\", \"account\", \"acid\", \"acid\", \"ad\", \"adapter\", \"adult\", \"advertise\", \"advertise\", \"age\", \"alexa\", \"alexa\", \"alkaline\", \"alkaline\", \"alkaline\", \"allow\", \"allow\", \"alot\", \"amazon\", \"amazon\", \"amazon\", \"amazon\", \"amazon\", \"amazon\", \"amazon\", \"amazon\", \"amazon\", \"amazonbasics\", \"amazonbasics\", \"android\", \"android\", \"answer\", \"app\", \"apple\", \"apple\", \"apps\", \"area\", \"article\", \"automatically\", \"available\", \"available\", \"available\", \"available\", \"available\", \"available\", \"awesome\", \"awesome\", \"awesome\", \"awesome\", \"awesome\", \"awesome\", \"awesome\", \"awesome\", \"background\", \"backlight\", \"backlight\", \"backpack\", \"bad\", \"bad\", \"bang\", \"basics\", \"batteries\", \"batteries\", \"battery\", \"battery\", \"battery\", \"battery\", \"battery\", \"battery\", \"beat\", \"beat\", \"beat\", \"beat\", \"beautiful\", \"beginner\", \"beginner\", \"best\", \"best\", \"best\", \"best\", \"best\", \"big\", \"big\", \"big\", \"big\", \"big\", \"big\", \"big\", \"birthday\", \"birthday\", \"black\", \"black\", \"bluetooth\", \"book\", \"book\", \"boot\", \"bought\", \"bought\", \"bought\", \"bought\", \"box\", \"box\", \"box\", \"brand\", \"brand\", \"break\", \"break\", \"bright\", \"brightness\", \"brought\", \"browse\", \"browse\", \"buck\", \"build\", \"bulk\", \"bulky\", \"bunny\", \"busy\", \"button\", \"buy\", \"buy\", \"buy\", \"buy\", \"buy\", \"buy\", \"buy\", \"buy\", \"buy\", \"cable\", \"came\", \"camera\", \"candle\", \"candle\", \"card\", \"carry\", \"case\", \"case\", \"case\", \"case\", \"case\", \"case\", \"case\", \"catch\", \"challenge\", \"change\", \"change\", \"change\", \"change\", \"change\", \"charge\", \"charge\", \"charge\", \"charge\", \"charger\", \"charger\", \"cheap\", \"cheap\", \"cheap\", \"cheap\", \"cheap\", \"cheap\", \"cheap\", \"check\", \"check\", \"child\", \"christmas\", \"christmas\", \"chrome\", \"chromecast\", \"class\", \"clear\", \"clear\", \"clock\", \"color\", \"come\", \"come\", \"come\", \"come\", \"come\", \"come\", \"come\", \"come\", \"comfortable\", \"complaint\", \"complaint\", \"complaint\", \"complaint\", \"complete\", \"con\", \"con\", \"concern\", \"connect\", \"connection\", \"connection\", \"content\", \"content\", \"control\", \"control\", \"control\", \"control\", \"control\", \"control\", \"control\", \"controller\", \"costco\", \"cover\", \"credit\", \"crisp\", \"crisp\", \"daughter\", \"daughter\", \"daughter\", \"day\", \"day\", \"day\", \"day\", \"day\", \"day\", \"day\", \"day\", \"deal\", \"deal\", \"deal\", \"deal\", \"deal\", \"deal\", \"deal\", \"decent\", \"decent\", \"decent\", \"decent\", \"decent\", \"decision\", \"delight\", \"delivery\", \"describe\", \"design\", \"design\", \"device\", \"device\", \"device\", \"device\", \"device\", \"device\", \"device\", \"device\", \"difficult\", \"direction\", \"dot\", \"download\", \"download\", \"download\", \"download\", \"drain\", \"drain\", \"drive\", \"drop\", \"durable\", \"durable\", \"duracell\", \"e\", \"ease\", \"easily\", \"easy\", \"easy\", \"easy\", \"easy\", \"easy\", \"easy\", \"ebooks\", \"echo\", \"educational\", \"educational\", \"efficient\", \"energizer\", \"enjoy\", \"enjoy\", \"entertain\", \"entertain\", \"entertain\", \"entertainment\", \"entertainment\", \"everyday\", \"everyday\", \"exactly\", \"exactly\", \"exceed\", \"excellent\", \"excellent\", \"excellent\", \"excellent\", \"excellent\", \"exceptional\", \"expand\", \"expandable\", \"expect\", \"expect\", \"expect\", \"expect\", \"expect\", \"expensive\", \"expensive\", \"expensive\", \"expensive\", \"expensive\", \"expensive\", \"family\", \"family\", \"family\", \"family\", \"far\", \"far\", \"far\", \"far\", \"far\", \"far\", \"far\", \"far\", \"fast\", \"fast\", \"fast\", \"fast\", \"fast\", \"fast\", \"fast\", \"fast\", \"fast\", \"father\", \"feature\", \"feel\", \"feel\", \"feel\", \"feel\", \"feel\", \"feel\", \"fill\", \"fine\", \"fine\", \"fine\", \"fine\", \"fine\", \"fine\", \"fire\", \"fire\", \"follow\", \"font\", \"forward\", \"fraction\", \"free\", \"free\", \"free\", \"friday\", \"friend\", \"friend\", \"friend\", \"friend\", \"friendly\", \"friendly\", \"fun\", \"functionality\", \"g\", \"galaxy\", \"game\", \"game\", \"game\", \"gave\", \"geek\", \"generation\", \"get\", \"get\", \"get\", \"get\", \"get\", \"get\", \"get\", \"gift\", \"give\", \"give\", \"glad\", \"glad\", \"glad\", \"glare\", \"go\", \"go\", \"go\", \"go\", \"go\", \"go\", \"god\", \"going\", \"good\", \"good\", \"good\", \"good\", \"good\", \"good\", \"good\", \"google\", \"google\", \"got\", \"got\", \"grand\", \"grandchild\", \"granddaughter\", \"grandkids\", \"grandma\", \"grandson\", \"graphic\", \"great\", \"great\", \"great\", \"great\", \"great\", \"great\", \"great\", \"great\", \"great\", \"grow\", \"guy\", \"hand\", \"hand\", \"hand\", \"hand\", \"hand\", \"hand\", \"hand\", \"happy\", \"happy\", \"happy\", \"happy\", \"happy\", \"happy\", \"happy\", \"have\", \"have\", \"have\", \"have\", \"have\", \"have\", \"hd\", \"hd\", \"hd8\", \"hd8\", \"help\", \"help\", \"help\", \"help\", \"highly\", \"highly\", \"highly\", \"highly\", \"hold\", \"hold\", \"hold\", \"hold\", \"hold\", \"hold\", \"hold\", \"hold\", \"hook\", \"hopefully\", \"hour\", \"hour\", \"hour\", \"hulu\", \"hundred\", \"inch\", \"inch\", \"incredible\", \"initially\", \"inside\", \"instruction\", \"integration\", \"internet\", \"internet\", \"investment\", \"ipad\", \"ipad\", \"ipad\", \"iphone\", \"item\", \"item\", \"item\", \"item\", \"item\", \"item\", \"item\", \"item\", \"keeps\", \"key\", \"keyboard\", \"keyboard\", \"keyboard\", \"keyboard\", \"kid\", \"kid\", \"kid\", \"kid\", \"kid\", \"kid\", \"kid\", \"kids\", \"kindle\", \"kindle\", \"kindle\", \"kindle\", \"lack\", \"large\", \"large\", \"large\", \"large\", \"last\", \"last\", \"last\", \"last\", \"law\", \"learn\", \"letter\", \"library\", \"life\", \"life\", \"life\", \"life\", \"life\", \"life\", \"life\", \"light\", \"light\", \"light\", \"light\", \"light\", \"lightweight\", \"like\", \"like\", \"like\", \"like\", \"like\", \"like\", \"like\", \"like\", \"like\", \"limit\", \"link\", \"link\", \"listen\", \"little\", \"little\", \"little\", \"little\", \"little\", \"little\", \"little\", \"little\", \"load\", \"lock\", \"lol\", \"lol\", \"long\", \"long\", \"long\", \"long\", \"long\", \"long\", \"look\", \"look\", \"look\", \"look\", \"look\", \"look\", \"lot\", \"lot\", \"lot\", \"lot\", \"lot\", \"lot\", \"lot\", \"lots\", \"loud\", \"love\", \"love\", \"love\", \"love\", \"love\", \"loved\", \"luck\", \"magazine\", \"magazine\", \"manage\", \"match\", \"mean\", \"mean\", \"medium\", \"medium\", \"medium\", \"member\", \"membership\", \"memory\", \"menu\", \"micro\", \"mini\", \"minimal\", \"minute\", \"minute\", \"model\", \"model\", \"mom\", \"money\", \"money\", \"money\", \"money\", \"money\", \"money\", \"money\", \"money\", \"money\", \"monitor\", \"mother\", \"movie\", \"movie\", \"movie\", \"movie\", \"movies\", \"music\", \"need\", \"need\", \"need\", \"need\", \"need\", \"need\", \"need\", \"need\", \"need\", \"needed\", \"nephew\", \"netflix\", \"netflix\", \"network\", \"new\", \"new\", \"new\", \"new\", \"new\", \"nice\", \"nice\", \"nice\", \"nice\", \"nice\", \"nice\", \"nice\", \"nice\", \"niece\", \"not\", \"not\", \"not\", \"not\", \"numerous\", \"o\", \"oasis\", \"oasis\", \"occupy\", \"offer\", \"offer\", \"offer\", \"office\", \"okay\", \"old\", \"old\", \"open\", \"open\", \"open\", \"open\", \"original\", \"originally\", \"os\", \"outstanding\", \"overall\", \"overall\", \"overall\", \"overall\", \"overall\", \"own\", \"pack\", \"pack\", \"pack\", \"package\", \"package\", \"package\", \"pad\", \"pad\", \"page\", \"paper\", \"paperwhite\", \"paperwhite\", \"paperwhite\", \"paperwhite\", \"parental\", \"parental\", \"parental\", \"particular\", \"pass\", \"pay\", \"pay\", \"pay\", \"pay\", \"pay\", \"pay\", \"pay\", \"pen\", \"perfect\", \"perfect\", \"perfect\", \"performance\", \"performance\", \"performance\", \"performance\", \"performance\", \"performance\", \"photo\", \"picture\", \"picture\", \"picture\", \"pink\", \"plastic\", \"plastic\", \"platform\", \"play\", \"play\", \"please\", \"please\", \"please\", \"please\", \"please\", \"pleasure\", \"port\", \"portability\", \"portable\", \"portable\", \"preload\", \"present\", \"press\", \"pretty\", \"pretty\", \"pretty\", \"pretty\", \"pretty\", \"pretty\", \"pretty\", \"price\", \"price\", \"price\", \"price\", \"price\", \"price\", \"price\", \"price\", \"price\", \"pricey\", \"prime\", \"prime\", \"prime\", \"prime\", \"prime\", \"prime\", \"print\", \"prior\", \"probably\", \"probably\", \"probably\", \"probably\", \"probably\", \"probably\", \"problem\", \"problem\", \"problem\", \"problem\", \"problem\", \"problem\", \"problem\", \"problem\", \"product\", \"product\", \"product\", \"product\", \"product\", \"product\", \"product\", \"product\", \"product\", \"purchase\", \"purchase\", \"purchase\", \"purchase\", \"purchase\", \"purchase\", \"purchase\", \"purchase\", \"purchased\", \"purchased\", \"purpose\", \"purpose\", \"purpose\", \"purse\", \"quality\", \"quality\", \"quality\", \"quality\", \"quality\", \"quality\", \"quality\", \"quality\", \"quantity\", \"ram\", \"rayovac\", \"read\", \"read\", \"read\", \"reader\", \"reader\", \"reader\", \"reader\", \"reading\", \"reasonable\", \"receive\", \"receive\", \"receive\", \"rechargeable\", \"recommend\", \"recommend\", \"recommend\", \"recommend\", \"recommend\", \"recommend\", \"recommend\", \"recommend\", \"recommended\", \"register\", \"remote\", \"remote\", \"remote\", \"remote\", \"research\", \"resolution\", \"restriction\", \"returned\", \"review\", \"review\", \"review\", \"review\", \"review\", \"review\", \"right\", \"right\", \"right\", \"right\", \"road\", \"sale\", \"sale\", \"sale\", \"sale\", \"samsung\", \"satisfy\", \"satisfy\", \"satisfy\", \"saver\", \"school\", \"screen\", \"second\", \"security\", \"selection\", \"separate\", \"serve\", \"set\", \"set\", \"set\", \"set\", \"set\", \"set\", \"set\", \"set\", \"set\", \"setup\", \"silk\", \"simple\", \"simple\", \"simple\", \"sister\", \"site\", \"size\", \"size\", \"size\", \"size\", \"size\", \"size\", \"slow\", \"small\", \"small\", \"small\", \"small\", \"small\", \"smooth\", \"social\", \"son\", \"son\", \"sound\", \"sound\", \"space\", \"speaker\", \"speaker\", \"special\", \"squad\", \"station\", \"step\", \"step\", \"store\", \"store\", \"store\", \"store\", \"store\", \"store\", \"store\", \"store\", \"store\", \"stream\", \"stuff\", \"stuff\", \"sturdy\", \"suggest\", \"sunlight\", \"support\", \"system\", \"tab\", \"tab\", \"tablet\", \"tablet\", \"tablet\", \"tablet\", \"tablet\", \"tablet\", \"talk\", \"tech\", \"tend\", \"tend\", \"terrific\", \"thank\", \"thank\", \"thanks\", \"thanks\", \"thanks\", \"thin\", \"thing\", \"thing\", \"thing\", \"thing\", \"thing\", \"thing\", \"thing\", \"thing\", \"till\", \"time\", \"time\", \"time\", \"time\", \"time\", \"time\", \"time\", \"time\", \"time\", \"toddler\", \"tool\", \"totally\", \"touch\", \"touch\", \"tough\", \"toy\", \"toy\", \"travel\", \"trick\", \"trust\", \"u\", \"unable\", \"unbeatable\", \"underground\", \"understand\", \"usb\", \"use\", \"use\", \"use\", \"use\", \"use\", \"use\", \"use\", \"use\", \"use\", \"user\", \"value\", \"value\", \"value\", \"value\", \"variety\", \"versatile\", \"video\", \"video\", \"video\", \"voyage\", \"voyage\", \"voyage\", \"want\", \"want\", \"want\", \"want\", \"want\", \"wanted\", \"warranty\", \"watch\", \"week\", \"week\", \"week\", \"week\", \"week\", \"weight\", \"well\", \"well\", \"well\", \"well\", \"well\", \"well\", \"well\", \"well\", \"well\", \"wife\", \"wifi\", \"wifi\", \"wifi\", \"will\", \"will\", \"will\", \"will\", \"will\", \"will\", \"will\", \"win\", \"wonderful\", \"work\", \"work\", \"work\", \"work\", \"work\", \"work\", \"work\", \"work\", \"work\", \"worked\", \"working\", \"works\", \"works\", \"wow\", \"wrap\", \"wrap\", \"xbox\", \"xmas\", \"year\", \"year\", \"year\", \"year\", \"year\", \"young\", \"young\", \"youtube\", \"youtube\", \"yr\", \"yr\"]}, \"R\": 30, \"lambda.step\": 0.01, \"plot.opts\": {\"xlab\": \"PC1\", \"ylab\": \"PC2\"}, \"topic.order\": [8, 1, 5, 2, 3, 7, 9, 6, 4]};\n",
       "\n",
       "function LDAvis_load_lib(url, callback){\n",
       "  var s = document.createElement('script');\n",
       "  s.src = url;\n",
       "  s.async = true;\n",
       "  s.onreadystatechange = s.onload = callback;\n",
       "  s.onerror = function(){console.warn(\"failed to load library \" + url);};\n",
       "  document.getElementsByTagName(\"head\")[0].appendChild(s);\n",
       "}\n",
       "\n",
       "if(typeof(LDAvis) !== \"undefined\"){\n",
       "   // already loaded: just create the visualization\n",
       "   !function(LDAvis){\n",
       "       new LDAvis(\"#\" + \"ldavis_el673731402272494992568166025503\", ldavis_el673731402272494992568166025503_data);\n",
       "   }(LDAvis);\n",
       "}else if(typeof define === \"function\" && define.amd){\n",
       "   // require.js is available: use it to load d3/LDAvis\n",
       "   require.config({paths: {d3: \"https://cdnjs.cloudflare.com/ajax/libs/d3/3.5.5/d3.min\"}});\n",
       "   require([\"d3\"], function(d3){\n",
       "      window.d3 = d3;\n",
       "      LDAvis_load_lib(\"https://cdn.rawgit.com/bmabey/pyLDAvis/files/ldavis.v1.0.0.js\", function(){\n",
       "        new LDAvis(\"#\" + \"ldavis_el673731402272494992568166025503\", ldavis_el673731402272494992568166025503_data);\n",
       "      });\n",
       "    });\n",
       "}else{\n",
       "    // require.js not available: dynamically load d3 & LDAvis\n",
       "    LDAvis_load_lib(\"https://cdnjs.cloudflare.com/ajax/libs/d3/3.5.5/d3.min.js\", function(){\n",
       "         LDAvis_load_lib(\"https://cdn.rawgit.com/bmabey/pyLDAvis/files/ldavis.v1.0.0.js\", function(){\n",
       "                 new LDAvis(\"#\" + \"ldavis_el673731402272494992568166025503\", ldavis_el673731402272494992568166025503_data);\n",
       "            })\n",
       "         });\n",
       "}\n",
       "</script>"
      ],
      "text/plain": [
       "PreparedData(topic_coordinates=              x         y  topics  cluster       Freq\n",
       "topic                                                \n",
       "7     -0.120688  0.138279       1        1  24.200472\n",
       "0      0.161642 -0.109809       2        1  20.518886\n",
       "4     -0.039981  0.163079       3        1  10.839137\n",
       "1      0.055899  0.192781       4        1   9.733255\n",
       "2     -0.248772 -0.075799       5        1   7.551736\n",
       "6     -0.114531 -0.172029       6        1   7.082933\n",
       "8      0.265412 -0.175220       7        1   7.049088\n",
       "5     -0.096772 -0.139806       8        1   6.781211\n",
       "3      0.137790  0.178524       9        1   6.243281, topic_info=         Term         Freq        Total Category  logprob  loglift\n",
       "33       good  5684.000000  5684.000000  Default  30.0000  30.0000\n",
       "3     battery  8173.000000  8173.000000  Default  29.0000  29.0000\n",
       "82       love  6145.000000  6145.000000  Default  28.0000  28.0000\n",
       "2901   tablet  7795.000000  7795.000000  Default  27.0000  27.0000\n",
       "20      great  9255.000000  9255.000000  Default  26.0000  26.0000\n",
       "...       ...          ...          ...      ...      ...      ...\n",
       "887      help   126.675832   319.551402   Topic9  -5.0601   1.8484\n",
       "41     please   116.060334   328.551047   Topic9  -5.1476   1.7331\n",
       "71        get   210.270916  1507.917843   Topic9  -4.5533   0.8036\n",
       "173       kid   257.106694  2725.615408   Topic9  -4.3522   0.4127\n",
       "17      price   267.015428  5392.012908   Topic9  -4.3144  -0.2317\n",
       "\n",
       "[562 rows x 6 columns], token_table=      Topic      Freq     Term\n",
       "term                          \n",
       "3633      1  0.013316        $\n",
       "3633      3  0.264417        $\n",
       "3633      8  0.720966        $\n",
       "3609      3  0.976501      1st\n",
       "54        2  0.996627       aa\n",
       "...     ...       ...      ...\n",
       "979       9  0.004118    young\n",
       "2514      1  0.376034  youtube\n",
       "2514      8  0.621501  youtube\n",
       "1275      3  0.376806       yr\n",
       "1275      4  0.620160       yr\n",
       "\n",
       "[1080 rows x 3 columns], R=30, lambda_step=0.01, plot_opts={'xlab': 'PC1', 'ylab': 'PC2'}, topic_order=[8, 1, 5, 2, 3, 7, 9, 6, 4])"
      ]
     },
     "execution_count": 69,
     "metadata": {},
     "output_type": "execute_result"
    }
   ],
   "source": []
  },
  {
   "cell_type": "markdown",
   "metadata": {},
   "source": [
    "## Stretch Goals\n",
    "\n",
    "* Incorporate Named Entity Recognition in your analysis\n",
    "* Incorporate some custom pre-processing from our previous lessons (like spacy lemmatization)\n",
    "* Analyze a dataset of interest to you with topic modeling"
   ]
  },
  {
   "cell_type": "code",
   "execution_count": null,
   "metadata": {},
   "outputs": [],
   "source": []
  }
 ],
 "metadata": {
  "kernelspec": {
   "display_name": "U4-S1-NLP (Python3)",
   "language": "python",
   "name": "u4-s1-nlp"
  },
  "language_info": {
   "codemirror_mode": {
    "name": "ipython",
    "version": 3
   },
   "file_extension": ".py",
   "mimetype": "text/x-python",
   "name": "python",
   "nbconvert_exporter": "python",
   "pygments_lexer": "ipython3",
   "version": "3.7.0"
  }
 },
 "nbformat": 4,
 "nbformat_minor": 4
}
