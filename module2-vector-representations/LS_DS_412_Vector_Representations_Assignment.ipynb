{
 "cells": [
  {
   "cell_type": "markdown",
   "metadata": {},
   "source": [
    "<img align=\"left\" src=\"https://lever-client-logos.s3.amazonaws.com/864372b1-534c-480e-acd5-9711f850815c-1524247202159.png\" width=200>\n",
    "<br></br>\n",
    "\n",
    "# Vector Representations\n",
    "## *Data Science Unit 4 Sprint 2 Assignment 2*"
   ]
  },
  {
   "cell_type": "code",
   "execution_count": 1,
   "metadata": {
    "colab": {
     "base_uri": "https://localhost:8080/",
     "height": 159
    },
    "colab_type": "code",
    "id": "hyj-f9FDcVFp",
    "outputId": "5dd045fe-6e4c-458c-e2fc-253c3da9c805"
   },
   "outputs": [],
   "source": [
    "import re\n",
    "import string\n",
    "\n",
    "from sklearn.feature_extraction.text import CountVectorizer, TfidfVectorizer\n",
    "import matplotlib.pyplot as plt\n",
    "import pandas as pd\n",
    "import numpy as np\n",
    "import spacy\n",
    "\n",
    "from bs4 import BeautifulSoup"
   ]
  },
  {
   "cell_type": "markdown",
   "metadata": {
    "colab_type": "text",
    "id": "M7bcmqfGXrFG"
   },
   "source": [
    "## 1) *Clean:* Job Listings from indeed.com that contain the title \"Data Scientist\" \n",
    "\n",
    "You have `job_listings.csv` in the data folder for this module. The text data in the description column is still messy - full of html tags. Use the [BeautifulSoup](https://www.crummy.com/software/BeautifulSoup/bs4/doc/) library to clean up this column. You will need to read through the documentation to accomplish this task. "
   ]
  },
  {
   "cell_type": "code",
   "execution_count": 3,
   "metadata": {
    "colab": {},
    "colab_type": "code",
    "id": "KcYlc1URXhlC"
   },
   "outputs": [
    {
     "data": {
      "text/html": [
       "<div>\n",
       "<style scoped>\n",
       "    .dataframe tbody tr th:only-of-type {\n",
       "        vertical-align: middle;\n",
       "    }\n",
       "\n",
       "    .dataframe tbody tr th {\n",
       "        vertical-align: top;\n",
       "    }\n",
       "\n",
       "    .dataframe thead th {\n",
       "        text-align: right;\n",
       "    }\n",
       "</style>\n",
       "<table border=\"1\" class=\"dataframe\">\n",
       "  <thead>\n",
       "    <tr style=\"text-align: right;\">\n",
       "      <th></th>\n",
       "      <th>Unnamed: 0</th>\n",
       "      <th>description</th>\n",
       "      <th>title</th>\n",
       "    </tr>\n",
       "  </thead>\n",
       "  <tbody>\n",
       "    <tr>\n",
       "      <th>0</th>\n",
       "      <td>0</td>\n",
       "      <td>b\"&lt;div&gt;&lt;div&gt;Job Requirements:&lt;/div&gt;&lt;ul&gt;&lt;li&gt;&lt;p&gt;...</td>\n",
       "      <td>Data scientist</td>\n",
       "    </tr>\n",
       "    <tr>\n",
       "      <th>1</th>\n",
       "      <td>1</td>\n",
       "      <td>b'&lt;div&gt;Job Description&lt;br/&gt;\\n&lt;br/&gt;\\n&lt;p&gt;As a Da...</td>\n",
       "      <td>Data Scientist I</td>\n",
       "    </tr>\n",
       "    <tr>\n",
       "      <th>2</th>\n",
       "      <td>2</td>\n",
       "      <td>b'&lt;div&gt;&lt;p&gt;As a Data Scientist you will be work...</td>\n",
       "      <td>Data Scientist - Entry Level</td>\n",
       "    </tr>\n",
       "    <tr>\n",
       "      <th>3</th>\n",
       "      <td>3</td>\n",
       "      <td>b'&lt;div class=\"jobsearch-JobMetadataHeader icl-...</td>\n",
       "      <td>Data Scientist</td>\n",
       "    </tr>\n",
       "    <tr>\n",
       "      <th>4</th>\n",
       "      <td>4</td>\n",
       "      <td>b'&lt;ul&gt;&lt;li&gt;Location: USA \\xe2\\x80\\x93 multiple ...</td>\n",
       "      <td>Data Scientist</td>\n",
       "    </tr>\n",
       "  </tbody>\n",
       "</table>\n",
       "</div>"
      ],
      "text/plain": [
       "   Unnamed: 0                                        description  \\\n",
       "0           0  b\"<div><div>Job Requirements:</div><ul><li><p>...   \n",
       "1           1  b'<div>Job Description<br/>\\n<br/>\\n<p>As a Da...   \n",
       "2           2  b'<div><p>As a Data Scientist you will be work...   \n",
       "3           3  b'<div class=\"jobsearch-JobMetadataHeader icl-...   \n",
       "4           4  b'<ul><li>Location: USA \\xe2\\x80\\x93 multiple ...   \n",
       "\n",
       "                          title  \n",
       "0               Data scientist   \n",
       "1              Data Scientist I  \n",
       "2  Data Scientist - Entry Level  \n",
       "3                Data Scientist  \n",
       "4                Data Scientist  "
      ]
     },
     "execution_count": 3,
     "metadata": {},
     "output_type": "execute_result"
    }
   ],
   "source": [
    "from bs4 import BeautifulSoup\n",
    "import requests\n",
    "\n",
    "##### Your Code Here #####\n",
    "# raise Exception(\"\\nThis task is not complete. \\nReplace this line with your code for the task.\")\n",
    "data = pd.read_csv('data/job_listings.csv')\n",
    "data.head()"
   ]
  },
  {
   "cell_type": "code",
   "execution_count": 20,
   "metadata": {},
   "outputs": [
    {
     "data": {
      "text/plain": [
       "'b\"<div><div>Job Requirements:</div><ul><li><p>\\\\nConceptual understanding in Machine Learning models like Nai\\\\xc2\\\\xa8ve Bayes, K-Means, SVM, Apriori, Linear/ Logistic Regression, Neural, Random Forests, Decision Trees, K-NN along with hands-on experience in at least 2 of them</p>\\\\n</li><li><p>Intermediate to expert level coding skills in Python/R. (Ability to write functions, clean and efficient data manipulation are mandatory for this role)</p>\\\\n</li><li><p>Exposure to packages like NumPy, SciPy, Pandas, Matplotlib etc in Python or GGPlot2, dplyr, tidyR in R</p>\\\\n</li><li><p>Ability to communicate Model findings to both Technical and Non-Technical stake holders</p>\\\\n</li><li><p>Hands on experience in SQL/Hive or similar programming language</p>\\\\n</li><li><p>Must show past work via GitHub, Kaggle or any other published article</p>\\\\n</li><li><p>Master\\'s degree in Statistics/Mathematics/Computer Science or any other quant specific field.</p></li></ul><div><div><div><div><div><div>\\\\nApply Now</div></div></div></div></div></div></div><div></div>\"'"
      ]
     },
     "execution_count": 20,
     "metadata": {},
     "output_type": "execute_result"
    }
   ],
   "source": [
    "data.iloc[0]['description']"
   ]
  },
  {
   "cell_type": "code",
   "execution_count": 55,
   "metadata": {},
   "outputs": [],
   "source": [
    "def clean_text(text):\n",
    "    pat1 = r'\\\\n'\n",
    "    pat2 = r'\\\\x+\\d'\n",
    "    pat3 = r'\\\\xe\\d'\n",
    "    pat4 = r'+\\d'\n",
    "    combined_pat = r'|'.join((pat1, pat2, pat3, pat4))\n",
    "    soup = BeautifulSoup(text)\n",
    "    cleaned_text = re.sub(combined_pat, ' ', soup.get_text())\n",
    "    return cleaned_text.strip(\"b'\").strip('\"')"
   ]
  },
  {
   "cell_type": "code",
   "execution_count": 93,
   "metadata": {},
   "outputs": [],
   "source": [
    "desc_column = []\n",
    "for i in range(len(data)):\n",
    "    description = clean_text(data.iloc[i]['description'])\n",
    "    desc_column.append(description)"
   ]
  },
  {
   "cell_type": "code",
   "execution_count": 94,
   "metadata": {},
   "outputs": [],
   "source": [
    "data['description'] = desc_column"
   ]
  },
  {
   "cell_type": "code",
   "execution_count": 179,
   "metadata": {},
   "outputs": [
    {
     "name": "stdout",
     "output_type": "stream",
     "text": [
      "(426, 6)\n"
     ]
    },
    {
     "data": {
      "text/html": [
       "<div>\n",
       "<style scoped>\n",
       "    .dataframe tbody tr th:only-of-type {\n",
       "        vertical-align: middle;\n",
       "    }\n",
       "\n",
       "    .dataframe tbody tr th {\n",
       "        vertical-align: top;\n",
       "    }\n",
       "\n",
       "    .dataframe thead th {\n",
       "        text-align: right;\n",
       "    }\n",
       "</style>\n",
       "<table border=\"1\" class=\"dataframe\">\n",
       "  <thead>\n",
       "    <tr style=\"text-align: right;\">\n",
       "      <th></th>\n",
       "      <th>Unnamed: 0</th>\n",
       "      <th>description</th>\n",
       "      <th>title</th>\n",
       "      <th>SpaCytokens1</th>\n",
       "      <th>CountVectorizer</th>\n",
       "      <th>cleaned_text</th>\n",
       "    </tr>\n",
       "  </thead>\n",
       "  <tbody>\n",
       "    <tr>\n",
       "      <th>0</th>\n",
       "      <td>0</td>\n",
       "      <td>Job Requirements: Conceptual understanding in ...</td>\n",
       "      <td>Data scientist</td>\n",
       "      <td>[job, requirements, conceptual, understand, ma...</td>\n",
       "      <td>(0, 1399)\\t1\\n  (1, 4274)\\t1\\n  (2, 5372)\\t1...</td>\n",
       "      <td>job requirements conceptual understand machine...</td>\n",
       "    </tr>\n",
       "    <tr>\n",
       "      <th>1</th>\n",
       "      <td>1</td>\n",
       "      <td>Job Description  As a Data Scientist 1, you wi...</td>\n",
       "      <td>Data Scientist I</td>\n",
       "      <td>[job, description, , data, scientist, help, bu...</td>\n",
       "      <td>(0, 1399)\\t1\\n  (1, 4274)\\t1\\n  (2, 5372)\\t1...</td>\n",
       "      <td>job description  data scientist help build mac...</td>\n",
       "    </tr>\n",
       "    <tr>\n",
       "      <th>2</th>\n",
       "      <td>2</td>\n",
       "      <td>As a Data Scientist you will be working on con...</td>\n",
       "      <td>Data Scientist - Entry Level</td>\n",
       "      <td>[data, scientist, work, consult, business, res...</td>\n",
       "      <td>(0, 1399)\\t1\\n  (1, 4274)\\t1\\n  (2, 5372)\\t1...</td>\n",
       "      <td>data scientist work consult business responsib...</td>\n",
       "    </tr>\n",
       "    <tr>\n",
       "      <th>3</th>\n",
       "      <td>3</td>\n",
       "      <td>$4,969 - $6,756 a monthContractUnder the gener...</td>\n",
       "      <td>Data Scientist</td>\n",
       "      <td>[$, $, monthcontractunder, general, supervisio...</td>\n",
       "      <td>(0, 1399)\\t1\\n  (1, 4274)\\t1\\n  (2, 5372)\\t1...</td>\n",
       "      <td>$ $ monthcontractunder general supervision pro...</td>\n",
       "    </tr>\n",
       "    <tr>\n",
       "      <th>4</th>\n",
       "      <td>4</td>\n",
       "      <td>Location: USA \\xe2 0 3 multiple locations 2+ y...</td>\n",
       "      <td>Data Scientist</td>\n",
       "      <td>[location, usa, multiple, location, +, year, a...</td>\n",
       "      <td>(0, 1399)\\t1\\n  (1, 4274)\\t1\\n  (2, 5372)\\t1...</td>\n",
       "      <td>location usa multiple location + year analytic...</td>\n",
       "    </tr>\n",
       "  </tbody>\n",
       "</table>\n",
       "</div>"
      ],
      "text/plain": [
       "   Unnamed: 0                                        description  \\\n",
       "0           0  Job Requirements: Conceptual understanding in ...   \n",
       "1           1  Job Description  As a Data Scientist 1, you wi...   \n",
       "2           2  As a Data Scientist you will be working on con...   \n",
       "3           3  $4,969 - $6,756 a monthContractUnder the gener...   \n",
       "4           4  Location: USA \\xe2 0 3 multiple locations 2+ y...   \n",
       "\n",
       "                          title  \\\n",
       "0               Data scientist    \n",
       "1              Data Scientist I   \n",
       "2  Data Scientist - Entry Level   \n",
       "3                Data Scientist   \n",
       "4                Data Scientist   \n",
       "\n",
       "                                        SpaCytokens1  \\\n",
       "0  [job, requirements, conceptual, understand, ma...   \n",
       "1  [job, description, , data, scientist, help, bu...   \n",
       "2  [data, scientist, work, consult, business, res...   \n",
       "3  [$, $, monthcontractunder, general, supervisio...   \n",
       "4  [location, usa, multiple, location, +, year, a...   \n",
       "\n",
       "                                     CountVectorizer  \\\n",
       "0    (0, 1399)\\t1\\n  (1, 4274)\\t1\\n  (2, 5372)\\t1...   \n",
       "1    (0, 1399)\\t1\\n  (1, 4274)\\t1\\n  (2, 5372)\\t1...   \n",
       "2    (0, 1399)\\t1\\n  (1, 4274)\\t1\\n  (2, 5372)\\t1...   \n",
       "3    (0, 1399)\\t1\\n  (1, 4274)\\t1\\n  (2, 5372)\\t1...   \n",
       "4    (0, 1399)\\t1\\n  (1, 4274)\\t1\\n  (2, 5372)\\t1...   \n",
       "\n",
       "                                        cleaned_text  \n",
       "0  job requirements conceptual understand machine...  \n",
       "1  job description  data scientist help build mac...  \n",
       "2  data scientist work consult business responsib...  \n",
       "3  $ $ monthcontractunder general supervision pro...  \n",
       "4  location usa multiple location + year analytic...  "
      ]
     },
     "execution_count": 179,
     "metadata": {},
     "output_type": "execute_result"
    }
   ],
   "source": [
    "print(data.shape)\n",
    "data.head()"
   ]
  },
  {
   "cell_type": "markdown",
   "metadata": {
    "colab_type": "text",
    "id": "5C4xFZNtX1m2"
   },
   "source": [
    "## 2) Use Spacy to tokenize the listings "
   ]
  },
  {
   "cell_type": "code",
   "execution_count": 61,
   "metadata": {},
   "outputs": [],
   "source": [
    "nlp = spacy.load('en_core_web_md')\n",
    "STOP_WORDS = nlp.Defaults.stop_words"
   ]
  },
  {
   "cell_type": "code",
   "execution_count": 128,
   "metadata": {
    "colab": {},
    "colab_type": "code",
    "id": "dhUHuMr-X-II"
   },
   "outputs": [],
   "source": [
    "tokens = []\n",
    "for doc in nlp.pipe(data['description'], disable=['parser', 'tagger']):\n",
    "    doc_tokens = []\n",
    "    for token in doc:\n",
    "        if (token.text.lower() not in STOP_WORDS) and (token.is_punct == False) and (not re.match('.*\\d+', token.text)):\n",
    "            doc_tokens.append(token.lemma_.lower().strip(', /'))\n",
    "    tokens.append(doc_tokens)"
   ]
  },
  {
   "cell_type": "code",
   "execution_count": 129,
   "metadata": {},
   "outputs": [],
   "source": [
    "data['SpaCytokens1'] = tokens"
   ]
  },
  {
   "cell_type": "code",
   "execution_count": 253,
   "metadata": {},
   "outputs": [
    {
     "data": {
      "text/html": [
       "<div>\n",
       "<style scoped>\n",
       "    .dataframe tbody tr th:only-of-type {\n",
       "        vertical-align: middle;\n",
       "    }\n",
       "\n",
       "    .dataframe tbody tr th {\n",
       "        vertical-align: top;\n",
       "    }\n",
       "\n",
       "    .dataframe thead th {\n",
       "        text-align: right;\n",
       "    }\n",
       "</style>\n",
       "<table border=\"1\" class=\"dataframe\">\n",
       "  <thead>\n",
       "    <tr style=\"text-align: right;\">\n",
       "      <th></th>\n",
       "      <th>Unnamed: 0</th>\n",
       "      <th>description</th>\n",
       "      <th>title</th>\n",
       "      <th>SpaCytokens1</th>\n",
       "      <th>cleaned_text</th>\n",
       "    </tr>\n",
       "  </thead>\n",
       "  <tbody>\n",
       "    <tr>\n",
       "      <th>0</th>\n",
       "      <td>0</td>\n",
       "      <td>Job Requirements: Conceptual understanding in ...</td>\n",
       "      <td>Data scientist</td>\n",
       "      <td>[job, requirements, conceptual, understand, ma...</td>\n",
       "      <td>job requirements conceptual understand machine...</td>\n",
       "    </tr>\n",
       "    <tr>\n",
       "      <th>1</th>\n",
       "      <td>1</td>\n",
       "      <td>Job Description  As a Data Scientist 1, you wi...</td>\n",
       "      <td>Data Scientist I</td>\n",
       "      <td>[job, description, , data, scientist, help, bu...</td>\n",
       "      <td>job description  data scientist help build mac...</td>\n",
       "    </tr>\n",
       "    <tr>\n",
       "      <th>2</th>\n",
       "      <td>2</td>\n",
       "      <td>As a Data Scientist you will be working on con...</td>\n",
       "      <td>Data Scientist - Entry Level</td>\n",
       "      <td>[data, scientist, work, consult, business, res...</td>\n",
       "      <td>data scientist work consult business responsib...</td>\n",
       "    </tr>\n",
       "    <tr>\n",
       "      <th>3</th>\n",
       "      <td>3</td>\n",
       "      <td>$4,969 - $6,756 a monthContractUnder the gener...</td>\n",
       "      <td>Data Scientist</td>\n",
       "      <td>[$, $, monthcontractunder, general, supervisio...</td>\n",
       "      <td>$ $ monthcontractunder general supervision pro...</td>\n",
       "    </tr>\n",
       "    <tr>\n",
       "      <th>4</th>\n",
       "      <td>4</td>\n",
       "      <td>Location: USA \\xe2 0 3 multiple locations 2+ y...</td>\n",
       "      <td>Data Scientist</td>\n",
       "      <td>[location, usa, multiple, location, +, year, a...</td>\n",
       "      <td>location usa multiple location + year analytic...</td>\n",
       "    </tr>\n",
       "  </tbody>\n",
       "</table>\n",
       "</div>"
      ],
      "text/plain": [
       "   Unnamed: 0                                        description  \\\n",
       "0           0  Job Requirements: Conceptual understanding in ...   \n",
       "1           1  Job Description  As a Data Scientist 1, you wi...   \n",
       "2           2  As a Data Scientist you will be working on con...   \n",
       "3           3  $4,969 - $6,756 a monthContractUnder the gener...   \n",
       "4           4  Location: USA \\xe2 0 3 multiple locations 2+ y...   \n",
       "\n",
       "                          title  \\\n",
       "0               Data scientist    \n",
       "1              Data Scientist I   \n",
       "2  Data Scientist - Entry Level   \n",
       "3                Data Scientist   \n",
       "4                Data Scientist   \n",
       "\n",
       "                                        SpaCytokens1  \\\n",
       "0  [job, requirements, conceptual, understand, ma...   \n",
       "1  [job, description, , data, scientist, help, bu...   \n",
       "2  [data, scientist, work, consult, business, res...   \n",
       "3  [$, $, monthcontractunder, general, supervisio...   \n",
       "4  [location, usa, multiple, location, +, year, a...   \n",
       "\n",
       "                                        cleaned_text  \n",
       "0  job requirements conceptual understand machine...  \n",
       "1  job description  data scientist help build mac...  \n",
       "2  data scientist work consult business responsib...  \n",
       "3  $ $ monthcontractunder general supervision pro...  \n",
       "4  location usa multiple location + year analytic...  "
      ]
     },
     "execution_count": 253,
     "metadata": {},
     "output_type": "execute_result"
    }
   ],
   "source": [
    "data.head()"
   ]
  },
  {
   "cell_type": "markdown",
   "metadata": {
    "colab_type": "text",
    "id": "-lgCZNL_YycP"
   },
   "source": [
    "## 3) Use Scikit-Learn's CountVectorizer to get word counts for each listing."
   ]
  },
  {
   "cell_type": "code",
   "execution_count": 134,
   "metadata": {},
   "outputs": [],
   "source": [
    "data['cleaned_text'] = [' '.join(doc) for doc in data['SpaCytokens1']]"
   ]
  },
  {
   "cell_type": "code",
   "execution_count": 106,
   "metadata": {},
   "outputs": [],
   "source": [
    "vect = CountVectorizer(stop_words='english')\n",
    "#                        ngram_range=(1,2),\n",
    "#                        min_df=3,\n",
    "#                        max_df=0.25,\n",
    "#                        max_features=20)"
   ]
  },
  {
   "cell_type": "code",
   "execution_count": 107,
   "metadata": {},
   "outputs": [
    {
     "data": {
      "text/plain": [
       "CountVectorizer(analyzer='word', binary=False, decode_error='strict',\n",
       "                dtype=<class 'numpy.int64'>, encoding='utf-8', input='content',\n",
       "                lowercase=True, max_df=1.0, max_features=None, min_df=1,\n",
       "                ngram_range=(1, 1), preprocessor=None, stop_words='english',\n",
       "                strip_accents=None, token_pattern='(?u)\\\\b\\\\w\\\\w+\\\\b',\n",
       "                tokenizer=None, vocabulary=None)"
      ]
     },
     "execution_count": 107,
     "metadata": {},
     "output_type": "execute_result"
    }
   ],
   "source": [
    "# for doc in data['description']:\n",
    "#     print(doc)\n",
    "vect.fit(data['cleaned_text'])"
   ]
  },
  {
   "cell_type": "code",
   "execution_count": 114,
   "metadata": {},
   "outputs": [],
   "source": [
    "# vect.get_feature_names()\n",
    "#     counts.append(vect.transform(doc))"
   ]
  },
  {
   "cell_type": "code",
   "execution_count": 110,
   "metadata": {},
   "outputs": [],
   "source": [
    "dtm = vect.transform(data['cleaned_text'])"
   ]
  },
  {
   "cell_type": "code",
   "execution_count": 113,
   "metadata": {},
   "outputs": [
    {
     "name": "stdout",
     "output_type": "stream",
     "text": [
      "(426, 8066)\n"
     ]
    },
    {
     "data": {
      "text/html": [
       "<div>\n",
       "<style scoped>\n",
       "    .dataframe tbody tr th:only-of-type {\n",
       "        vertical-align: middle;\n",
       "    }\n",
       "\n",
       "    .dataframe tbody tr th {\n",
       "        vertical-align: top;\n",
       "    }\n",
       "\n",
       "    .dataframe thead th {\n",
       "        text-align: right;\n",
       "    }\n",
       "</style>\n",
       "<table border=\"1\" class=\"dataframe\">\n",
       "  <thead>\n",
       "    <tr style=\"text-align: right;\">\n",
       "      <th></th>\n",
       "      <th>aa</th>\n",
       "      <th>aap</th>\n",
       "      <th>ab</th>\n",
       "      <th>abernathy</th>\n",
       "      <th>abilities</th>\n",
       "      <th>ability</th>\n",
       "      <th>able</th>\n",
       "      <th>abounds</th>\n",
       "      <th>abroad</th>\n",
       "      <th>absence</th>\n",
       "      <th>...</th>\n",
       "      <th>zero</th>\n",
       "      <th>zeus</th>\n",
       "      <th>zf</th>\n",
       "      <th>zheng</th>\n",
       "      <th>zillow</th>\n",
       "      <th>zogsports</th>\n",
       "      <th>zones</th>\n",
       "      <th>zoom</th>\n",
       "      <th>zuckerberg</th>\n",
       "      <th>zurich</th>\n",
       "    </tr>\n",
       "  </thead>\n",
       "  <tbody>\n",
       "    <tr>\n",
       "      <th>0</th>\n",
       "      <td>0</td>\n",
       "      <td>0</td>\n",
       "      <td>0</td>\n",
       "      <td>0</td>\n",
       "      <td>0</td>\n",
       "      <td>2</td>\n",
       "      <td>0</td>\n",
       "      <td>0</td>\n",
       "      <td>0</td>\n",
       "      <td>0</td>\n",
       "      <td>...</td>\n",
       "      <td>0</td>\n",
       "      <td>0</td>\n",
       "      <td>0</td>\n",
       "      <td>0</td>\n",
       "      <td>0</td>\n",
       "      <td>0</td>\n",
       "      <td>0</td>\n",
       "      <td>0</td>\n",
       "      <td>0</td>\n",
       "      <td>0</td>\n",
       "    </tr>\n",
       "    <tr>\n",
       "      <th>1</th>\n",
       "      <td>0</td>\n",
       "      <td>0</td>\n",
       "      <td>0</td>\n",
       "      <td>0</td>\n",
       "      <td>0</td>\n",
       "      <td>1</td>\n",
       "      <td>0</td>\n",
       "      <td>0</td>\n",
       "      <td>0</td>\n",
       "      <td>0</td>\n",
       "      <td>...</td>\n",
       "      <td>0</td>\n",
       "      <td>0</td>\n",
       "      <td>0</td>\n",
       "      <td>0</td>\n",
       "      <td>0</td>\n",
       "      <td>0</td>\n",
       "      <td>0</td>\n",
       "      <td>0</td>\n",
       "      <td>0</td>\n",
       "      <td>0</td>\n",
       "    </tr>\n",
       "    <tr>\n",
       "      <th>2</th>\n",
       "      <td>0</td>\n",
       "      <td>0</td>\n",
       "      <td>0</td>\n",
       "      <td>0</td>\n",
       "      <td>0</td>\n",
       "      <td>1</td>\n",
       "      <td>0</td>\n",
       "      <td>0</td>\n",
       "      <td>0</td>\n",
       "      <td>0</td>\n",
       "      <td>...</td>\n",
       "      <td>0</td>\n",
       "      <td>0</td>\n",
       "      <td>0</td>\n",
       "      <td>0</td>\n",
       "      <td>0</td>\n",
       "      <td>0</td>\n",
       "      <td>0</td>\n",
       "      <td>0</td>\n",
       "      <td>0</td>\n",
       "      <td>0</td>\n",
       "    </tr>\n",
       "    <tr>\n",
       "      <th>3</th>\n",
       "      <td>0</td>\n",
       "      <td>0</td>\n",
       "      <td>0</td>\n",
       "      <td>0</td>\n",
       "      <td>0</td>\n",
       "      <td>0</td>\n",
       "      <td>0</td>\n",
       "      <td>0</td>\n",
       "      <td>0</td>\n",
       "      <td>0</td>\n",
       "      <td>...</td>\n",
       "      <td>0</td>\n",
       "      <td>0</td>\n",
       "      <td>0</td>\n",
       "      <td>1</td>\n",
       "      <td>0</td>\n",
       "      <td>0</td>\n",
       "      <td>0</td>\n",
       "      <td>0</td>\n",
       "      <td>0</td>\n",
       "      <td>0</td>\n",
       "    </tr>\n",
       "    <tr>\n",
       "      <th>4</th>\n",
       "      <td>0</td>\n",
       "      <td>0</td>\n",
       "      <td>0</td>\n",
       "      <td>0</td>\n",
       "      <td>0</td>\n",
       "      <td>0</td>\n",
       "      <td>0</td>\n",
       "      <td>0</td>\n",
       "      <td>0</td>\n",
       "      <td>0</td>\n",
       "      <td>...</td>\n",
       "      <td>0</td>\n",
       "      <td>0</td>\n",
       "      <td>0</td>\n",
       "      <td>0</td>\n",
       "      <td>0</td>\n",
       "      <td>0</td>\n",
       "      <td>0</td>\n",
       "      <td>0</td>\n",
       "      <td>0</td>\n",
       "      <td>0</td>\n",
       "    </tr>\n",
       "  </tbody>\n",
       "</table>\n",
       "<p>5 rows × 8066 columns</p>\n",
       "</div>"
      ],
      "text/plain": [
       "   aa  aap  ab  abernathy  abilities  ability  able  abounds  abroad  absence  \\\n",
       "0   0    0   0          0          0        2     0        0       0        0   \n",
       "1   0    0   0          0          0        1     0        0       0        0   \n",
       "2   0    0   0          0          0        1     0        0       0        0   \n",
       "3   0    0   0          0          0        0     0        0       0        0   \n",
       "4   0    0   0          0          0        0     0        0       0        0   \n",
       "\n",
       "   ...  zero  zeus  zf  zheng  zillow  zogsports  zones  zoom  zuckerberg  \\\n",
       "0  ...     0     0   0      0       0          0      0     0           0   \n",
       "1  ...     0     0   0      0       0          0      0     0           0   \n",
       "2  ...     0     0   0      0       0          0      0     0           0   \n",
       "3  ...     0     0   0      1       0          0      0     0           0   \n",
       "4  ...     0     0   0      0       0          0      0     0           0   \n",
       "\n",
       "   zurich  \n",
       "0       0  \n",
       "1       0  \n",
       "2       0  \n",
       "3       0  \n",
       "4       0  \n",
       "\n",
       "[5 rows x 8066 columns]"
      ]
     },
     "execution_count": 113,
     "metadata": {},
     "output_type": "execute_result"
    }
   ],
   "source": [
    "dtm_df = pd.DataFrame(dtm.todense(), columns=vect.get_feature_names())\n",
    "print(dtm_df.shape)\n",
    "dtm_df.head()"
   ]
  },
  {
   "cell_type": "markdown",
   "metadata": {
    "colab_type": "text",
    "id": "Zo1iH_UeY7_n"
   },
   "source": [
    "## 4) Visualize the most common word counts"
   ]
  },
  {
   "cell_type": "code",
   "execution_count": 158,
   "metadata": {
    "colab": {},
    "colab_type": "code",
    "id": "M5LB00uyZKV5"
   },
   "outputs": [],
   "source": [
    "# let's look at 10 most common words/word-pairs that appear in at least 3 docs \n",
    "# and in less than in 50% of the docs\n",
    "vect = CountVectorizer(stop_words='english',\n",
    "                       ngram_range=(1,2),\n",
    "                       min_df=3,\n",
    "                       max_df=0.35,\n",
    "                       max_features=10)"
   ]
  },
  {
   "cell_type": "code",
   "execution_count": 159,
   "metadata": {},
   "outputs": [],
   "source": [
    "vect.fit(data['cleaned_text'])\n",
    "dtm = vect.transform(data['cleaned_text'])\n",
    "dtm_df = pd.DataFrame(dtm.todense(), columns=vect.get_feature_names())"
   ]
  },
  {
   "cell_type": "code",
   "execution_count": 160,
   "metadata": {},
   "outputs": [
    {
     "name": "stdout",
     "output_type": "stream",
     "text": [
      "(426, 10)\n"
     ]
    }
   ],
   "source": [
    "print(dtm_df.shape)\n",
    "# dtm_df['analytic'].sum()"
   ]
  },
  {
   "cell_type": "code",
   "execution_count": 161,
   "metadata": {},
   "outputs": [],
   "source": [
    "words = []\n",
    "counts = []\n",
    "for col in dtm_df.columns:\n",
    "    words.append(col)\n",
    "    counts.append(dtm_df[col].sum())"
   ]
  },
  {
   "cell_type": "code",
   "execution_count": 162,
   "metadata": {},
   "outputs": [
    {
     "data": {
      "image/png": "[encoded data removed]",
      "text/plain": [
       "<Figure size 432x288 with 1 Axes>"
      ]
     },
     "metadata": {
      "needs_background": "light"
     },
     "output_type": "display_data"
    }
   ],
   "source": [
    "fig = plt.figure()\n",
    "ax = fig.add_axes([0,0,2,1])\n",
    "ax.bar(words,counts)\n",
    "plt.show()"
   ]
  },
  {
   "cell_type": "markdown",
   "metadata": {
    "colab_type": "text",
    "id": "bwFsTqrVZMYi"
   },
   "source": [
    "## 5) Use Scikit-Learn's tfidfVectorizer to get a TF-IDF feature matrix"
   ]
  },
  {
   "cell_type": "code",
   "execution_count": 171,
   "metadata": {
    "colab": {},
    "colab_type": "code",
    "id": "-gx2gZCbl5Np"
   },
   "outputs": [],
   "source": [
    "tfidf = TfidfVectorizer(stop_words='english',\n",
    "                        ngram_range=(1,2),\n",
    "                        min_df=3,\n",
    "                        max_df=0.35,\n",
    "                       max_features=10)"
   ]
  },
  {
   "cell_type": "code",
   "execution_count": 172,
   "metadata": {},
   "outputs": [],
   "source": [
    "dtm_tfidf = tfidf.fit_transform(data['cleaned_text'])"
   ]
  },
  {
   "cell_type": "code",
   "execution_count": 173,
   "metadata": {},
   "outputs": [],
   "source": [
    "# dir(dtm_tfidf)"
   ]
  },
  {
   "cell_type": "code",
   "execution_count": 174,
   "metadata": {},
   "outputs": [
    {
     "data": {
      "text/html": [
       "<div>\n",
       "<style scoped>\n",
       "    .dataframe tbody tr th:only-of-type {\n",
       "        vertical-align: middle;\n",
       "    }\n",
       "\n",
       "    .dataframe tbody tr th {\n",
       "        vertical-align: top;\n",
       "    }\n",
       "\n",
       "    .dataframe thead th {\n",
       "        text-align: right;\n",
       "    }\n",
       "</style>\n",
       "<table border=\"1\" class=\"dataframe\">\n",
       "  <thead>\n",
       "    <tr style=\"text-align: right;\">\n",
       "      <th></th>\n",
       "      <th>client</th>\n",
       "      <th>datum scientist</th>\n",
       "      <th>deep</th>\n",
       "      <th>high</th>\n",
       "      <th>job</th>\n",
       "      <th>predictive</th>\n",
       "      <th>require</th>\n",
       "      <th>service</th>\n",
       "      <th>source</th>\n",
       "      <th>status</th>\n",
       "    </tr>\n",
       "  </thead>\n",
       "  <tbody>\n",
       "    <tr>\n",
       "      <th>0</th>\n",
       "      <td>0.000000</td>\n",
       "      <td>0.0</td>\n",
       "      <td>0.0</td>\n",
       "      <td>0.000000</td>\n",
       "      <td>1.000000</td>\n",
       "      <td>0.000000</td>\n",
       "      <td>0.000000</td>\n",
       "      <td>0.00000</td>\n",
       "      <td>0.00000</td>\n",
       "      <td>0.00000</td>\n",
       "    </tr>\n",
       "    <tr>\n",
       "      <th>1</th>\n",
       "      <td>0.296267</td>\n",
       "      <td>0.0</td>\n",
       "      <td>0.0</td>\n",
       "      <td>0.497798</td>\n",
       "      <td>0.247248</td>\n",
       "      <td>0.000000</td>\n",
       "      <td>0.000000</td>\n",
       "      <td>0.73686</td>\n",
       "      <td>0.24562</td>\n",
       "      <td>0.00000</td>\n",
       "    </tr>\n",
       "    <tr>\n",
       "      <th>2</th>\n",
       "      <td>0.000000</td>\n",
       "      <td>0.0</td>\n",
       "      <td>0.0</td>\n",
       "      <td>0.000000</td>\n",
       "      <td>0.699961</td>\n",
       "      <td>0.714181</td>\n",
       "      <td>0.000000</td>\n",
       "      <td>0.00000</td>\n",
       "      <td>0.00000</td>\n",
       "      <td>0.00000</td>\n",
       "    </tr>\n",
       "    <tr>\n",
       "      <th>3</th>\n",
       "      <td>0.000000</td>\n",
       "      <td>0.0</td>\n",
       "      <td>0.0</td>\n",
       "      <td>0.000000</td>\n",
       "      <td>0.000000</td>\n",
       "      <td>0.000000</td>\n",
       "      <td>0.425645</td>\n",
       "      <td>0.00000</td>\n",
       "      <td>0.00000</td>\n",
       "      <td>0.90489</td>\n",
       "    </tr>\n",
       "    <tr>\n",
       "      <th>4</th>\n",
       "      <td>0.000000</td>\n",
       "      <td>0.0</td>\n",
       "      <td>0.0</td>\n",
       "      <td>0.000000</td>\n",
       "      <td>0.000000</td>\n",
       "      <td>0.000000</td>\n",
       "      <td>0.000000</td>\n",
       "      <td>0.00000</td>\n",
       "      <td>0.00000</td>\n",
       "      <td>0.00000</td>\n",
       "    </tr>\n",
       "  </tbody>\n",
       "</table>\n",
       "</div>"
      ],
      "text/plain": [
       "     client  datum scientist  deep      high       job  predictive   require  \\\n",
       "0  0.000000              0.0   0.0  0.000000  1.000000    0.000000  0.000000   \n",
       "1  0.296267              0.0   0.0  0.497798  0.247248    0.000000  0.000000   \n",
       "2  0.000000              0.0   0.0  0.000000  0.699961    0.714181  0.000000   \n",
       "3  0.000000              0.0   0.0  0.000000  0.000000    0.000000  0.425645   \n",
       "4  0.000000              0.0   0.0  0.000000  0.000000    0.000000  0.000000   \n",
       "\n",
       "   service   source   status  \n",
       "0  0.00000  0.00000  0.00000  \n",
       "1  0.73686  0.24562  0.00000  \n",
       "2  0.00000  0.00000  0.00000  \n",
       "3  0.00000  0.00000  0.90489  \n",
       "4  0.00000  0.00000  0.00000  "
      ]
     },
     "execution_count": 174,
     "metadata": {},
     "output_type": "execute_result"
    }
   ],
   "source": [
    "tfidf_df = pd.DataFrame(dtm_tfidf.todense(), columns=tfidf.get_feature_names())\n",
    "tfidf_df.head()"
   ]
  },
  {
   "cell_type": "code",
   "execution_count": 177,
   "metadata": {},
   "outputs": [],
   "source": [
    "words = []\n",
    "counts = []\n",
    "for col in tfidf_df.columns:\n",
    "    words.append(col)\n",
    "    counts.append(tfidf_df[col].sum())"
   ]
  },
  {
   "cell_type": "code",
   "execution_count": 178,
   "metadata": {},
   "outputs": [
    {
     "data": {
      "image/png": "[encoded data removed]",
      "text/plain": [
       "<Figure size 432x288 with 1 Axes>"
      ]
     },
     "metadata": {
      "needs_background": "light"
     },
     "output_type": "display_data"
    }
   ],
   "source": [
    "fig = plt.figure()\n",
    "ax = fig.add_axes([0,0,2,1])\n",
    "ax.bar(words,counts)\n",
    "plt.show()"
   ]
  },
  {
   "cell_type": "markdown",
   "metadata": {},
   "source": [
    "## 6) Create a NearestNeighbor Model. Write the description of your ideal datascience job and query your job listings. "
   ]
  },
  {
   "cell_type": "code",
   "execution_count": 182,
   "metadata": {
    "collapsed": false,
    "inputHidden": false,
    "jupyter": {
     "outputs_hidden": false
    },
    "outputHidden": false
   },
   "outputs": [],
   "source": [
    "tfidf = TfidfVectorizer(stop_words='english',\n",
    "                       ngram_range=(1,2),\n",
    "                       min_df=3,\n",
    "                       max_df=0.35)"
   ]
  },
  {
   "cell_type": "code",
   "execution_count": 183,
   "metadata": {},
   "outputs": [],
   "source": [
    "kk_dtm = tfidf.fit_transform(data['cleaned_text'])"
   ]
  },
  {
   "cell_type": "code",
   "execution_count": 185,
   "metadata": {},
   "outputs": [
    {
     "data": {
      "text/html": [
       "<div>\n",
       "<style scoped>\n",
       "    .dataframe tbody tr th:only-of-type {\n",
       "        vertical-align: middle;\n",
       "    }\n",
       "\n",
       "    .dataframe tbody tr th {\n",
       "        vertical-align: top;\n",
       "    }\n",
       "\n",
       "    .dataframe thead th {\n",
       "        text-align: right;\n",
       "    }\n",
       "</style>\n",
       "<table border=\"1\" class=\"dataframe\">\n",
       "  <thead>\n",
       "    <tr style=\"text-align: right;\">\n",
       "      <th></th>\n",
       "      <th>0</th>\n",
       "      <th>1</th>\n",
       "      <th>2</th>\n",
       "      <th>3</th>\n",
       "      <th>4</th>\n",
       "      <th>5</th>\n",
       "      <th>6</th>\n",
       "      <th>7</th>\n",
       "      <th>8</th>\n",
       "      <th>9</th>\n",
       "      <th>...</th>\n",
       "      <th>416</th>\n",
       "      <th>417</th>\n",
       "      <th>418</th>\n",
       "      <th>419</th>\n",
       "      <th>420</th>\n",
       "      <th>421</th>\n",
       "      <th>422</th>\n",
       "      <th>423</th>\n",
       "      <th>424</th>\n",
       "      <th>425</th>\n",
       "    </tr>\n",
       "  </thead>\n",
       "  <tbody>\n",
       "    <tr>\n",
       "      <th>0</th>\n",
       "      <td>1.000000</td>\n",
       "      <td>0.017537</td>\n",
       "      <td>0.003458</td>\n",
       "      <td>0.000000</td>\n",
       "      <td>0.000000</td>\n",
       "      <td>0.050542</td>\n",
       "      <td>0.008935</td>\n",
       "      <td>0.018045</td>\n",
       "      <td>0.024386</td>\n",
       "      <td>0.014157</td>\n",
       "      <td>...</td>\n",
       "      <td>0.022923</td>\n",
       "      <td>0.033191</td>\n",
       "      <td>0.012012</td>\n",
       "      <td>0.021372</td>\n",
       "      <td>0.018799</td>\n",
       "      <td>0.015494</td>\n",
       "      <td>0.020730</td>\n",
       "      <td>0.014487</td>\n",
       "      <td>0.038302</td>\n",
       "      <td>0.018736</td>\n",
       "    </tr>\n",
       "    <tr>\n",
       "      <th>1</th>\n",
       "      <td>0.017537</td>\n",
       "      <td>1.000000</td>\n",
       "      <td>0.039963</td>\n",
       "      <td>0.019885</td>\n",
       "      <td>0.003136</td>\n",
       "      <td>0.031112</td>\n",
       "      <td>0.049305</td>\n",
       "      <td>0.051361</td>\n",
       "      <td>0.064036</td>\n",
       "      <td>0.036674</td>\n",
       "      <td>...</td>\n",
       "      <td>0.070337</td>\n",
       "      <td>0.095069</td>\n",
       "      <td>0.027064</td>\n",
       "      <td>0.035347</td>\n",
       "      <td>0.045636</td>\n",
       "      <td>0.049866</td>\n",
       "      <td>0.022892</td>\n",
       "      <td>0.043525</td>\n",
       "      <td>0.057233</td>\n",
       "      <td>0.041739</td>\n",
       "    </tr>\n",
       "    <tr>\n",
       "      <th>2</th>\n",
       "      <td>0.003458</td>\n",
       "      <td>0.039963</td>\n",
       "      <td>1.000000</td>\n",
       "      <td>0.003002</td>\n",
       "      <td>0.022608</td>\n",
       "      <td>0.020564</td>\n",
       "      <td>0.021160</td>\n",
       "      <td>0.020245</td>\n",
       "      <td>0.014785</td>\n",
       "      <td>0.006826</td>\n",
       "      <td>...</td>\n",
       "      <td>0.016749</td>\n",
       "      <td>0.017727</td>\n",
       "      <td>0.008148</td>\n",
       "      <td>0.026635</td>\n",
       "      <td>0.028461</td>\n",
       "      <td>0.018403</td>\n",
       "      <td>0.012017</td>\n",
       "      <td>0.007279</td>\n",
       "      <td>0.030566</td>\n",
       "      <td>0.028229</td>\n",
       "    </tr>\n",
       "    <tr>\n",
       "      <th>3</th>\n",
       "      <td>0.000000</td>\n",
       "      <td>0.019885</td>\n",
       "      <td>0.003002</td>\n",
       "      <td>1.000000</td>\n",
       "      <td>0.000000</td>\n",
       "      <td>0.026515</td>\n",
       "      <td>0.003087</td>\n",
       "      <td>0.079493</td>\n",
       "      <td>0.024430</td>\n",
       "      <td>0.041366</td>\n",
       "      <td>...</td>\n",
       "      <td>0.020194</td>\n",
       "      <td>0.023609</td>\n",
       "      <td>0.002006</td>\n",
       "      <td>0.034587</td>\n",
       "      <td>0.027899</td>\n",
       "      <td>0.037139</td>\n",
       "      <td>0.005977</td>\n",
       "      <td>0.094862</td>\n",
       "      <td>0.067667</td>\n",
       "      <td>0.105163</td>\n",
       "    </tr>\n",
       "    <tr>\n",
       "      <th>4</th>\n",
       "      <td>0.000000</td>\n",
       "      <td>0.003136</td>\n",
       "      <td>0.022608</td>\n",
       "      <td>0.000000</td>\n",
       "      <td>1.000000</td>\n",
       "      <td>0.008437</td>\n",
       "      <td>0.000000</td>\n",
       "      <td>0.019065</td>\n",
       "      <td>0.011057</td>\n",
       "      <td>0.000000</td>\n",
       "      <td>...</td>\n",
       "      <td>0.008388</td>\n",
       "      <td>0.065983</td>\n",
       "      <td>0.000000</td>\n",
       "      <td>0.024749</td>\n",
       "      <td>0.000000</td>\n",
       "      <td>0.000000</td>\n",
       "      <td>0.002778</td>\n",
       "      <td>0.023241</td>\n",
       "      <td>0.014346</td>\n",
       "      <td>0.009734</td>\n",
       "    </tr>\n",
       "  </tbody>\n",
       "</table>\n",
       "<p>5 rows × 426 columns</p>\n",
       "</div>"
      ],
      "text/plain": [
       "        0         1         2         3         4         5         6    \\\n",
       "0  1.000000  0.017537  0.003458  0.000000  0.000000  0.050542  0.008935   \n",
       "1  0.017537  1.000000  0.039963  0.019885  0.003136  0.031112  0.049305   \n",
       "2  0.003458  0.039963  1.000000  0.003002  0.022608  0.020564  0.021160   \n",
       "3  0.000000  0.019885  0.003002  1.000000  0.000000  0.026515  0.003087   \n",
       "4  0.000000  0.003136  0.022608  0.000000  1.000000  0.008437  0.000000   \n",
       "\n",
       "        7         8         9    ...       416       417       418       419  \\\n",
       "0  0.018045  0.024386  0.014157  ...  0.022923  0.033191  0.012012  0.021372   \n",
       "1  0.051361  0.064036  0.036674  ...  0.070337  0.095069  0.027064  0.035347   \n",
       "2  0.020245  0.014785  0.006826  ...  0.016749  0.017727  0.008148  0.026635   \n",
       "3  0.079493  0.024430  0.041366  ...  0.020194  0.023609  0.002006  0.034587   \n",
       "4  0.019065  0.011057  0.000000  ...  0.008388  0.065983  0.000000  0.024749   \n",
       "\n",
       "        420       421       422       423       424       425  \n",
       "0  0.018799  0.015494  0.020730  0.014487  0.038302  0.018736  \n",
       "1  0.045636  0.049866  0.022892  0.043525  0.057233  0.041739  \n",
       "2  0.028461  0.018403  0.012017  0.007279  0.030566  0.028229  \n",
       "3  0.027899  0.037139  0.005977  0.094862  0.067667  0.105163  \n",
       "4  0.000000  0.000000  0.002778  0.023241  0.014346  0.009734  \n",
       "\n",
       "[5 rows x 426 columns]"
      ]
     },
     "execution_count": 185,
     "metadata": {},
     "output_type": "execute_result"
    }
   ],
   "source": [
    "from sklearn.metrics.pairwise import cosine_similarity\n",
    "\n",
    "dist_matrix = cosine_similarity(kk_dtm)\n",
    "df = pd.DataFrame(dist_matrix)\n",
    "df.head()"
   ]
  },
  {
   "cell_type": "code",
   "execution_count": 191,
   "metadata": {},
   "outputs": [
    {
     "data": {
      "text/plain": [
       "115    0.118889\n",
       "274    0.082524\n",
       "199    0.079056\n",
       "338    0.078100\n",
       "336    0.074951\n",
       "403    0.072850\n",
       "60     0.072486\n",
       "222    0.070084\n",
       "383    0.069953\n",
       "138    0.067700\n",
       "Name: 0, dtype: float64"
      ]
     },
     "execution_count": 191,
     "metadata": {},
     "output_type": "execute_result"
    }
   ],
   "source": [
    "# which documents are most similar to document 0\n",
    "df[df[0] < 0.99][0].sort_values(ascending=False)[:10]"
   ]
  },
  {
   "cell_type": "code",
   "execution_count": 196,
   "metadata": {},
   "outputs": [
    {
     "name": "stdout",
     "output_type": "stream",
     "text": [
      "(426, 10)\n"
     ]
    },
    {
     "data": {
      "text/html": [
       "<div>\n",
       "<style scoped>\n",
       "    .dataframe tbody tr th:only-of-type {\n",
       "        vertical-align: middle;\n",
       "    }\n",
       "\n",
       "    .dataframe tbody tr th {\n",
       "        vertical-align: top;\n",
       "    }\n",
       "\n",
       "    .dataframe thead th {\n",
       "        text-align: right;\n",
       "    }\n",
       "</style>\n",
       "<table border=\"1\" class=\"dataframe\">\n",
       "  <thead>\n",
       "    <tr style=\"text-align: right;\">\n",
       "      <th></th>\n",
       "      <th>aa</th>\n",
       "      <th>aa employer</th>\n",
       "      <th>ab</th>\n",
       "      <th>ab test</th>\n",
       "      <th>abilities</th>\n",
       "      <th>ability analyze</th>\n",
       "      <th>ability apply</th>\n",
       "      <th>ability build</th>\n",
       "      <th>ability business</th>\n",
       "      <th>ability clearly</th>\n",
       "      <th>...</th>\n",
       "      <th>year technical</th>\n",
       "      <th>year work</th>\n",
       "      <th>years</th>\n",
       "      <th>years experience</th>\n",
       "      <th>yearthe</th>\n",
       "      <th>yes</th>\n",
       "      <th>york</th>\n",
       "      <th>york city</th>\n",
       "      <th>york office</th>\n",
       "      <th>yr</th>\n",
       "    </tr>\n",
       "  </thead>\n",
       "  <tbody>\n",
       "    <tr>\n",
       "      <th>0</th>\n",
       "      <td>0.0</td>\n",
       "      <td>0.0</td>\n",
       "      <td>0.0</td>\n",
       "      <td>0.0</td>\n",
       "      <td>0.0</td>\n",
       "      <td>0.0</td>\n",
       "      <td>0.0</td>\n",
       "      <td>0.0</td>\n",
       "      <td>0.0</td>\n",
       "      <td>0.0</td>\n",
       "      <td>...</td>\n",
       "      <td>0.0</td>\n",
       "      <td>0.0</td>\n",
       "      <td>0.0</td>\n",
       "      <td>0.0</td>\n",
       "      <td>0.0</td>\n",
       "      <td>0.0</td>\n",
       "      <td>0.0</td>\n",
       "      <td>0.0</td>\n",
       "      <td>0.0</td>\n",
       "      <td>0.0</td>\n",
       "    </tr>\n",
       "    <tr>\n",
       "      <th>1</th>\n",
       "      <td>0.0</td>\n",
       "      <td>0.0</td>\n",
       "      <td>0.0</td>\n",
       "      <td>0.0</td>\n",
       "      <td>0.0</td>\n",
       "      <td>0.0</td>\n",
       "      <td>0.0</td>\n",
       "      <td>0.0</td>\n",
       "      <td>0.0</td>\n",
       "      <td>0.0</td>\n",
       "      <td>...</td>\n",
       "      <td>0.0</td>\n",
       "      <td>0.0</td>\n",
       "      <td>0.0</td>\n",
       "      <td>0.0</td>\n",
       "      <td>0.0</td>\n",
       "      <td>0.0</td>\n",
       "      <td>0.0</td>\n",
       "      <td>0.0</td>\n",
       "      <td>0.0</td>\n",
       "      <td>0.0</td>\n",
       "    </tr>\n",
       "    <tr>\n",
       "      <th>2</th>\n",
       "      <td>0.0</td>\n",
       "      <td>0.0</td>\n",
       "      <td>0.0</td>\n",
       "      <td>0.0</td>\n",
       "      <td>0.0</td>\n",
       "      <td>0.0</td>\n",
       "      <td>0.0</td>\n",
       "      <td>0.0</td>\n",
       "      <td>0.0</td>\n",
       "      <td>0.0</td>\n",
       "      <td>...</td>\n",
       "      <td>0.0</td>\n",
       "      <td>0.0</td>\n",
       "      <td>0.0</td>\n",
       "      <td>0.0</td>\n",
       "      <td>0.0</td>\n",
       "      <td>0.0</td>\n",
       "      <td>0.0</td>\n",
       "      <td>0.0</td>\n",
       "      <td>0.0</td>\n",
       "      <td>0.0</td>\n",
       "    </tr>\n",
       "    <tr>\n",
       "      <th>3</th>\n",
       "      <td>0.0</td>\n",
       "      <td>0.0</td>\n",
       "      <td>0.0</td>\n",
       "      <td>0.0</td>\n",
       "      <td>0.0</td>\n",
       "      <td>0.0</td>\n",
       "      <td>0.0</td>\n",
       "      <td>0.0</td>\n",
       "      <td>0.0</td>\n",
       "      <td>0.0</td>\n",
       "      <td>...</td>\n",
       "      <td>0.0</td>\n",
       "      <td>0.0</td>\n",
       "      <td>0.0</td>\n",
       "      <td>0.0</td>\n",
       "      <td>0.0</td>\n",
       "      <td>0.0</td>\n",
       "      <td>0.0</td>\n",
       "      <td>0.0</td>\n",
       "      <td>0.0</td>\n",
       "      <td>0.0</td>\n",
       "    </tr>\n",
       "    <tr>\n",
       "      <th>4</th>\n",
       "      <td>0.0</td>\n",
       "      <td>0.0</td>\n",
       "      <td>0.0</td>\n",
       "      <td>0.0</td>\n",
       "      <td>0.0</td>\n",
       "      <td>0.0</td>\n",
       "      <td>0.0</td>\n",
       "      <td>0.0</td>\n",
       "      <td>0.0</td>\n",
       "      <td>0.0</td>\n",
       "      <td>...</td>\n",
       "      <td>0.0</td>\n",
       "      <td>0.0</td>\n",
       "      <td>0.0</td>\n",
       "      <td>0.0</td>\n",
       "      <td>0.0</td>\n",
       "      <td>0.0</td>\n",
       "      <td>0.0</td>\n",
       "      <td>0.0</td>\n",
       "      <td>0.0</td>\n",
       "      <td>0.0</td>\n",
       "    </tr>\n",
       "  </tbody>\n",
       "</table>\n",
       "<p>5 rows × 11527 columns</p>\n",
       "</div>"
      ],
      "text/plain": [
       "    aa  aa employer   ab  ab test  abilities  ability analyze  ability apply  \\\n",
       "0  0.0          0.0  0.0      0.0        0.0              0.0            0.0   \n",
       "1  0.0          0.0  0.0      0.0        0.0              0.0            0.0   \n",
       "2  0.0          0.0  0.0      0.0        0.0              0.0            0.0   \n",
       "3  0.0          0.0  0.0      0.0        0.0              0.0            0.0   \n",
       "4  0.0          0.0  0.0      0.0        0.0              0.0            0.0   \n",
       "\n",
       "   ability build  ability business  ability clearly  ...  year technical  \\\n",
       "0            0.0               0.0              0.0  ...             0.0   \n",
       "1            0.0               0.0              0.0  ...             0.0   \n",
       "2            0.0               0.0              0.0  ...             0.0   \n",
       "3            0.0               0.0              0.0  ...             0.0   \n",
       "4            0.0               0.0              0.0  ...             0.0   \n",
       "\n",
       "   year work  years  years experience  yearthe  yes  york  york city  \\\n",
       "0        0.0    0.0               0.0      0.0  0.0   0.0        0.0   \n",
       "1        0.0    0.0               0.0      0.0  0.0   0.0        0.0   \n",
       "2        0.0    0.0               0.0      0.0  0.0   0.0        0.0   \n",
       "3        0.0    0.0               0.0      0.0  0.0   0.0        0.0   \n",
       "4        0.0    0.0               0.0      0.0  0.0   0.0        0.0   \n",
       "\n",
       "   york office   yr  \n",
       "0          0.0  0.0  \n",
       "1          0.0  0.0  \n",
       "2          0.0  0.0  \n",
       "3          0.0  0.0  \n",
       "4          0.0  0.0  \n",
       "\n",
       "[5 rows x 11527 columns]"
      ]
     },
     "execution_count": 196,
     "metadata": {},
     "output_type": "execute_result"
    }
   ],
   "source": [
    "knn_dtm_df = pd.DataFrame(kk_dtm.todense(), columns=tfidf.get_feature_names())\n",
    "print(dtm.shape)\n",
    "knn_dtm_df.head()"
   ]
  },
  {
   "cell_type": "code",
   "execution_count": 197,
   "metadata": {},
   "outputs": [
    {
     "data": {
      "text/plain": [
       "(array([[0.        , 1.32748737, 1.35460373, 1.35716186, 1.35786593]]),\n",
       " array([[  0, 115, 274, 199, 338]]))"
      ]
     },
     "execution_count": 197,
     "metadata": {},
     "output_type": "execute_result"
    }
   ],
   "source": [
    "from sklearn.neighbors import NearestNeighbors\n",
    "\n",
    "nn = NearestNeighbors(n_neighbors=5, algorithm='kd_tree')\n",
    "nn.fit(knn_dtm_df)\n",
    "\n",
    "# which documents are most similar to document 0 \n",
    "doc = knn_dtm_df.iloc[0].values\n",
    "nn.kneighbors([doc])"
   ]
  },
  {
   "cell_type": "code",
   "execution_count": 229,
   "metadata": {},
   "outputs": [],
   "source": [
    "def clean_string(text):\n",
    "    \"\"\" Cleans text from stop words, numbers, punctuation\n",
    "    Parameters\n",
    "    ----------\n",
    "    text: str\n",
    "\n",
    "    Returns\n",
    "    ---------\n",
    "    cleaned text: str\n",
    "    \"\"\"\n",
    "    doc_tokens = []\n",
    "    for token in nlp(text, disable=['parser', 'tagger']):\n",
    "        if (token.text.lower() not in STOP_WORDS) and (token.is_punct == False) and (not re.match('.*\\d+', token.text)):\n",
    "            doc_tokens.append(token.lemma_.lower().strip(', /'))\n",
    "    cleaned_text = ' '.join(doc_tokens)\n",
    "    return cleaned_text"
   ]
  },
  {
   "cell_type": "code",
   "execution_count": 263,
   "metadata": {},
   "outputs": [
    {
     "data": {
      "text/plain": [
       "\"Job Requirements: Conceptual understanding in Machine Learning models like Nai\\\\xc2\\\\xa8ve Bayes, K-Means, SVM, Apriori, Linear/ Logistic Regression, Neural, Random Forests, Decision Trees, K-NN along with hands-on experience in at least 2 of them Intermediate to expert level coding skills in Python/R. (Ability to write functions, clean and efficient data manipulation are mandatory for this role) Exposure to packages like NumPy, SciPy, Pandas, Matplotlib etc in Python or GGPlot2, dplyr, tidyR in R Ability to communicate Model findings to both Technical and Non-Technical stake holders Hands on experience in SQL/Hive or similar programming language Must show past work via GitHub, Kaggle or any other published article Master's degree in Statistics/Mathematics/Computer Science or any other quant specific field. Apply Now\""
      ]
     },
     "execution_count": 263,
     "metadata": {},
     "output_type": "execute_result"
    }
   ],
   "source": [
    "data['description'][0]"
   ]
  },
  {
   "cell_type": "code",
   "execution_count": 202,
   "metadata": {},
   "outputs": [
    {
     "data": {
      "text/plain": [
       "'Company Overview At Proofpoint, we have a passion for protecting people, data, and brands from today\\\\xe2 0 9s advanced threats and compliance risks. We hire the best people in the business to: Build and enhance our proven security platform Blend innovation and speed in a constantly evolving cloud architecture Analyze new threats and offer deep insight through data-driven intel Collaborate with customers to help solve their toughest security challenges We are singularly devoted to helping our customers protect what matters most. That\\\\xe2 0 9s why we\\\\xe2 0 9re a leader in next-generation cybersecurity\\\\xe2 0 4and why more than half of the Fortune 100 trust us as a security partner. The Role Do you have a passion for applying machine learning to hard problems in new application areas? Do you keep up with the latest on GANs, ResNets, CNNs, RNNs, and Deep Reinforcement Learning but have also mastered the classics like SVM and Random Forest? Are you looking for the opportunity to work with a great team that combines algorithm design, software engineering, and domain knowledge into products that are first of their kind? If so, we are looking for you. We need a Data Scientist who will work on analyzing data from malicious actors to help uncover cyber threats. Your primary focus will be applying your skills in various areas like anomaly detection, graph mining, clustering, and predictive analytics to help us build groundbreaking services that would revolutionize the industry.  We are a fast-paced, high-energy team where you will be given the opportunity to make a significant impact. The team has a solid engineering culture that values the craftsmanship of writing great software, enjoys learning, and solving big problems. Your day-to-day Feature engineering, building and optimizing classifiers, applying machine learning and deep learning expertise Blending data from disparate sources, mining the resulting data lake to build models Contributing tested code to the team\\\\xe2 0 9s git repo and working with engineering to implement models efficiently Processing, cleansing and verifying integrity of data used for analysis Conducting ad-hoc analysis and innovation around data visualization  What you bring to the team Minimum 1 year of professional experience in cybersecurity industry Excellent understanding of machine learning algorithms, processes, tools and platforms including: Supervised methods - Na\\\\xc3\\\\xafve Bayes, Logistic Regression, SVM, ConvNet, LSTM, Siamese Networks, etc. Unsupervised methods - K-means, DBSCAN, T-SNE, Spectral Clustering, SOM, LSH, etc. Toolkits - numpy, scipy, scikit-learn, tensorflow, pytorch, keras, genism, vowpal wabbit, etc. Python proficiency Great communication skills, ability to explain predictive analytics to non-technical audience Proficiency in data exploration techniques and tools, e.g. SQL, Hive, etc. Excellent statistics, linear algebra, and optimization skills MS in Statistics, Machine Learning, Applied Physics or Computer Science (or technical degree with commensurate industry experience). PhD preferred Why Proofpoint  As a customer focused and driven-to-win organization with leading edge products, there are many exciting reasons to join the Proofpoint team. We believe in hiring the best the brightest and cultivating a culture of collaboration and appreciation. As we continue to grow and expand globally, we understand that hiring the right people and treating them well is key to our success! We are a multi-national company with locations in 10 countries, with each location contributing to Proofpoint\\\\xe2 0 9s amazing culture! #LI-JL3'"
      ]
     },
     "execution_count": 202,
     "metadata": {},
     "output_type": "execute_result"
    }
   ],
   "source": [
    "data['description'][115]"
   ]
  },
  {
   "cell_type": "code",
   "execution_count": 215,
   "metadata": {},
   "outputs": [],
   "source": [
    "job_desc = 'As a Data Scientist focused on Analytics and Experimentation, you will work on an impactful team to analyze our millions of learners. We capture terabytes of data on how users engage with our platform. As Codecademy continues our rapid growth, we want to build a data-informed culture that uses hypothesis testing, experimentation, and exploratory analysis to guide our decision-making process.'"
   ]
  },
  {
   "cell_type": "code",
   "execution_count": 240,
   "metadata": {},
   "outputs": [],
   "source": [
    "doc = clean_string(job_desc)\n",
    "doc_dtm = tfidf.transform([doc])"
   ]
  },
  {
   "cell_type": "code",
   "execution_count": 242,
   "metadata": {},
   "outputs": [
    {
     "data": {
      "text/plain": [
       "(array([[1.30076329, 1.32698162, 1.34159657, 1.34458778, 1.35556751]]),\n",
       " array([[416, 414, 191, 385, 230]]))"
      ]
     },
     "execution_count": 242,
     "metadata": {},
     "output_type": "execute_result"
    }
   ],
   "source": [
    "nn.kneighbors(doc_dtm.todense())"
   ]
  },
  {
   "cell_type": "code",
   "execution_count": 243,
   "metadata": {},
   "outputs": [
    {
     "data": {
      "text/plain": [
       "'Los Gatos, California Science and Analytics The culture of experimentation and data-informed decision making led by Science & Analytics lies at the heart of Netflix product Innovation, and allows us to continuously evolve and improve the Netflix experience for our members around the globe.  In this role, you will collaborate with data scientists, engineers, and product managers to identify opportunities for new approaches to experimentation at Netflix. You\\\\xe2 0 9ll take end-to-end responsibility for all aspects of collaborative data science projects, including researching the statistical methodology, setting responsibilities and timelines, and ensuring that the end deliverable is correct, performant, and meets user requirements. You will collaborate with our platform teams to integrate new methodologies into our testing infrastructure, and communicate and evangelize these new ideas to colleagues across the company. In success, you will create and orchestrate project-focussed cross-functional working groups, set the strategic agenda for projects, ramp up on any new tools required to guide them to completion, track down bugs, and everything in between.  This is a highly visible position, sitting at the intersection between Science and Analytics, experimentation platform, and product innovation. There is ample opportunity for project ownership, and to have tangible impacts that will benefit decision making across the Netflix product organization. For a sense of some of the ways that Netflix is advancing experimentation, have a look at blog posts on making faster decisions, quasi experimentation, fast bootstrapping on large data sets, and interleaving test designs. In this role, scaling new methods from working prototypes to efficient implementation on our production platforms is of primary importance, and to do so you\\\\xe2 0 9ll be partnering with an active mathematical engineering group.  About you Experience guiding and executing cross-functional data science projects to completion, while remaining hands-on. Practical, hands-on experience with a wide variety of applied statistical methods. Great judgement and instincts, gained from experience, that allow you to identify what is an essential versus a nice-to-have on a project, and to make good choices about trade-offs (e.g., between simplicity vs generality, exactness vs speed). Experience ramping up on necessary context in new domains. Deep experience with R or Python (and familiar with the other) and with SQL and running ETL; exposure to additional languages preferred. Great interpersonal skills, and experience building and maintaining strong partnerships with data scientists, engineers, and other less technical stakeholders. Well-honed communication skills, and the ability to tailor explanations of statistical concepts to a variety of audiences. Culture Netflix offers amazing colleagues, constantly evolving technology, and fascinating data science opportunities. We embrace diversity and inclusion, and we are always on the lookout for stunning colleagues who bring new perspectives. Our unique culture emphasizes Freedom & Responsibility, and permeates our way of work - hopefully it resonates with you as much as it does with us.'"
      ]
     },
     "execution_count": 243,
     "metadata": {},
     "output_type": "execute_result"
    }
   ],
   "source": [
    "data['description'][416]"
   ]
  },
  {
   "cell_type": "code",
   "execution_count": 244,
   "metadata": {},
   "outputs": [
    {
     "data": {
      "text/plain": [
       "'We are looking for a Senior Data Scientist with marketing analytics background to join the Spotify product Insights team in New York City. As part of the Growth Opportunities department, you will lead insights for a new team focused on Engineering Automated Marketing for user acquisition. Engineering Automated Marketing is the art and science of bringing the right content to the right users, at scale. Thanks to the power of Machine Learning, the depth of Spotify\\\\xe2 0 9s catalog and our large user base, we can enable technology that allows us to automate, measure and optimize the effectiveness of our content marketing campaigns. Think emails, push, or Facebook ads.  Acquisition Marketing focuses on driving efficient and effective registrations through advertising and we are pioneering the way in which we use data, analytics and advanced data science to execute and optimize our global marketing. You will measure and provide optimization recommendations for all Artist and Content marketing campaigns through a causal approach (i.e., incrementality) and improve our marketing effectiveness through experimentation.  We are looking for a Data Scientist to join our team that will lead experimentation efforts in key marketing channels. This role will support the full cycle of an experiment (from data-driven hypothesis generation to test design to analysis and interpretation) while also innovating on experimental methodologies that allow us to obtain meaningful results. What you\\\\xe2 0 9ll do  Lead the design, analysis, and interpretation of experiments that shape decision-making around acquisition and engagement marketing at Spotify. Proactively perform data exploration to discover future testing opportunities Drive innovation by developing new experimentation methodologies, statistical techniques, and causal-inference approaches that could sharpen our marketing decision-making process. Be a strategic partner and work with business stakeholders to connect analysis to key decisions that affect the business to influence and drive impact to the business. Instrument tracking (e.g. via DoubleClick, Google Analytics, Adjust) for marketing campaigns Access marketing performance data through a variety of tools Build performance dashboards (e.g. Tableau, Looker) Frequently analyze the results of marketing campaigns and recommend optimizations to improve performance Deploy agile testing strategies (e.g. A/B testing) to quantify impact of performance recommendations Who you are  4+ years of experience in marketing analytics or business intelligence (focused in analytics) with a proven track record of delivering performance results required. Understanding of traditional media (TV, out of home), digital media (search, display, social) and CRM (email, push notifications) required. Strong analytical skills, including data querying, dashboarding, and experimental design are required. Expertise in marketing tracking platforms (e.g. DoubleClick, Google Tag Manager, Google Analytics, Adjust) required. Experience in executing incrementality testing with marketing platforms (FB, Twitter, Snapchat, Google) preferred Data visualization skills required (e.g. Tableau, Looker). Excel expertise required. You have an advanced degree in Statistics, Econometrics, Mathematics, Physics, or a related quantitative field You have deep statistical skills utilized in A/B testing, analyzing observational data, and modeling You are comfortable working with large data sets and analyzing complex data with SQL and other tools such as Python or R You have a strong bias to action, delivering results quickly with iteration instead of waiting for perfection. You are an expert at taking vague questions and crystallizing them into impactful experiments, statistical analysis or models for the business You are able to multitask and work on multiple ongoing projects, with minimal oversight, documentation, and defined process'"
      ]
     },
     "execution_count": 244,
     "metadata": {},
     "output_type": "execute_result"
    }
   ],
   "source": [
    "data['description'][414]"
   ]
  },
  {
   "cell_type": "markdown",
   "metadata": {
    "colab_type": "text",
    "id": "FiDfTWceoRkH"
   },
   "source": [
    "## Stretch Goals\n",
    "\n",
    " - Try different visualizations for words and frequencies - what story do you want to tell with the data?\n",
    " - Scrape Job Listings for the job title \"Data Analyst\". How do these differ from Data Scientist Job Listings\n",
    " - Try and identify requirements for experience specific technologies that are asked for in the job listings. How are those distributed among the job listings?\n",
    " - Use a clustering algorithm to cluster documents by their most important terms. Do the clusters reveal any common themes?\n",
    "  - **Hint:** K-means might not be the best algorithm for this. Do a little bit of research to see what might be good for this. Also, remember that algorithms that depend on Euclidean distance break down with high dimensional data.\n",
    " - Create a labeled dataset - which jobs will you apply for? Train a model to select the jobs you are most likely to apply for. :) "
   ]
  },
  {
   "cell_type": "code",
   "execution_count": 279,
   "metadata": {},
   "outputs": [],
   "source": [
    "# Try and identify requirements for experience specific technologies that \n",
    "# are asked for in the job listings. How are those distributed among the job listings?\n",
    "\n",
    "tech_skills = ['SQL', 'R', 'Python', 'Bayes', 'K-Means', 'SVM', \n",
    "               'Apriori', 'github', 'Logistic Regression', 'Neural', \n",
    "               'Random Forests', 'Decision Tree', 'K-NN', 'A/B testing',\n",
    "               'SAS', 'NoSQL', 'Reinforcement Learning', 'AI', \n",
    "               'machine learning', 'analytic', 'predictive modelling']\n",
    "\n",
    "tech_skills = [clean_string(skill) for skill in tech_skills]\n",
    "# tech_skills"
   ]
  },
  {
   "cell_type": "code",
   "execution_count": 275,
   "metadata": {},
   "outputs": [],
   "source": [
    "tfidf = TfidfVectorizer(stop_words='english',\n",
    "                       ngram_range=(1,2),\n",
    "                       min_df=1,\n",
    "                       max_df=0.7)"
   ]
  },
  {
   "cell_type": "code",
   "execution_count": 276,
   "metadata": {},
   "outputs": [],
   "source": [
    "dtm = tfidf.fit_transform(data['cleaned_text'])\n",
    "dtm_df = pd.DataFrame(dtm.todense(), columns=tfidf.get_feature_names())"
   ]
  },
  {
   "cell_type": "code",
   "execution_count": 277,
   "metadata": {},
   "outputs": [],
   "source": [
    "skills = []\n",
    "counts = []\n",
    "for column in dtm_df.columns:\n",
    "    if column in tech_skills:\n",
    "        skills.append(column)\n",
    "        counts.append(dtm_df[column].sum())"
   ]
  },
  {
   "cell_type": "code",
   "execution_count": 278,
   "metadata": {},
   "outputs": [
    {
     "data": {
      "image/png": "[encoded data removed]",
      "text/plain": [
       "<Figure size 432x288 with 1 Axes>"
      ]
     },
     "metadata": {
      "needs_background": "light"
     },
     "output_type": "display_data"
    }
   ],
   "source": [
    "fig = plt.figure()\n",
    "ax = fig.add_axes([0,0,3,1])\n",
    "ax.bar(skills,counts)\n",
    "plt.show()"
   ]
  },
  {
   "cell_type": "code",
   "execution_count": null,
   "metadata": {},
   "outputs": [],
   "source": [
    "# Use a clustering algorithm to cluster documents by their \n",
    "# most important terms. Do the clusters reveal any common themes?\n",
    "\n",
    "# how to identify most important terms? (not most frequent, not least frequent)\n",
    "# - occurs in less than 15% of the docs \n",
    "# - at least 10 times"
   ]
  },
  {
   "cell_type": "code",
   "execution_count": 283,
   "metadata": {},
   "outputs": [],
   "source": [
    "tfidf = TfidfVectorizer(stop_words='english',\n",
    "                       ngram_range=(1,3),\n",
    "                       min_df=10,\n",
    "                       max_df=0.10,\n",
    "                       max_features=30)"
   ]
  },
  {
   "cell_type": "code",
   "execution_count": 284,
   "metadata": {},
   "outputs": [
    {
     "data": {
      "text/html": [
       "<div>\n",
       "<style scoped>\n",
       "    .dataframe tbody tr th:only-of-type {\n",
       "        vertical-align: middle;\n",
       "    }\n",
       "\n",
       "    .dataframe tbody tr th {\n",
       "        vertical-align: top;\n",
       "    }\n",
       "\n",
       "    .dataframe thead th {\n",
       "        text-align: right;\n",
       "    }\n",
       "</style>\n",
       "<table border=\"1\" class=\"dataframe\">\n",
       "  <thead>\n",
       "    <tr style=\"text-align: right;\">\n",
       "      <th></th>\n",
       "      <th>accommodation</th>\n",
       "      <th>activity</th>\n",
       "      <th>agency</th>\n",
       "      <th>artificial</th>\n",
       "      <th>assist</th>\n",
       "      <th>believe</th>\n",
       "      <th>brand</th>\n",
       "      <th>business intelligence</th>\n",
       "      <th>campaign</th>\n",
       "      <th>clinical</th>\n",
       "      <th>...</th>\n",
       "      <th>nlp</th>\n",
       "      <th>security</th>\n",
       "      <th>shop</th>\n",
       "      <th>states</th>\n",
       "      <th>study</th>\n",
       "      <th>summary</th>\n",
       "      <th>time series</th>\n",
       "      <th>uber</th>\n",
       "      <th>united</th>\n",
       "      <th>united states</th>\n",
       "    </tr>\n",
       "  </thead>\n",
       "  <tbody>\n",
       "    <tr>\n",
       "      <th>0</th>\n",
       "      <td>0.0</td>\n",
       "      <td>0.0</td>\n",
       "      <td>0.0</td>\n",
       "      <td>0.0</td>\n",
       "      <td>0.0</td>\n",
       "      <td>0.0</td>\n",
       "      <td>0.0</td>\n",
       "      <td>0.0</td>\n",
       "      <td>0.0</td>\n",
       "      <td>0.0</td>\n",
       "      <td>...</td>\n",
       "      <td>0.0</td>\n",
       "      <td>0.0</td>\n",
       "      <td>0.0</td>\n",
       "      <td>0.0</td>\n",
       "      <td>0.0</td>\n",
       "      <td>0.0</td>\n",
       "      <td>0.0</td>\n",
       "      <td>0.0</td>\n",
       "      <td>0.0</td>\n",
       "      <td>0.0</td>\n",
       "    </tr>\n",
       "    <tr>\n",
       "      <th>1</th>\n",
       "      <td>0.0</td>\n",
       "      <td>0.0</td>\n",
       "      <td>0.0</td>\n",
       "      <td>0.0</td>\n",
       "      <td>0.0</td>\n",
       "      <td>0.0</td>\n",
       "      <td>0.0</td>\n",
       "      <td>0.0</td>\n",
       "      <td>0.0</td>\n",
       "      <td>0.0</td>\n",
       "      <td>...</td>\n",
       "      <td>0.0</td>\n",
       "      <td>0.0</td>\n",
       "      <td>0.0</td>\n",
       "      <td>0.0</td>\n",
       "      <td>0.0</td>\n",
       "      <td>0.0</td>\n",
       "      <td>0.0</td>\n",
       "      <td>0.0</td>\n",
       "      <td>0.0</td>\n",
       "      <td>0.0</td>\n",
       "    </tr>\n",
       "    <tr>\n",
       "      <th>2</th>\n",
       "      <td>0.0</td>\n",
       "      <td>0.0</td>\n",
       "      <td>0.0</td>\n",
       "      <td>0.0</td>\n",
       "      <td>0.0</td>\n",
       "      <td>0.0</td>\n",
       "      <td>0.0</td>\n",
       "      <td>0.0</td>\n",
       "      <td>0.0</td>\n",
       "      <td>0.0</td>\n",
       "      <td>...</td>\n",
       "      <td>0.0</td>\n",
       "      <td>0.0</td>\n",
       "      <td>0.0</td>\n",
       "      <td>0.0</td>\n",
       "      <td>0.0</td>\n",
       "      <td>0.0</td>\n",
       "      <td>0.0</td>\n",
       "      <td>0.0</td>\n",
       "      <td>0.0</td>\n",
       "      <td>0.0</td>\n",
       "    </tr>\n",
       "    <tr>\n",
       "      <th>3</th>\n",
       "      <td>0.0</td>\n",
       "      <td>0.0</td>\n",
       "      <td>0.0</td>\n",
       "      <td>0.0</td>\n",
       "      <td>0.0</td>\n",
       "      <td>0.0</td>\n",
       "      <td>0.0</td>\n",
       "      <td>0.0</td>\n",
       "      <td>0.0</td>\n",
       "      <td>0.0</td>\n",
       "      <td>...</td>\n",
       "      <td>0.0</td>\n",
       "      <td>0.0</td>\n",
       "      <td>0.0</td>\n",
       "      <td>0.0</td>\n",
       "      <td>1.0</td>\n",
       "      <td>0.0</td>\n",
       "      <td>0.0</td>\n",
       "      <td>0.0</td>\n",
       "      <td>0.0</td>\n",
       "      <td>0.0</td>\n",
       "    </tr>\n",
       "    <tr>\n",
       "      <th>4</th>\n",
       "      <td>0.0</td>\n",
       "      <td>0.0</td>\n",
       "      <td>0.0</td>\n",
       "      <td>0.0</td>\n",
       "      <td>0.0</td>\n",
       "      <td>0.0</td>\n",
       "      <td>0.0</td>\n",
       "      <td>0.0</td>\n",
       "      <td>0.0</td>\n",
       "      <td>0.0</td>\n",
       "      <td>...</td>\n",
       "      <td>0.0</td>\n",
       "      <td>0.0</td>\n",
       "      <td>0.0</td>\n",
       "      <td>0.0</td>\n",
       "      <td>0.0</td>\n",
       "      <td>0.0</td>\n",
       "      <td>0.0</td>\n",
       "      <td>0.0</td>\n",
       "      <td>0.0</td>\n",
       "      <td>0.0</td>\n",
       "    </tr>\n",
       "  </tbody>\n",
       "</table>\n",
       "<p>5 rows × 30 columns</p>\n",
       "</div>"
      ],
      "text/plain": [
       "   accommodation  activity  agency  artificial  assist  believe  brand  \\\n",
       "0            0.0       0.0     0.0         0.0     0.0      0.0    0.0   \n",
       "1            0.0       0.0     0.0         0.0     0.0      0.0    0.0   \n",
       "2            0.0       0.0     0.0         0.0     0.0      0.0    0.0   \n",
       "3            0.0       0.0     0.0         0.0     0.0      0.0    0.0   \n",
       "4            0.0       0.0     0.0         0.0     0.0      0.0    0.0   \n",
       "\n",
       "   business intelligence  campaign  clinical  ...  nlp  security  shop  \\\n",
       "0                    0.0       0.0       0.0  ...  0.0       0.0   0.0   \n",
       "1                    0.0       0.0       0.0  ...  0.0       0.0   0.0   \n",
       "2                    0.0       0.0       0.0  ...  0.0       0.0   0.0   \n",
       "3                    0.0       0.0       0.0  ...  0.0       0.0   0.0   \n",
       "4                    0.0       0.0       0.0  ...  0.0       0.0   0.0   \n",
       "\n",
       "   states  study  summary  time series  uber  united  united states  \n",
       "0     0.0    0.0      0.0          0.0   0.0     0.0            0.0  \n",
       "1     0.0    0.0      0.0          0.0   0.0     0.0            0.0  \n",
       "2     0.0    0.0      0.0          0.0   0.0     0.0            0.0  \n",
       "3     0.0    1.0      0.0          0.0   0.0     0.0            0.0  \n",
       "4     0.0    0.0      0.0          0.0   0.0     0.0            0.0  \n",
       "\n",
       "[5 rows x 30 columns]"
      ]
     },
     "execution_count": 284,
     "metadata": {},
     "output_type": "execute_result"
    }
   ],
   "source": [
    "dtm = tfidf.fit_transform(data['cleaned_text'])\n",
    "dtm = pd.DataFrame(dtm.todense(), columns=tfidf.get_feature_names())\n",
    "dtm.head()"
   ]
  },
  {
   "cell_type": "code",
   "execution_count": 288,
   "metadata": {},
   "outputs": [
    {
     "data": {
      "text/html": [
       "<div>\n",
       "<style scoped>\n",
       "    .dataframe tbody tr th:only-of-type {\n",
       "        vertical-align: middle;\n",
       "    }\n",
       "\n",
       "    .dataframe tbody tr th {\n",
       "        vertical-align: top;\n",
       "    }\n",
       "\n",
       "    .dataframe thead th {\n",
       "        text-align: right;\n",
       "    }\n",
       "</style>\n",
       "<table border=\"1\" class=\"dataframe\">\n",
       "  <thead>\n",
       "    <tr style=\"text-align: right;\">\n",
       "      <th></th>\n",
       "      <th>words</th>\n",
       "      <th>counts</th>\n",
       "    </tr>\n",
       "  </thead>\n",
       "  <tbody>\n",
       "    <tr>\n",
       "      <th>5</th>\n",
       "      <td>believe</td>\n",
       "      <td>27.364304</td>\n",
       "    </tr>\n",
       "    <tr>\n",
       "      <th>21</th>\n",
       "      <td>security</td>\n",
       "      <td>24.591828</td>\n",
       "    </tr>\n",
       "    <tr>\n",
       "      <th>20</th>\n",
       "      <td>nlp</td>\n",
       "      <td>24.568042</td>\n",
       "    </tr>\n",
       "    <tr>\n",
       "      <th>10</th>\n",
       "      <td>content</td>\n",
       "      <td>23.909634</td>\n",
       "    </tr>\n",
       "    <tr>\n",
       "      <th>4</th>\n",
       "      <td>assist</td>\n",
       "      <td>21.798258</td>\n",
       "    </tr>\n",
       "    <tr>\n",
       "      <th>2</th>\n",
       "      <td>agency</td>\n",
       "      <td>20.559020</td>\n",
       "    </tr>\n",
       "    <tr>\n",
       "      <th>6</th>\n",
       "      <td>brand</td>\n",
       "      <td>20.442285</td>\n",
       "    </tr>\n",
       "    <tr>\n",
       "      <th>7</th>\n",
       "      <td>business intelligence</td>\n",
       "      <td>20.243764</td>\n",
       "    </tr>\n",
       "    <tr>\n",
       "      <th>13</th>\n",
       "      <td>google</td>\n",
       "      <td>19.892886</td>\n",
       "    </tr>\n",
       "    <tr>\n",
       "      <th>26</th>\n",
       "      <td>time series</td>\n",
       "      <td>19.668164</td>\n",
       "    </tr>\n",
       "    <tr>\n",
       "      <th>8</th>\n",
       "      <td>campaign</td>\n",
       "      <td>19.157839</td>\n",
       "    </tr>\n",
       "    <tr>\n",
       "      <th>17</th>\n",
       "      <td>long</td>\n",
       "      <td>18.800642</td>\n",
       "    </tr>\n",
       "    <tr>\n",
       "      <th>3</th>\n",
       "      <td>artificial</td>\n",
       "      <td>18.585482</td>\n",
       "    </tr>\n",
       "    <tr>\n",
       "      <th>25</th>\n",
       "      <td>summary</td>\n",
       "      <td>17.974580</td>\n",
       "    </tr>\n",
       "    <tr>\n",
       "      <th>0</th>\n",
       "      <td>accommodation</td>\n",
       "      <td>17.823593</td>\n",
       "    </tr>\n",
       "    <tr>\n",
       "      <th>12</th>\n",
       "      <td>driver</td>\n",
       "      <td>17.529994</td>\n",
       "    </tr>\n",
       "    <tr>\n",
       "      <th>14</th>\n",
       "      <td>healthcare</td>\n",
       "      <td>17.224884</td>\n",
       "    </tr>\n",
       "    <tr>\n",
       "      <th>1</th>\n",
       "      <td>activity</td>\n",
       "      <td>17.074708</td>\n",
       "    </tr>\n",
       "    <tr>\n",
       "      <th>18</th>\n",
       "      <td>marketing</td>\n",
       "      <td>17.010835</td>\n",
       "    </tr>\n",
       "    <tr>\n",
       "      <th>27</th>\n",
       "      <td>uber</td>\n",
       "      <td>16.749348</td>\n",
       "    </tr>\n",
       "    <tr>\n",
       "      <th>24</th>\n",
       "      <td>study</td>\n",
       "      <td>16.174951</td>\n",
       "    </tr>\n",
       "    <tr>\n",
       "      <th>19</th>\n",
       "      <td>microsoft</td>\n",
       "      <td>15.643517</td>\n",
       "    </tr>\n",
       "    <tr>\n",
       "      <th>11</th>\n",
       "      <td>demand</td>\n",
       "      <td>15.313271</td>\n",
       "    </tr>\n",
       "    <tr>\n",
       "      <th>9</th>\n",
       "      <td>clinical</td>\n",
       "      <td>15.181390</td>\n",
       "    </tr>\n",
       "    <tr>\n",
       "      <th>22</th>\n",
       "      <td>shop</td>\n",
       "      <td>15.043421</td>\n",
       "    </tr>\n",
       "    <tr>\n",
       "      <th>16</th>\n",
       "      <td>internship</td>\n",
       "      <td>14.330800</td>\n",
       "    </tr>\n",
       "    <tr>\n",
       "      <th>15</th>\n",
       "      <td>intern</td>\n",
       "      <td>14.293008</td>\n",
       "    </tr>\n",
       "    <tr>\n",
       "      <th>28</th>\n",
       "      <td>united</td>\n",
       "      <td>12.682300</td>\n",
       "    </tr>\n",
       "    <tr>\n",
       "      <th>23</th>\n",
       "      <td>states</td>\n",
       "      <td>12.102761</td>\n",
       "    </tr>\n",
       "    <tr>\n",
       "      <th>29</th>\n",
       "      <td>united states</td>\n",
       "      <td>12.102761</td>\n",
       "    </tr>\n",
       "  </tbody>\n",
       "</table>\n",
       "</div>"
      ],
      "text/plain": [
       "                    words     counts\n",
       "5                 believe  27.364304\n",
       "21               security  24.591828\n",
       "20                    nlp  24.568042\n",
       "10                content  23.909634\n",
       "4                  assist  21.798258\n",
       "2                  agency  20.559020\n",
       "6                   brand  20.442285\n",
       "7   business intelligence  20.243764\n",
       "13                 google  19.892886\n",
       "26            time series  19.668164\n",
       "8                campaign  19.157839\n",
       "17                   long  18.800642\n",
       "3              artificial  18.585482\n",
       "25                summary  17.974580\n",
       "0           accommodation  17.823593\n",
       "12                 driver  17.529994\n",
       "14             healthcare  17.224884\n",
       "1                activity  17.074708\n",
       "18              marketing  17.010835\n",
       "27                   uber  16.749348\n",
       "24                  study  16.174951\n",
       "19              microsoft  15.643517\n",
       "11                 demand  15.313271\n",
       "9                clinical  15.181390\n",
       "22                   shop  15.043421\n",
       "16             internship  14.330800\n",
       "15                 intern  14.293008\n",
       "28                 united  12.682300\n",
       "23                 states  12.102761\n",
       "29          united states  12.102761"
      ]
     },
     "execution_count": 288,
     "metadata": {},
     "output_type": "execute_result"
    }
   ],
   "source": [
    "words = []\n",
    "counts = []\n",
    "for column in dtm.columns:\n",
    "    words.append(column)\n",
    "    counts.append(dtm[column].sum())\n",
    "\n",
    "words_counts = {'words':words, 'counts':counts}\n",
    "words_counts_df = pd.DataFrame(words_counts).sort_values(by='counts', ascending=False)\n",
    "words_counts_df"
   ]
  },
  {
   "cell_type": "code",
   "execution_count": 290,
   "metadata": {},
   "outputs": [
    {
     "data": {
      "image/png": "[encoded data removed]",
      "text/plain": [
       "<Figure size 432x288 with 1 Axes>"
      ]
     },
     "metadata": {
      "needs_background": "light"
     },
     "output_type": "display_data"
    }
   ],
   "source": [
    "fig = plt.figure()\n",
    "ax = fig.add_axes([0,0,3,1])\n",
    "ax.bar(words_counts_df['words'], words_counts_df['counts'])\n",
    "plt.show()"
   ]
  },
  {
   "cell_type": "code",
   "execution_count": null,
   "metadata": {},
   "outputs": [],
   "source": []
  }
 ],
 "metadata": {
  "colab": {
   "collapsed_sections": [],
   "name": "LS_DS_422_BOW_Assignment.ipynb",
   "provenance": [],
   "version": "0.3.2"
  },
  "kernel_info": {
   "name": "python3"
  },
  "kernelspec": {
   "display_name": "U4-S1-NLP (Python3)",
   "language": "python",
   "name": "u4-s1-nlp"
  },
  "language_info": {
   "codemirror_mode": {
    "name": "ipython",
    "version": 3
   },
   "file_extension": ".py",
   "mimetype": "text/x-python",
   "name": "python",
   "nbconvert_exporter": "python",
   "pygments_lexer": "ipython3",
   "version": "3.7.0"
  },
  "nteract": {
   "version": "0.14.3"
  }
 },
 "nbformat": 4,
 "nbformat_minor": 4
}
